{
 "cells": [
  {
   "attachments": {},
   "cell_type": "markdown",
   "metadata": {
    "datalore": {
     "hide_input_from_viewers": false,
     "hide_output_from_viewers": false,
     "node_id": "bFSCCScndGsumWILsLXwKd",
     "report_properties": {
      "y": 0
     },
     "type": "MD"
    }
   },
   "source": [
    "# Final Project Python S7: Spambase Dataset"
   ]
  },
  {
   "attachments": {},
   "cell_type": "markdown",
   "metadata": {
    "datalore": {
     "hide_input_from_viewers": false,
     "hide_output_from_viewers": false,
     "node_id": "DIMhdAHkgq6qzQktJdFxCo",
     "report_properties": {
      "y": 4
     },
     "type": "MD"
    }
   },
   "source": [
    "Chloé DEPERTHES, Victoria GAUTHIER, Rémi KALBE"
   ]
  },
  {
   "attachments": {},
   "cell_type": "markdown",
   "metadata": {
    "datalore": {
     "hide_input_from_viewers": false,
     "hide_output_from_viewers": false,
     "node_id": "HtREfeOytpV89XbV8yKfs0",
     "report_properties": {
      "y": 7
     },
     "type": "MD"
    }
   },
   "source": [
    "## Beforehand"
   ]
  },
  {
   "attachments": {},
   "cell_type": "markdown",
   "metadata": {
    "datalore": {
     "hide_input_from_viewers": false,
     "hide_output_from_viewers": false,
     "node_id": "NsBIvXQ1C7m9yWOFgF0xDz",
     "report_properties": {
      "y": 10
     },
     "type": "MD"
    }
   },
   "source": [
    "#### Imports"
   ]
  },
  {
   "cell_type": "code",
   "execution_count": 1,
   "metadata": {
    "datalore": {
     "hide_input_from_viewers": false,
     "hide_output_from_viewers": false,
     "node_id": "F5xdZDUsI7F8CsTw21a12i",
     "report_properties": {
      "y": 13
     },
     "type": "CODE"
    }
   },
   "outputs": [],
   "source": [
    "import pandas as pd\n",
    "from sklearn.model_selection import train_test_split\n",
    "from sklearn.preprocessing import StandardScaler\n",
    "import seaborn as sns\n",
    "import numpy as np\n",
    "import matplotlib.pyplot as plt\n",
    "from matplotlib.pyplot import figure\n",
    "from pylab import rcParams"
   ]
  },
  {
   "attachments": {},
   "cell_type": "markdown",
   "metadata": {
    "datalore": {
     "hide_input_from_viewers": false,
     "hide_output_from_viewers": false,
     "node_id": "ZS81o4UoBDeE3WtTdWOYzR",
     "report_properties": {
      "y": 19
     },
     "type": "MD"
    }
   },
   "source": [
    "#### Naming columns"
   ]
  },
  {
   "attachments": {},
   "cell_type": "markdown",
   "metadata": {
    "datalore": {
     "hide_input_from_viewers": false,
     "hide_output_from_viewers": false,
     "node_id": "diwEe1Oe7mdpyDyGY5wMtJ",
     "report_properties": {
      "y": 22
     },
     "type": "MD"
    }
   },
   "source": [
    "The name of each column is defined in a separated file named `spambase.names`, from this file we are going to extract the column names. We also noticed that it was missing the last column which defines if it was spam or not, so we manually added it at the end."
   ]
  },
  {
   "cell_type": "code",
   "execution_count": 2,
   "metadata": {
    "datalore": {
     "hide_input_from_viewers": false,
     "hide_output_from_viewers": false,
     "node_id": "MSDFH8I6rb7HtK3q8fo4m9",
     "report_properties": {
      "y": 26
     },
     "type": "CODE"
    }
   },
   "outputs": [
    {
     "data": {
      "text/plain": [
       "['word_freq_make',\n",
       " 'word_freq_address',\n",
       " 'word_freq_all',\n",
       " 'word_freq_3d',\n",
       " 'word_freq_our',\n",
       " 'word_freq_over',\n",
       " 'word_freq_remove',\n",
       " 'word_freq_internet',\n",
       " 'word_freq_order',\n",
       " 'word_freq_mail',\n",
       " 'word_freq_receive',\n",
       " 'word_freq_will',\n",
       " 'word_freq_people',\n",
       " 'word_freq_report',\n",
       " 'word_freq_addresses',\n",
       " 'word_freq_free',\n",
       " 'word_freq_business',\n",
       " 'word_freq_email',\n",
       " 'word_freq_you',\n",
       " 'word_freq_credit',\n",
       " 'word_freq_your',\n",
       " 'word_freq_font',\n",
       " 'word_freq_000',\n",
       " 'word_freq_money',\n",
       " 'word_freq_hp',\n",
       " 'word_freq_hpl',\n",
       " 'word_freq_george',\n",
       " 'word_freq_650',\n",
       " 'word_freq_lab',\n",
       " 'word_freq_labs',\n",
       " 'word_freq_telnet',\n",
       " 'word_freq_857',\n",
       " 'word_freq_data',\n",
       " 'word_freq_415',\n",
       " 'word_freq_85',\n",
       " 'word_freq_technology',\n",
       " 'word_freq_1999',\n",
       " 'word_freq_parts',\n",
       " 'word_freq_pm',\n",
       " 'word_freq_direct',\n",
       " 'word_freq_cs',\n",
       " 'word_freq_meeting',\n",
       " 'word_freq_original',\n",
       " 'word_freq_project',\n",
       " 'word_freq_re',\n",
       " 'word_freq_edu',\n",
       " 'word_freq_table',\n",
       " 'word_freq_conference',\n",
       " 'char_freq_;',\n",
       " 'char_freq_(',\n",
       " 'char_freq_[',\n",
       " 'char_freq_!',\n",
       " 'char_freq_$',\n",
       " 'char_freq_#',\n",
       " 'capital_run_length_average',\n",
       " 'capital_run_length_longest',\n",
       " 'capital_run_length_total',\n",
       " 'is_spam']"
      ]
     },
     "execution_count": 2,
     "metadata": {},
     "output_type": "execute_result"
    }
   ],
   "source": [
    "with open('./dataset/spambase.names') as f:\n",
    "    namesFile = f.readlines()\n",
    "\n",
    "names = []\n",
    "for line in namesFile:\n",
    "    if not line.startswith(\"|\") and not line.startswith(\"1\") and len(line) > 1:\n",
    "        names.append(line.split(\":\")[0])\n",
    "\n",
    "names.append(\"is_spam\")\n",
    "names"
   ]
  },
  {
   "attachments": {},
   "cell_type": "markdown",
   "metadata": {
    "datalore": {
     "hide_input_from_viewers": false,
     "hide_output_from_viewers": false,
     "node_id": "z9kjsUKWpeJxbKAgnbl2yA",
     "report_properties": {
      "y": 43
     },
     "type": "MD"
    }
   },
   "source": [
    "#### Load dataset"
   ]
  },
  {
   "cell_type": "code",
   "execution_count": 3,
   "metadata": {
    "datalore": {
     "hide_input_from_viewers": false,
     "hide_output_from_viewers": false,
     "node_id": "MnBFhlaqGWApPvp8IbLD3r",
     "report_properties": {
      "y": 46
     },
     "type": "CODE"
    }
   },
   "outputs": [
    {
     "data": {
      "text/html": [
       "<div>\n",
       "<style scoped>\n",
       "    .dataframe tbody tr th:only-of-type {\n",
       "        vertical-align: middle;\n",
       "    }\n",
       "\n",
       "    .dataframe tbody tr th {\n",
       "        vertical-align: top;\n",
       "    }\n",
       "\n",
       "    .dataframe thead th {\n",
       "        text-align: right;\n",
       "    }\n",
       "</style>\n",
       "<table border=\"1\" class=\"dataframe\">\n",
       "  <thead>\n",
       "    <tr style=\"text-align: right;\">\n",
       "      <th></th>\n",
       "      <th>word_freq_make</th>\n",
       "      <th>word_freq_address</th>\n",
       "      <th>word_freq_all</th>\n",
       "      <th>word_freq_3d</th>\n",
       "      <th>word_freq_our</th>\n",
       "      <th>word_freq_over</th>\n",
       "      <th>word_freq_remove</th>\n",
       "      <th>word_freq_internet</th>\n",
       "      <th>word_freq_order</th>\n",
       "      <th>word_freq_mail</th>\n",
       "      <th>...</th>\n",
       "      <th>char_freq_;</th>\n",
       "      <th>char_freq_(</th>\n",
       "      <th>char_freq_[</th>\n",
       "      <th>char_freq_!</th>\n",
       "      <th>char_freq_$</th>\n",
       "      <th>char_freq_#</th>\n",
       "      <th>capital_run_length_average</th>\n",
       "      <th>capital_run_length_longest</th>\n",
       "      <th>capital_run_length_total</th>\n",
       "      <th>is_spam</th>\n",
       "    </tr>\n",
       "  </thead>\n",
       "  <tbody>\n",
       "    <tr>\n",
       "      <th>0</th>\n",
       "      <td>0.21</td>\n",
       "      <td>0.28</td>\n",
       "      <td>0.50</td>\n",
       "      <td>0.0</td>\n",
       "      <td>0.14</td>\n",
       "      <td>0.28</td>\n",
       "      <td>0.21</td>\n",
       "      <td>0.07</td>\n",
       "      <td>0.00</td>\n",
       "      <td>0.94</td>\n",
       "      <td>...</td>\n",
       "      <td>0.000</td>\n",
       "      <td>0.132</td>\n",
       "      <td>0.0</td>\n",
       "      <td>0.372</td>\n",
       "      <td>0.180</td>\n",
       "      <td>0.048</td>\n",
       "      <td>5.114</td>\n",
       "      <td>101</td>\n",
       "      <td>1028</td>\n",
       "      <td>1</td>\n",
       "    </tr>\n",
       "    <tr>\n",
       "      <th>1</th>\n",
       "      <td>0.06</td>\n",
       "      <td>0.00</td>\n",
       "      <td>0.71</td>\n",
       "      <td>0.0</td>\n",
       "      <td>1.23</td>\n",
       "      <td>0.19</td>\n",
       "      <td>0.19</td>\n",
       "      <td>0.12</td>\n",
       "      <td>0.64</td>\n",
       "      <td>0.25</td>\n",
       "      <td>...</td>\n",
       "      <td>0.010</td>\n",
       "      <td>0.143</td>\n",
       "      <td>0.0</td>\n",
       "      <td>0.276</td>\n",
       "      <td>0.184</td>\n",
       "      <td>0.010</td>\n",
       "      <td>9.821</td>\n",
       "      <td>485</td>\n",
       "      <td>2259</td>\n",
       "      <td>1</td>\n",
       "    </tr>\n",
       "    <tr>\n",
       "      <th>2</th>\n",
       "      <td>0.00</td>\n",
       "      <td>0.00</td>\n",
       "      <td>0.00</td>\n",
       "      <td>0.0</td>\n",
       "      <td>0.63</td>\n",
       "      <td>0.00</td>\n",
       "      <td>0.31</td>\n",
       "      <td>0.63</td>\n",
       "      <td>0.31</td>\n",
       "      <td>0.63</td>\n",
       "      <td>...</td>\n",
       "      <td>0.000</td>\n",
       "      <td>0.137</td>\n",
       "      <td>0.0</td>\n",
       "      <td>0.137</td>\n",
       "      <td>0.000</td>\n",
       "      <td>0.000</td>\n",
       "      <td>3.537</td>\n",
       "      <td>40</td>\n",
       "      <td>191</td>\n",
       "      <td>1</td>\n",
       "    </tr>\n",
       "    <tr>\n",
       "      <th>3</th>\n",
       "      <td>0.00</td>\n",
       "      <td>0.00</td>\n",
       "      <td>0.00</td>\n",
       "      <td>0.0</td>\n",
       "      <td>0.63</td>\n",
       "      <td>0.00</td>\n",
       "      <td>0.31</td>\n",
       "      <td>0.63</td>\n",
       "      <td>0.31</td>\n",
       "      <td>0.63</td>\n",
       "      <td>...</td>\n",
       "      <td>0.000</td>\n",
       "      <td>0.135</td>\n",
       "      <td>0.0</td>\n",
       "      <td>0.135</td>\n",
       "      <td>0.000</td>\n",
       "      <td>0.000</td>\n",
       "      <td>3.537</td>\n",
       "      <td>40</td>\n",
       "      <td>191</td>\n",
       "      <td>1</td>\n",
       "    </tr>\n",
       "    <tr>\n",
       "      <th>4</th>\n",
       "      <td>0.00</td>\n",
       "      <td>0.00</td>\n",
       "      <td>0.00</td>\n",
       "      <td>0.0</td>\n",
       "      <td>1.85</td>\n",
       "      <td>0.00</td>\n",
       "      <td>0.00</td>\n",
       "      <td>1.85</td>\n",
       "      <td>0.00</td>\n",
       "      <td>0.00</td>\n",
       "      <td>...</td>\n",
       "      <td>0.000</td>\n",
       "      <td>0.223</td>\n",
       "      <td>0.0</td>\n",
       "      <td>0.000</td>\n",
       "      <td>0.000</td>\n",
       "      <td>0.000</td>\n",
       "      <td>3.000</td>\n",
       "      <td>15</td>\n",
       "      <td>54</td>\n",
       "      <td>1</td>\n",
       "    </tr>\n",
       "    <tr>\n",
       "      <th>...</th>\n",
       "      <td>...</td>\n",
       "      <td>...</td>\n",
       "      <td>...</td>\n",
       "      <td>...</td>\n",
       "      <td>...</td>\n",
       "      <td>...</td>\n",
       "      <td>...</td>\n",
       "      <td>...</td>\n",
       "      <td>...</td>\n",
       "      <td>...</td>\n",
       "      <td>...</td>\n",
       "      <td>...</td>\n",
       "      <td>...</td>\n",
       "      <td>...</td>\n",
       "      <td>...</td>\n",
       "      <td>...</td>\n",
       "      <td>...</td>\n",
       "      <td>...</td>\n",
       "      <td>...</td>\n",
       "      <td>...</td>\n",
       "      <td>...</td>\n",
       "    </tr>\n",
       "    <tr>\n",
       "      <th>4595</th>\n",
       "      <td>0.31</td>\n",
       "      <td>0.00</td>\n",
       "      <td>0.62</td>\n",
       "      <td>0.0</td>\n",
       "      <td>0.00</td>\n",
       "      <td>0.31</td>\n",
       "      <td>0.00</td>\n",
       "      <td>0.00</td>\n",
       "      <td>0.00</td>\n",
       "      <td>0.00</td>\n",
       "      <td>...</td>\n",
       "      <td>0.000</td>\n",
       "      <td>0.232</td>\n",
       "      <td>0.0</td>\n",
       "      <td>0.000</td>\n",
       "      <td>0.000</td>\n",
       "      <td>0.000</td>\n",
       "      <td>1.142</td>\n",
       "      <td>3</td>\n",
       "      <td>88</td>\n",
       "      <td>0</td>\n",
       "    </tr>\n",
       "    <tr>\n",
       "      <th>4596</th>\n",
       "      <td>0.00</td>\n",
       "      <td>0.00</td>\n",
       "      <td>0.00</td>\n",
       "      <td>0.0</td>\n",
       "      <td>0.00</td>\n",
       "      <td>0.00</td>\n",
       "      <td>0.00</td>\n",
       "      <td>0.00</td>\n",
       "      <td>0.00</td>\n",
       "      <td>0.00</td>\n",
       "      <td>...</td>\n",
       "      <td>0.000</td>\n",
       "      <td>0.000</td>\n",
       "      <td>0.0</td>\n",
       "      <td>0.353</td>\n",
       "      <td>0.000</td>\n",
       "      <td>0.000</td>\n",
       "      <td>1.555</td>\n",
       "      <td>4</td>\n",
       "      <td>14</td>\n",
       "      <td>0</td>\n",
       "    </tr>\n",
       "    <tr>\n",
       "      <th>4597</th>\n",
       "      <td>0.30</td>\n",
       "      <td>0.00</td>\n",
       "      <td>0.30</td>\n",
       "      <td>0.0</td>\n",
       "      <td>0.00</td>\n",
       "      <td>0.00</td>\n",
       "      <td>0.00</td>\n",
       "      <td>0.00</td>\n",
       "      <td>0.00</td>\n",
       "      <td>0.00</td>\n",
       "      <td>...</td>\n",
       "      <td>0.102</td>\n",
       "      <td>0.718</td>\n",
       "      <td>0.0</td>\n",
       "      <td>0.000</td>\n",
       "      <td>0.000</td>\n",
       "      <td>0.000</td>\n",
       "      <td>1.404</td>\n",
       "      <td>6</td>\n",
       "      <td>118</td>\n",
       "      <td>0</td>\n",
       "    </tr>\n",
       "    <tr>\n",
       "      <th>4598</th>\n",
       "      <td>0.96</td>\n",
       "      <td>0.00</td>\n",
       "      <td>0.00</td>\n",
       "      <td>0.0</td>\n",
       "      <td>0.32</td>\n",
       "      <td>0.00</td>\n",
       "      <td>0.00</td>\n",
       "      <td>0.00</td>\n",
       "      <td>0.00</td>\n",
       "      <td>0.00</td>\n",
       "      <td>...</td>\n",
       "      <td>0.000</td>\n",
       "      <td>0.057</td>\n",
       "      <td>0.0</td>\n",
       "      <td>0.000</td>\n",
       "      <td>0.000</td>\n",
       "      <td>0.000</td>\n",
       "      <td>1.147</td>\n",
       "      <td>5</td>\n",
       "      <td>78</td>\n",
       "      <td>0</td>\n",
       "    </tr>\n",
       "    <tr>\n",
       "      <th>4599</th>\n",
       "      <td>0.00</td>\n",
       "      <td>0.00</td>\n",
       "      <td>0.65</td>\n",
       "      <td>0.0</td>\n",
       "      <td>0.00</td>\n",
       "      <td>0.00</td>\n",
       "      <td>0.00</td>\n",
       "      <td>0.00</td>\n",
       "      <td>0.00</td>\n",
       "      <td>0.00</td>\n",
       "      <td>...</td>\n",
       "      <td>0.000</td>\n",
       "      <td>0.000</td>\n",
       "      <td>0.0</td>\n",
       "      <td>0.125</td>\n",
       "      <td>0.000</td>\n",
       "      <td>0.000</td>\n",
       "      <td>1.250</td>\n",
       "      <td>5</td>\n",
       "      <td>40</td>\n",
       "      <td>0</td>\n",
       "    </tr>\n",
       "  </tbody>\n",
       "</table>\n",
       "<p>4600 rows × 58 columns</p>\n",
       "</div>"
      ],
      "text/plain": [
       "      word_freq_make  word_freq_address  word_freq_all  word_freq_3d  \\\n",
       "0               0.21               0.28           0.50           0.0   \n",
       "1               0.06               0.00           0.71           0.0   \n",
       "2               0.00               0.00           0.00           0.0   \n",
       "3               0.00               0.00           0.00           0.0   \n",
       "4               0.00               0.00           0.00           0.0   \n",
       "...              ...                ...            ...           ...   \n",
       "4595            0.31               0.00           0.62           0.0   \n",
       "4596            0.00               0.00           0.00           0.0   \n",
       "4597            0.30               0.00           0.30           0.0   \n",
       "4598            0.96               0.00           0.00           0.0   \n",
       "4599            0.00               0.00           0.65           0.0   \n",
       "\n",
       "      word_freq_our  word_freq_over  word_freq_remove  word_freq_internet  \\\n",
       "0              0.14            0.28              0.21                0.07   \n",
       "1              1.23            0.19              0.19                0.12   \n",
       "2              0.63            0.00              0.31                0.63   \n",
       "3              0.63            0.00              0.31                0.63   \n",
       "4              1.85            0.00              0.00                1.85   \n",
       "...             ...             ...               ...                 ...   \n",
       "4595           0.00            0.31              0.00                0.00   \n",
       "4596           0.00            0.00              0.00                0.00   \n",
       "4597           0.00            0.00              0.00                0.00   \n",
       "4598           0.32            0.00              0.00                0.00   \n",
       "4599           0.00            0.00              0.00                0.00   \n",
       "\n",
       "      word_freq_order  word_freq_mail  ...  char_freq_;  char_freq_(  \\\n",
       "0                0.00            0.94  ...        0.000        0.132   \n",
       "1                0.64            0.25  ...        0.010        0.143   \n",
       "2                0.31            0.63  ...        0.000        0.137   \n",
       "3                0.31            0.63  ...        0.000        0.135   \n",
       "4                0.00            0.00  ...        0.000        0.223   \n",
       "...               ...             ...  ...          ...          ...   \n",
       "4595             0.00            0.00  ...        0.000        0.232   \n",
       "4596             0.00            0.00  ...        0.000        0.000   \n",
       "4597             0.00            0.00  ...        0.102        0.718   \n",
       "4598             0.00            0.00  ...        0.000        0.057   \n",
       "4599             0.00            0.00  ...        0.000        0.000   \n",
       "\n",
       "      char_freq_[  char_freq_!  char_freq_$  char_freq_#  \\\n",
       "0             0.0        0.372        0.180        0.048   \n",
       "1             0.0        0.276        0.184        0.010   \n",
       "2             0.0        0.137        0.000        0.000   \n",
       "3             0.0        0.135        0.000        0.000   \n",
       "4             0.0        0.000        0.000        0.000   \n",
       "...           ...          ...          ...          ...   \n",
       "4595          0.0        0.000        0.000        0.000   \n",
       "4596          0.0        0.353        0.000        0.000   \n",
       "4597          0.0        0.000        0.000        0.000   \n",
       "4598          0.0        0.000        0.000        0.000   \n",
       "4599          0.0        0.125        0.000        0.000   \n",
       "\n",
       "      capital_run_length_average  capital_run_length_longest  \\\n",
       "0                          5.114                         101   \n",
       "1                          9.821                         485   \n",
       "2                          3.537                          40   \n",
       "3                          3.537                          40   \n",
       "4                          3.000                          15   \n",
       "...                          ...                         ...   \n",
       "4595                       1.142                           3   \n",
       "4596                       1.555                           4   \n",
       "4597                       1.404                           6   \n",
       "4598                       1.147                           5   \n",
       "4599                       1.250                           5   \n",
       "\n",
       "      capital_run_length_total  is_spam  \n",
       "0                         1028        1  \n",
       "1                         2259        1  \n",
       "2                          191        1  \n",
       "3                          191        1  \n",
       "4                           54        1  \n",
       "...                        ...      ...  \n",
       "4595                        88        0  \n",
       "4596                        14        0  \n",
       "4597                       118        0  \n",
       "4598                        78        0  \n",
       "4599                        40        0  \n",
       "\n",
       "[4600 rows x 58 columns]"
      ]
     },
     "execution_count": 3,
     "metadata": {},
     "output_type": "execute_result"
    }
   ],
   "source": [
    "df = pd.read_csv(\"./dataset/spambase.data\")\n",
    "df.columns = names\n",
    "df"
   ]
  },
  {
   "attachments": {},
   "cell_type": "markdown",
   "metadata": {
    "datalore": {
     "hide_input_from_viewers": false,
     "hide_output_from_viewers": false,
     "node_id": "Zn8W6z3qhq3T1GkomlJaSI",
     "report_properties": {
      "y": 61
     },
     "type": "MD"
    }
   },
   "source": [
    "## Data preparation"
   ]
  },
  {
   "attachments": {},
   "cell_type": "markdown",
   "metadata": {
    "datalore": {
     "hide_input_from_viewers": false,
     "hide_output_from_viewers": false,
     "node_id": "YTc085JfhV0JOAh4rK6ayv",
     "report_properties": {
      "y": 64
     },
     "type": "MD"
    }
   },
   "source": [
    "#### Cleaning columns"
   ]
  },
  {
   "cell_type": "code",
   "execution_count": 4,
   "metadata": {
    "datalore": {
     "hide_input_from_viewers": false,
     "hide_output_from_viewers": false,
     "node_id": "wff1Y0HdjdrmEQq6P5Gsnv",
     "report_properties": {
      "y": 67
     },
     "type": "CODE"
    }
   },
   "outputs": [
    {
     "data": {
      "text/plain": [
       "is_spam                          2\n",
       "word_freq_table                 38\n",
       "word_freq_3d                    43\n",
       "word_freq_parts                 53\n",
       "word_freq_font                  99\n",
       "word_freq_conference           106\n",
       "word_freq_857                  106\n",
       "word_freq_cs                   108\n",
       "word_freq_415                  110\n",
       "word_freq_receive              113\n",
       "word_freq_addresses            118\n",
       "word_freq_direct               125\n",
       "word_freq_telnet               128\n",
       "word_freq_report               133\n",
       "word_freq_original             136\n",
       "word_freq_over                 141\n",
       "word_freq_make                 142\n",
       "word_freq_money                143\n",
       "word_freq_order                144\n",
       "word_freq_credit               148\n",
       "word_freq_lab                  156\n",
       "word_freq_people               158\n",
       "word_freq_technology           159\n",
       "word_freq_project              160\n",
       "word_freq_pm                   163\n",
       "word_freq_000                  164\n",
       "word_freq_internet             170\n",
       "word_freq_address              171\n",
       "word_freq_remove               173\n",
       "word_freq_85                   177\n",
       "word_freq_labs                 179\n",
       "word_freq_data                 184\n",
       "word_freq_meeting              186\n",
       "word_freq_1999                 188\n",
       "word_freq_business             197\n",
       "word_freq_650                  200\n",
       "word_freq_all                  214\n",
       "char_freq_[                    225\n",
       "word_freq_edu                  227\n",
       "word_freq_email                229\n",
       "word_freq_re                   230\n",
       "word_freq_george               240\n",
       "word_freq_mail                 245\n",
       "word_freq_free                 253\n",
       "word_freq_our                  255\n",
       "capital_run_length_longest     271\n",
       "word_freq_hpl                  281\n",
       "char_freq_;                    313\n",
       "word_freq_will                 316\n",
       "char_freq_#                    316\n",
       "word_freq_hp                   395\n",
       "word_freq_your                 401\n",
       "char_freq_$                    504\n",
       "word_freq_you                  575\n",
       "char_freq_(                    641\n",
       "capital_run_length_total       919\n",
       "char_freq_!                    963\n",
       "capital_run_length_average    2160\n",
       "dtype: int64"
      ]
     },
     "execution_count": 4,
     "metadata": {},
     "output_type": "execute_result"
    }
   ],
   "source": [
    "s = df.nunique()\n",
    "sorted_series = s.sort_values(ascending\n",
    "                              = True)\n",
    "sorted_series\n",
    "# Looking for useless constant columns in the dataset to take out."
   ]
  },
  {
   "attachments": {},
   "cell_type": "markdown",
   "metadata": {
    "datalore": {
     "hide_input_from_viewers": false,
     "hide_output_from_viewers": false,
     "node_id": "ye2oPOYScipAXmQkrf02Qg",
     "report_properties": {
      "y": 96
     },
     "type": "MD"
    }
   },
   "source": [
    "There are no constant columns: at least two different values are taken in each column so they all may still influence the y response."
   ]
  },
  {
   "cell_type": "code",
   "execution_count": 5,
   "metadata": {
    "datalore": {
     "hide_input_from_viewers": false,
     "hide_output_from_viewers": false,
     "node_id": "hpJz5UKalbfuod96pIYxKh",
     "report_properties": {
      "y": 100
     },
     "type": "CODE"
    }
   },
   "outputs": [],
   "source": [
    "df = df.apply(pd.to_numeric)\n",
    "df = df[~df.isin([np.nan, np.inf, -np.inf]).any(1)].astype(np.float64)\n",
    "# Making sure we only have float numerics"
   ]
  },
  {
   "attachments": {},
   "cell_type": "markdown",
   "metadata": {
    "datalore": {
     "hide_input_from_viewers": false,
     "hide_output_from_viewers": false,
     "node_id": "5g8am6wbdDKVxZ7KMUoTvo",
     "report_properties": {
      "y": 104
     },
     "type": "MD"
    }
   },
   "source": [
    "#### Data info: "
   ]
  },
  {
   "cell_type": "code",
   "execution_count": 6,
   "metadata": {
    "datalore": {
     "hide_input_from_viewers": false,
     "hide_output_from_viewers": false,
     "node_id": "PxXX9jpc5VA8NzuQ89Ftpz",
     "report_properties": {
      "y": 107
     },
     "type": "CODE"
    }
   },
   "outputs": [
    {
     "name": "stdout",
     "output_type": "stream",
     "text": [
      "there are  4600 rows for  58 columns\n"
     ]
    }
   ],
   "source": [
    "print('there are ', df.shape[0], 'rows for ', df.shape[1], 'columns')"
   ]
  },
  {
   "attachments": {},
   "cell_type": "markdown",
   "metadata": {
    "datalore": {
     "hide_input_from_viewers": false,
     "hide_output_from_viewers": false,
     "node_id": "SfrRs4OdIUeOV2JskEUeS3",
     "report_properties": {
      "y": 112
     },
     "type": "MD"
    }
   },
   "source": [
    "\n",
    "##### \n",
    "    \n",
    "    count : Total number of entries\n",
    "    unique : Total number of unique entries\n",
    "    top : Most frequent entry\n",
    "    freq : Frequency of the most frequent entry"
   ]
  },
  {
   "cell_type": "code",
   "execution_count": 7,
   "metadata": {
    "datalore": {
     "hide_input_from_viewers": false,
     "hide_output_from_viewers": false,
     "node_id": "1gQyJ5z9gR1WkD9p14TQ6Y",
     "report_properties": {
      "y": 118
     },
     "type": "CODE"
    }
   },
   "outputs": [
    {
     "name": "stdout",
     "output_type": "stream",
     "text": [
      "       word_freq_make  word_freq_address  word_freq_all  word_freq_3d  \\\n",
      "count     4600.000000        4600.000000    4600.000000   4600.000000   \n",
      "mean         0.104576           0.212922       0.280578      0.065439   \n",
      "std          0.305387           1.290700       0.504170      1.395303   \n",
      "min          0.000000           0.000000       0.000000      0.000000   \n",
      "25%          0.000000           0.000000       0.000000      0.000000   \n",
      "50%          0.000000           0.000000       0.000000      0.000000   \n",
      "75%          0.000000           0.000000       0.420000      0.000000   \n",
      "max          4.540000          14.280000       5.100000     42.810000   \n",
      "\n",
      "       word_freq_our  word_freq_over  word_freq_remove  word_freq_internet  \\\n",
      "count    4600.000000     4600.000000       4600.000000         4600.000000   \n",
      "mean        0.312222        0.095922          0.114233            0.105317   \n",
      "std         0.672586        0.273850          0.391480            0.401112   \n",
      "min         0.000000        0.000000          0.000000            0.000000   \n",
      "25%         0.000000        0.000000          0.000000            0.000000   \n",
      "50%         0.000000        0.000000          0.000000            0.000000   \n",
      "75%         0.382500        0.000000          0.000000            0.000000   \n",
      "max        10.000000        5.880000          7.270000           11.110000   \n",
      "\n",
      "       word_freq_order  word_freq_mail  ...  char_freq_;  char_freq_(  \\\n",
      "count      4600.000000     4600.000000  ...  4600.000000  4600.000000   \n",
      "mean          0.090087        0.239465  ...     0.038583     0.139061   \n",
      "std           0.278643        0.644816  ...     0.243497     0.270377   \n",
      "min           0.000000        0.000000  ...     0.000000     0.000000   \n",
      "25%           0.000000        0.000000  ...     0.000000     0.000000   \n",
      "50%           0.000000        0.000000  ...     0.000000     0.065000   \n",
      "75%           0.000000        0.160000  ...     0.000000     0.188000   \n",
      "max           5.260000       18.180000  ...     4.385000     9.752000   \n",
      "\n",
      "       char_freq_[  char_freq_!  char_freq_$  char_freq_#  \\\n",
      "count  4600.000000  4600.000000  4600.000000  4600.000000   \n",
      "mean      0.016980     0.268960     0.075827     0.044248   \n",
      "std       0.109406     0.815726     0.245906     0.429388   \n",
      "min       0.000000     0.000000     0.000000     0.000000   \n",
      "25%       0.000000     0.000000     0.000000     0.000000   \n",
      "50%       0.000000     0.000000     0.000000     0.000000   \n",
      "75%       0.000000     0.314250     0.052000     0.000000   \n",
      "max       4.081000    32.478000     6.003000    19.829000   \n",
      "\n",
      "       capital_run_length_average  capital_run_length_longest  \\\n",
      "count                 4600.000000                 4600.000000   \n",
      "mean                     5.191827                   52.170870   \n",
      "std                     31.732891                  194.912453   \n",
      "min                      1.000000                    1.000000   \n",
      "25%                      1.588000                    6.000000   \n",
      "50%                      2.275500                   15.000000   \n",
      "75%                      3.705250                   43.000000   \n",
      "max                   1102.500000                 9989.000000   \n",
      "\n",
      "       capital_run_length_total      is_spam  \n",
      "count               4600.000000  4600.000000  \n",
      "mean                 283.290435     0.393913  \n",
      "std                  606.413764     0.488669  \n",
      "min                    1.000000     0.000000  \n",
      "25%                   35.000000     0.000000  \n",
      "50%                   95.000000     0.000000  \n",
      "75%                  265.250000     1.000000  \n",
      "max                15841.000000     1.000000  \n",
      "\n",
      "[8 rows x 58 columns]\n",
      "1\n"
     ]
    }
   ],
   "source": [
    "stats = df.describe(include = 'all')\n",
    "print(stats)\n",
    "print(stats.iloc[0].isnull().nunique())"
   ]
  },
  {
   "attachments": {},
   "cell_type": "markdown",
   "metadata": {
    "datalore": {
     "hide_input_from_viewers": false,
     "hide_output_from_viewers": false,
     "node_id": "uU5TN20d85eDxXZG2CJcDW",
     "report_properties": {
      "y": 132
     },
     "type": "MD"
    }
   },
   "source": [
    "There are therefore no null values."
   ]
  },
  {
   "attachments": {},
   "cell_type": "markdown",
   "metadata": {
    "datalore": {
     "hide_input_from_viewers": false,
     "hide_output_from_viewers": false,
     "node_id": "iGdU3LDJrtA1LGsE2XYcIE",
     "report_properties": {
      "y": 135
     },
     "type": "MD"
    }
   },
   "source": [
    "## Data visualization"
   ]
  },
  {
   "attachments": {},
   "cell_type": "markdown",
   "metadata": {
    "datalore": {
     "hide_input_from_viewers": false,
     "hide_output_from_viewers": false,
     "node_id": "Kxz9bxXpvcmu6TcKrt7TXp",
     "report_properties": {
      "y": 138
     },
     "type": "MD"
    }
   },
   "source": [
    "### Raw Data : Spam and not spam (Class column)"
   ]
  },
  {
   "attachments": {},
   "cell_type": "markdown",
   "metadata": {
    "datalore": {
     "hide_input_from_viewers": false,
     "hide_output_from_viewers": false,
     "node_id": "74XRAhfbKjTq4O8dMFuLQg",
     "report_properties": {
      "y": 141
     },
     "type": "MD"
    }
   },
   "source": [
    "How many of the dataset's e-mails are spam? How many are not?"
   ]
  },
  {
   "cell_type": "code",
   "execution_count": 8,
   "metadata": {
    "datalore": {
     "hide_input_from_viewers": false,
     "hide_output_from_viewers": false,
     "node_id": "mlIQStJTT8KTWT8sQjVdQy",
     "report_properties": {
      "y": 144
     },
     "type": "CODE"
    }
   },
   "outputs": [
    {
     "data": {
      "image/png": "[encoded data removed]",
      "text/plain": [
       "<Figure size 432x288 with 1 Axes>"
      ]
     },
     "metadata": {},
     "output_type": "display_data"
    },
    {
     "name": "stdout",
     "output_type": "stream",
     "text": [
      "0.0    2788\n",
      "1.0    1812\n",
      "Name: is_spam, dtype: int64\n"
     ]
    }
   ],
   "source": [
    "#pie data\n",
    "label= df[\"is_spam\"].unique()\n",
    "data = df[\"is_spam\"].value_counts() \n",
    "\n",
    "# Creating plot\n",
    "fig = plt.figure()\n",
    "plt.pie(data, labels = label, radius = 0.5)\n",
    "\n",
    "# show plot\n",
    "plt.show()\n",
    "print(data)\n"
   ]
  },
  {
   "attachments": {},
   "cell_type": "markdown",
   "metadata": {
    "datalore": {
     "hide_input_from_viewers": false,
     "hide_output_from_viewers": false,
     "node_id": "M0QapCrHrUWd7AtwBDZl7n",
     "report_properties": {
      "y": 175
     },
     "type": "MD"
    }
   },
   "source": [
    "### Visualization of the link between data and target"
   ]
  },
  {
   "attachments": {},
   "cell_type": "markdown",
   "metadata": {
    "datalore": {
     "hide_input_from_viewers": false,
     "hide_output_from_viewers": false,
     "node_id": "UPQSnX9RIc5VUSVAljN4wu",
     "report_properties": {
      "y": 178
     },
     "type": "MD"
    }
   },
   "source": [
    "#### Raw explanatory variable column data / raw Class column data"
   ]
  },
  {
   "attachments": {},
   "cell_type": "markdown",
   "metadata": {
    "datalore": {
     "hide_input_from_viewers": false,
     "hide_output_from_viewers": false,
     "node_id": "ethCll5OnNul39aj6BaN7b",
     "report_properties": {
      "y": 181
     },
     "type": "MD"
    }
   },
   "source": [
    "For `word_freq_internet`: Graph of the `is_spam` feature in function of the values taken by the column with the frequence of the word 'internet'."
   ]
  },
  {
   "cell_type": "code",
   "execution_count": 9,
   "metadata": {
    "datalore": {
     "hide_input_from_viewers": false,
     "hide_output_from_viewers": false,
     "node_id": "rcsbKofuj6PIeO5GwlTy0k",
     "report_properties": {
      "y": 185
     },
     "type": "CODE"
    }
   },
   "outputs": [
    {
     "data": {
      "image/png": "[encoded data removed]",
      "text/plain": [
       "<Figure size 432x288 with 1 Axes>"
      ]
     },
     "metadata": {
      "needs_background": "light"
     },
     "output_type": "display_data"
    }
   ],
   "source": [
    "plt.scatter(df['word_freq_our'],df['is_spam'])\n",
    "plt.title(\"Spam or not, in function of the frequence of the word 'our':\")\n",
    "plt.xlabel('word_freq_our')\n",
    "plt.ylabel(\"Spam=1, Not spam=0\")\n",
    "plt.show()"
   ]
  },
  {
   "attachments": {},
   "cell_type": "markdown",
   "metadata": {
    "datalore": {
     "hide_input_from_viewers": false,
     "hide_output_from_viewers": false,
     "node_id": "VOCwzPpnSV9go5v3cjKDiQ",
     "report_properties": {
      "y": 200
     },
     "type": "MD"
    }
   },
   "source": [
    "The link between the variables and the spam/not spam characteristic is not clear.\n",
    "The data needs to be binned by average."
   ]
  },
  {
   "attachments": {},
   "cell_type": "markdown",
   "metadata": {
    "datalore": {
     "hide_input_from_viewers": false,
     "hide_output_from_viewers": false,
     "node_id": "QTEFX7nESib38hcQb8qDaW",
     "report_properties": {
      "y": 204
     },
     "type": "MD"
    }
   },
   "source": [
    "#### Binning / Bucketing + Aggregation"
   ]
  },
  {
   "cell_type": "code",
   "execution_count": 10,
   "metadata": {
    "datalore": {
     "hide_input_from_viewers": false,
     "hide_output_from_viewers": false,
     "node_id": "JnpiJw5pc0eVjMa1x2LGBe",
     "report_properties": {
      "y": 207
     },
     "type": "CODE"
    }
   },
   "outputs": [
    {
     "name": "stdout",
     "output_type": "stream",
     "text": [
      "\n",
      " With word_freq_make\n",
      "min 0.0 max 4.54 distance 4.54 step 0.454\n",
      "\n",
      "                word_freq_make   is_spam\n",
      "                         mean      mean\n",
      "(0.0, 0.454]         0.204807  0.593472\n",
      "(0.454, 0.908]       0.638075  0.705660\n",
      "(0.908, 1.362]       1.097183  0.563380\n",
      "(1.362, 1.816]       1.547143  0.571429\n",
      "(1.816, 2.27]        2.036000  0.066667\n",
      "(2.27, 2.724]        2.348000  0.800000\n",
      "(2.724, 3.178]       2.855000  0.000000\n",
      "(3.632, 4.086]       3.926667  0.000000\n",
      "(4.086, 4.54]        4.440000  0.500000 \n",
      "\n",
      "\n",
      " With word_freq_address\n",
      "min 0.0 max 14.28 distance 14.28 step 1.428\n",
      "\n",
      "                 word_freq_address   is_spam\n",
      "                             mean      mean\n",
      "(0.0, 1.428]             0.410733  0.747826\n",
      "(1.428, 2.856]           1.934651  0.441860\n",
      "(2.856, 4.284]           3.521250  0.125000\n",
      "(4.284, 5.712]           4.923333  0.666667\n",
      "(5.712, 7.14]            6.675000  0.000000\n",
      "(8.568, 9.996]           9.520000  0.000000\n",
      "(12.852, 14.28]         14.280000  0.000000 \n",
      "\n",
      "\n",
      " With word_freq_all\n",
      "min 0.0 max 5.1 distance 5.1 step 0.51\n",
      "\n",
      "              word_freq_all   is_spam\n",
      "                      mean      mean\n",
      "(0.0, 0.51]       0.289678  0.551609\n",
      "(0.51, 1.02]      0.717339  0.686614\n",
      "(1.02, 1.53]      1.231208  0.613527\n",
      "(1.53, 2.04]      1.742651  0.469880\n",
      "(2.04, 2.55]      2.291034  0.275862\n",
      "(2.55, 3.06]      2.813077  0.307692\n",
      "(3.06, 3.57]      3.415000  0.125000\n",
      "(3.57, 4.08]      3.792500  0.250000\n",
      "(4.08, 4.59]      4.440000  0.000000\n",
      "(4.59, 5.1]       5.100000  0.000000 \n",
      "\n",
      "\n",
      " With word_freq_3d\n",
      "min 0.0 max 42.81 distance 42.81 step 4.281000000000001\n",
      "\n",
      "                  word_freq_3d   is_spam\n",
      "                         mean      mean\n",
      "(0.0, 4.281]         0.563529  0.764706\n",
      "(4.281, 8.562]       5.897500  1.000000\n",
      "(8.562, 12.843]      9.160000  1.000000\n",
      "(12.843, 17.124]    13.630000  1.000000\n",
      "(17.124, 21.405]    19.445000  1.000000\n",
      "(34.248, 38.529]    35.460000  1.000000\n",
      "(38.529, 42.81]     41.890000  1.000000 \n",
      "\n",
      "\n",
      " With word_freq_our\n",
      "min 0.0 max 10.0 distance 10.0 step 1.0\n",
      "\n",
      "             word_freq_our   is_spam\n",
      "                     mean      mean\n",
      "(0.0, 1.0]       0.443780  0.627559\n",
      "(1.0, 2.0]       1.365112  0.748603\n",
      "(2.0, 3.0]       2.385616  0.657534\n",
      "(3.0, 4.0]       3.407083  0.541667\n",
      "(4.0, 5.0]       4.539091  0.363636\n",
      "(5.0, 6.0]       5.405000  0.000000\n",
      "(6.0, 7.0]       6.250000  0.500000\n",
      "(7.0, 8.0]       7.415000  0.500000\n",
      "(8.0, 9.0]       8.330000  0.000000\n",
      "(9.0, 10.0]      9.545000  0.000000 \n",
      "\n",
      "\n",
      " With word_freq_over\n",
      "min 0.0 max 5.88 distance 5.88 step 0.588\n",
      "\n",
      "                word_freq_over   is_spam\n",
      "                         mean      mean\n",
      "(0.0, 0.588]         0.251814  0.649386\n",
      "(0.588, 1.176]       0.783907  0.786047\n",
      "(1.176, 1.764]       1.344167  0.750000\n",
      "(1.764, 2.352]       2.037500  1.000000\n",
      "(2.352, 2.94]        2.635000  0.250000\n",
      "(2.94, 3.528]        3.440000  0.000000\n",
      "(3.528, 4.116]       3.570000  0.000000\n",
      "(5.292, 5.88]        5.880000  0.000000 \n",
      "\n",
      "\n",
      " With word_freq_remove\n",
      "min 0.0 max 7.27 distance 7.27 step 0.727\n",
      "\n",
      "                word_freq_remove   is_spam\n",
      "                           mean      mean\n",
      "(0.0, 0.727]           0.311820  0.938163\n",
      "(0.727, 1.454]         1.015987  0.980892\n",
      "(1.454, 2.181]         1.713333  0.958333\n",
      "(2.181, 2.908]         2.314348  0.913043\n",
      "(2.908, 3.635]         3.062857  0.857143\n",
      "(3.635, 4.362]         4.040000  1.000000\n",
      "(4.362, 5.089]         4.540000  1.000000\n",
      "(5.089, 5.816]         5.400000  1.000000\n",
      "(6.543, 7.27]          7.270000  1.000000 \n",
      "\n",
      "\n",
      " With word_freq_internet\n",
      "min 0.0 max 11.11 distance 11.11 step 1.111\n",
      "\n",
      "                word_freq_internet   is_spam\n",
      "                             mean      mean\n",
      "(0.0, 1.111]             0.367175  0.742657\n",
      "(1.111, 2.222]           1.445190  0.810127\n",
      "(2.222, 3.333]           2.800500  0.900000\n",
      "(3.333, 4.444]           3.880000  0.600000\n",
      "(4.444, 5.555]           4.650000  0.500000\n",
      "(5.555, 6.666]           5.970000  0.500000\n",
      "(9.999, 11.11]          11.110000  1.000000 \n",
      "\n",
      "\n",
      " With word_freq_order\n",
      "min 0.0 max 5.26 distance 5.26 step 0.526\n",
      "\n",
      "                word_freq_order   is_spam\n",
      "                          mean      mean\n",
      "(0.0, 0.526]          0.245798  0.678652\n",
      "(0.526, 1.052]        0.720250  0.770833\n",
      "(1.052, 1.578]        1.291408  0.788732\n",
      "(1.578, 2.104]        1.705714  0.714286\n",
      "(2.104, 2.63]         2.387143  0.857143\n",
      "(3.156, 3.682]        3.280000  0.500000\n",
      "(4.734, 5.26]         5.260000  0.000000 \n",
      "\n",
      "\n",
      " With word_freq_mail\n",
      "min 0.0 max 18.18 distance 18.18 step 1.818\n",
      "\n",
      "                  word_freq_mail   is_spam\n",
      "                           mean      mean\n",
      "(0.0, 1.818]           0.639387  0.652101\n",
      "(1.818, 3.636]         2.315122  0.426829\n",
      "(3.636, 5.454]         4.221852  0.555556\n",
      "(7.272, 9.09]          7.550000  1.000000\n",
      "(10.908, 12.726]      11.110000  0.000000\n",
      "(16.362, 18.18]       18.180000  0.000000 \n",
      "\n",
      "\n",
      " With word_freq_receive\n",
      "min 0.0 max 2.61 distance 2.61 step 0.261\n",
      "\n",
      "                word_freq_receive   is_spam\n",
      "                            mean      mean\n",
      "(0.0, 0.261]            0.151254  0.768025\n",
      "(0.261, 0.522]          0.361371  0.854839\n",
      "(0.522, 0.783]          0.650667  0.840000\n",
      "(0.783, 1.044]          0.918095  0.761905\n",
      "(1.044, 1.305]          1.178500  0.850000\n",
      "(1.305, 1.566]          1.434545  0.909091\n",
      "(1.566, 1.827]          1.640000  1.000000\n",
      "(1.827, 2.088]          2.005000  0.083333\n",
      "(2.349, 2.61]           2.610000  1.000000 \n",
      "\n",
      "\n",
      " With word_freq_will\n",
      "min 0.0 max 9.67 distance 9.67 step 0.967\n",
      "\n",
      "                word_freq_will   is_spam\n",
      "                         mean      mean\n",
      "(0.0, 0.967]         0.534300  0.558507\n",
      "(0.967, 1.934]       1.334976  0.458003\n",
      "(1.934, 2.901]       2.304254  0.375691\n",
      "(2.901, 3.868]       3.342879  0.045455\n",
      "(3.868, 4.835]       4.360968  0.032258\n",
      "(4.835, 5.802]       5.232000  0.100000\n",
      "(5.802, 6.769]       6.091111  0.222222\n",
      "(6.769, 7.736]       7.690000  0.000000\n",
      "(8.703, 9.67]        9.670000  0.000000 \n",
      "\n",
      "\n",
      " With word_freq_people\n",
      "min 0.0 max 5.55 distance 5.55 step 0.5549999999999999\n",
      "\n",
      "               word_freq_people   is_spam\n",
      "                          mean      mean\n",
      "(0.0, 0.555]          0.259220  0.603120\n",
      "(0.555, 1.11]         0.760196  0.671569\n",
      "(1.11, 1.665]         1.400851  0.553191\n",
      "(1.665, 2.22]         1.837500  0.333333\n",
      "(2.22, 2.775]         2.505000  0.375000\n",
      "(2.775, 3.33]         2.940000  0.000000 \n",
      "\n",
      "\n",
      " With word_freq_report\n",
      "min 0.0 max 10.0 distance 10.0 step 1.0\n",
      "\n",
      "             word_freq_report   is_spam\n",
      "                        mean      mean\n",
      "(0.0, 1.0]          0.294449  0.661224\n",
      "(1.0, 2.0]          1.326235  0.670588\n",
      "(2.0, 3.0]          2.352632  0.526316\n",
      "(3.0, 4.0]          3.466667  0.333333\n",
      "(4.0, 5.0]          4.550000  0.500000\n",
      "(5.0, 6.0]          5.335000  0.000000\n",
      "(9.0, 10.0]        10.000000  0.000000 \n",
      "\n",
      "\n",
      " With word_freq_addresses\n",
      "min 0.0 max 4.41 distance 4.41 step 0.441\n",
      "\n",
      "                word_freq_addresses   is_spam\n",
      "                              mean      mean\n",
      "(0.0, 0.441]              0.170330  0.813187\n",
      "(0.441, 0.882]            0.642931  0.913793\n",
      "(0.882, 1.323]            1.128437  0.843750\n",
      "(1.323, 1.764]            1.559677  0.870968\n",
      "(1.764, 2.205]            2.026000  1.000000\n",
      "(2.205, 2.646]            2.248750  0.937500\n",
      "(2.646, 3.087]            2.860000  1.000000\n",
      "(3.969, 4.41]             4.410000  1.000000 \n",
      "\n",
      "\n",
      " With word_freq_free\n",
      "min 0.0 max 20.0 distance 20.0 step 2.0\n",
      "\n",
      "              word_freq_free   is_spam\n",
      "                       mean      mean\n",
      "(0.0, 2.0]         0.610921  0.786225\n",
      "(2.0, 4.0]         2.716105  0.894737\n",
      "(4.0, 6.0]         4.925833  1.000000\n",
      "(6.0, 8.0]         6.766000  0.900000\n",
      "(8.0, 10.0]       10.000000  1.000000\n",
      "(10.0, 12.0]      10.160000  1.000000\n",
      "(16.0, 18.0]      16.660000  1.000000\n",
      "(18.0, 20.0]      20.000000  0.000000 \n",
      "\n",
      "\n",
      " With word_freq_business\n",
      "min 0.0 max 7.14 distance 7.14 step 0.714\n",
      "\n",
      "                word_freq_business   is_spam\n",
      "                             mean      mean\n",
      "(0.0, 0.714]             0.335436  0.689808\n",
      "(0.714, 1.428]           0.971366  0.786885\n",
      "(1.428, 2.142]           1.684909  0.763636\n",
      "(2.142, 2.856]           2.664737  0.894737\n",
      "(2.856, 3.57]            3.185000  0.888889\n",
      "(3.57, 4.284]            3.812000  1.000000\n",
      "(4.284, 4.998]           4.726667  1.000000\n",
      "(4.998, 5.712]           5.090000  1.000000\n",
      "(6.426, 7.14]            7.140000  1.000000 \n",
      "\n",
      "\n",
      " With word_freq_email\n",
      "min 0.0 max 9.09 distance 9.09 step 0.909\n",
      "\n",
      "                word_freq_email   is_spam\n",
      "                          mean      mean\n",
      "(0.0, 0.909]          0.391619  0.642045\n",
      "(0.909, 1.818]        1.299494  0.738397\n",
      "(1.818, 2.727]        2.097538  0.646154\n",
      "(2.727, 3.636]        3.225882  0.411765\n",
      "(3.636, 4.545]        4.178333  0.666667\n",
      "(4.545, 5.454]        5.070000  1.000000\n",
      "(6.363, 7.272]        6.660000  1.000000\n",
      "(7.272, 8.181]        7.690000  0.000000\n",
      "(8.181, 9.09]         9.090000  1.000000 \n",
      "\n",
      "\n",
      " With word_freq_you\n",
      "min 0.0 max 18.75 distance 18.75 step 1.875\n",
      "\n",
      "                 word_freq_you   is_spam\n",
      "                         mean      mean\n",
      "(0.0, 1.875]         1.038530  0.389736\n",
      "(1.875, 3.75]        2.699830  0.608414\n",
      "(3.75, 5.625]        4.425837  0.578947\n",
      "(5.625, 7.5]         6.444778  0.511111\n",
      "(7.5, 9.375]         8.278929  0.107143\n",
      "(9.375, 11.25]      10.100000  0.000000\n",
      "(11.25, 13.125]     12.396667  0.666667\n",
      "(13.125, 15.0]      14.186667  0.000000\n",
      "(16.875, 18.75]     18.750000  0.000000 \n",
      "\n",
      "\n",
      " With word_freq_credit\n",
      "min 0.0 max 18.18 distance 18.18 step 1.818\n",
      "\n",
      "                 word_freq_credit   is_spam\n",
      "                            mean      mean\n",
      "(0.0, 1.818]            0.457388  0.873596\n",
      "(1.818, 3.636]          2.555417  0.958333\n",
      "(3.636, 5.454]          4.558824  1.000000\n",
      "(5.454, 7.272]          6.285000  1.000000\n",
      "(16.362, 18.18]        18.180000  1.000000 \n",
      "\n",
      "\n",
      " With word_freq_your\n",
      "min 0.0 max 11.11 distance 11.11 step 1.111\n",
      "\n",
      "                word_freq_your   is_spam\n",
      "                         mean      mean\n",
      "(0.0, 1.111]         0.628821  0.463168\n",
      "(1.111, 2.222]       1.561749  0.719858\n",
      "(2.222, 3.333]       2.754000  0.751613\n",
      "(3.333, 4.444]       3.754681  0.691489\n",
      "(4.444, 5.555]       5.036852  0.870370\n",
      "(5.555, 6.666]       6.354167  0.583333\n",
      "(6.666, 7.777]       7.142500  0.000000\n",
      "(7.777, 8.888]       8.057500  0.000000\n",
      "(8.888, 9.999]       9.305000  0.000000\n",
      "(9.999, 11.11]      10.910000  0.500000 \n",
      "\n",
      "\n",
      " With word_freq_font\n",
      "min 0.0 max 17.1 distance 17.1 step 1.7100000000000002\n",
      "\n",
      "                word_freq_font   is_spam\n",
      "                         mean      mean\n",
      "(0.0, 1.71]          0.666875  0.875000\n",
      "(1.71, 3.42]         2.345000  0.916667\n",
      "(3.42, 5.13]         4.035000  0.833333\n",
      "(5.13, 6.84]         6.255000  0.666667\n",
      "(6.84, 8.55]         7.683333  0.600000\n",
      "(8.55, 10.26]        9.316667  0.722222\n",
      "(10.26, 11.97]      10.740000  0.833333\n",
      "(11.97, 13.68]      12.913333  1.000000\n",
      "(15.39, 17.1]       16.543333  1.000000 \n",
      "\n",
      "\n",
      " With word_freq_000\n",
      "min 0.0 max 5.45 distance 5.45 step 0.545\n",
      "\n",
      "               word_freq_000   is_spam\n",
      "                       mean      mean\n",
      "(0.0, 0.545]       0.284780  0.804945\n",
      "(0.545, 1.09]      0.765949  0.979487\n",
      "(1.09, 1.635]      1.360933  0.986667\n",
      "(1.635, 2.18]      1.893000  0.950000\n",
      "(2.18, 2.725]      2.375714  1.000000\n",
      "(2.725, 3.27]      2.990000  1.000000\n",
      "(3.27, 3.815]      3.487500  1.000000\n",
      "(3.815, 4.36]      4.165000  1.000000\n",
      "(4.36, 4.905]      4.760000  1.000000\n",
      "(4.905, 5.45]      5.450000  1.000000 \n",
      "\n",
      "\n",
      " With word_freq_money\n",
      "min 0.0 max 12.5 distance 12.5 step 1.25\n",
      "\n",
      "               word_freq_money   is_spam\n",
      "                         mean      mean\n",
      "(0.0, 1.25]          0.402358  0.931343\n",
      "(1.25, 2.5]          1.496923  0.884615\n",
      "(2.5, 3.75]          3.470000  1.000000\n",
      "(3.75, 5.0]          4.326667  1.000000\n",
      "(5.0, 6.25]          5.980000  1.000000\n",
      "(6.25, 7.5]          6.660000  1.000000\n",
      "(8.75, 10.0]         9.310000  0.333333\n",
      "(11.25, 12.5]       12.500000  1.000000 \n",
      "\n",
      "\n",
      " With word_freq_hp\n",
      "min 0.0 max 20.83 distance 20.83 step 2.0829999999999997\n",
      "\n",
      "                  word_freq_hp   is_spam\n",
      "                         mean      mean\n",
      "(0.0, 2.083]         0.989191  0.068085\n",
      "(2.083, 4.166]       2.924160  0.008000\n",
      "(4.166, 6.249]       4.963729  0.000000\n",
      "(6.249, 8.332]       7.472500  0.000000\n",
      "(8.332, 10.415]      9.259091  0.000000\n",
      "(10.415, 12.498]    10.993333  0.000000\n",
      "(12.498, 14.581]    13.151250  0.000000\n",
      "(14.581, 16.664]    16.078182  0.000000\n",
      "(16.664, 18.747]    18.180000  0.000000\n",
      "(18.747, 20.83]     20.276667  0.000000 \n",
      "\n",
      "\n",
      " With word_freq_hpl\n",
      "min 0.0 max 16.66 distance 16.66 step 1.666\n",
      "\n",
      "                  word_freq_hpl   is_spam\n",
      "                          mean      mean\n",
      "(0.0, 1.666]          0.759655  0.044828\n",
      "(1.666, 3.332]        2.310915  0.007042\n",
      "(3.332, 4.998]        4.034444  0.000000\n",
      "(4.998, 6.664]        6.042857  0.000000\n",
      "(6.664, 8.33]         7.647143  0.000000\n",
      "(8.33, 9.996]         9.090000  0.000000\n",
      "(9.996, 11.662]      10.860000  0.000000\n",
      "(13.328, 14.994]     14.280000  0.000000\n",
      "(14.994, 16.66]      16.660000  0.000000 \n",
      "\n",
      "\n",
      " With word_freq_george\n",
      "min 0.0 max 33.33 distance 33.33 step 3.3329999999999997\n",
      "\n",
      "                  word_freq_george   is_spam\n",
      "                             mean      mean\n",
      "(0.0, 3.333]             1.151924  0.013746\n",
      "(3.333, 6.666]           4.457000  0.000000\n",
      "(6.666, 9.999]           8.154286  0.000000\n",
      "(9.999, 13.332]         11.596250  0.000000\n",
      "(13.332, 16.665]        15.767500  0.000000\n",
      "(19.998, 23.331]        20.000000  0.000000\n",
      "(23.331, 26.664]        25.000000  0.000000\n",
      "(29.997, 33.33]         33.330000  0.000000 \n",
      "\n",
      "\n",
      " With word_freq_650\n",
      "min 0.0 max 9.09 distance 9.09 step 0.909\n",
      "\n",
      "                word_freq_650   is_spam\n",
      "                        mean      mean\n",
      "(0.0, 0.909]        0.460706  0.090196\n",
      "(0.909, 1.818]      1.309717  0.037736\n",
      "(1.818, 2.727]      2.208367  0.020408\n",
      "(2.727, 3.636]      3.097917  0.000000\n",
      "(3.636, 4.545]      4.126111  0.000000\n",
      "(4.545, 5.454]      4.746250  0.000000\n",
      "(5.454, 6.363]      5.880000  0.000000\n",
      "(8.181, 9.09]       8.710000  1.000000 \n",
      "\n",
      "\n",
      " With word_freq_lab\n",
      "min 0.0 max 14.28 distance 14.28 step 1.428\n",
      "\n",
      "                 word_freq_lab   is_spam\n",
      "                         mean      mean\n",
      "(0.0, 1.428]         0.531368  0.042105\n",
      "(1.428, 2.856]       1.941915  0.000000\n",
      "(2.856, 4.284]       3.575333  0.000000\n",
      "(4.284, 5.712]       4.756875  0.000000\n",
      "(5.712, 7.14]        6.545000  0.000000\n",
      "(7.14, 8.568]        7.545000  0.000000\n",
      "(8.568, 9.996]       9.090000  0.000000\n",
      "(9.996, 11.424]     10.370000  0.000000\n",
      "(12.852, 14.28]     14.280000  0.000000 \n",
      "\n",
      "\n",
      " With word_freq_labs\n",
      "min 0.0 max 5.88 distance 5.88 step 0.588\n",
      "\n",
      "                word_freq_labs   is_spam\n",
      "                         mean      mean\n",
      "(0.0, 0.588]         0.302347  0.056338\n",
      "(0.588, 1.176]       0.831045  0.029851\n",
      "(1.176, 1.764]       1.416875  0.000000\n",
      "(1.764, 2.352]       2.064138  0.034483\n",
      "(2.352, 2.94]        2.680000  0.000000\n",
      "(2.94, 3.528]        3.288000  0.100000\n",
      "(3.528, 4.116]       3.734444  0.000000\n",
      "(4.116, 4.704]       4.292727  0.000000\n",
      "(4.704, 5.292]       4.760000  0.000000\n",
      "(5.292, 5.88]        5.880000  0.000000 \n",
      "\n",
      "\n",
      " With word_freq_telnet\n",
      "min 0.0 max 12.5 distance 12.5 step 1.25\n",
      "\n",
      "               word_freq_telnet   is_spam\n",
      "                          mean      mean\n",
      "(0.0, 1.25]           0.523188  0.008734\n",
      "(1.25, 2.5]           1.639706  0.029412\n",
      "(2.5, 3.75]           2.991538  0.000000\n",
      "(3.75, 5.0]           4.436250  0.000000\n",
      "(11.25, 12.5]        12.500000  0.000000 \n",
      "\n",
      "\n",
      " With word_freq_857\n",
      "min 0.0 max 4.76 distance 4.76 step 0.476\n",
      "\n",
      "                word_freq_857   is_spam\n",
      "                        mean      mean\n",
      "(0.0, 0.476]        0.294853  0.029412\n",
      "(0.476, 0.952]      0.671750  0.000000\n",
      "(0.952, 1.428]      1.171000  0.000000\n",
      "(1.428, 1.904]      1.653333  0.000000\n",
      "(1.904, 2.38]       2.168750  0.000000\n",
      "(2.38, 2.856]       2.653333  0.000000\n",
      "(2.856, 3.332]      3.106667  0.000000\n",
      "(3.332, 3.808]      3.570000  0.000000\n",
      "(3.808, 4.284]      4.064000  0.000000\n",
      "(4.284, 4.76]       4.620000  0.000000 \n",
      "\n",
      "\n",
      " With word_freq_data\n",
      "min 0.0 max 18.18 distance 18.18 step 1.818\n",
      "\n",
      "                 word_freq_data   is_spam\n",
      "                          mean      mean\n",
      "(0.0, 1.818]          0.573746  0.178248\n",
      "(1.818, 3.636]        2.430392  0.039216\n",
      "(3.636, 5.454]        4.418571  0.000000\n",
      "(5.454, 7.272]        6.082000  0.000000\n",
      "(7.272, 9.09]         7.680000  0.000000\n",
      "(16.362, 18.18]      18.180000  0.000000 \n",
      "\n",
      "\n",
      " With word_freq_415\n",
      "min 0.0 max 4.76 distance 4.76 step 0.476\n",
      "\n",
      "                word_freq_415   is_spam\n",
      "                        mean      mean\n",
      "(0.0, 0.476]        0.277200  0.120000\n",
      "(0.476, 0.952]      0.674024  0.000000\n",
      "(0.952, 1.428]      1.179524  0.047619\n",
      "(1.428, 1.904]      1.653333  0.000000\n",
      "(1.904, 2.38]       2.168750  0.000000\n",
      "(2.38, 2.856]       2.653333  0.000000\n",
      "(2.856, 3.332]      3.106667  0.000000\n",
      "(3.332, 3.808]      3.570000  0.000000\n",
      "(3.808, 4.284]      4.064000  0.000000\n",
      "(4.284, 4.76]       4.620000  0.000000 \n",
      "\n",
      "\n",
      " With word_freq_85\n",
      "min 0.0 max 20.0 distance 20.0 step 2.0\n",
      "\n",
      "              word_freq_85   is_spam\n",
      "                     mean      mean\n",
      "(0.0, 2.0]       0.643624  0.108235\n",
      "(2.0, 4.0]       2.709048  0.000000\n",
      "(4.0, 6.0]       4.569412  0.000000\n",
      "(18.0, 20.0]    20.000000  0.000000 \n",
      "\n",
      "\n",
      " With word_freq_technology\n",
      "min 0.0 max 7.69 distance 7.69 step 0.769\n",
      "\n",
      "                word_freq_technology   is_spam\n",
      "                               mean      mean\n",
      "(0.0, 0.769]               0.347199  0.213759\n",
      "(0.769, 1.538]             1.058074  0.177778\n",
      "(1.538, 2.307]             1.826154  0.038462\n",
      "(2.307, 3.076]             2.627273  0.000000\n",
      "(3.076, 3.845]             3.534000  0.000000\n",
      "(3.845, 4.614]             4.255000  0.000000\n",
      "(4.614, 5.383]             4.760000  0.000000\n",
      "(6.921, 7.69]              7.690000  0.000000 \n",
      "\n",
      "\n",
      " With word_freq_1999\n",
      "min 0.0 max 6.89 distance 6.89 step 0.689\n",
      "\n",
      "                word_freq_1999   is_spam\n",
      "                         mean      mean\n",
      "(0.0, 0.689]         0.340902  0.125000\n",
      "(0.689, 1.378]       0.977939  0.100877\n",
      "(1.378, 2.067]       1.641316  0.157895\n",
      "(2.067, 2.756]       2.291765  0.000000\n",
      "(2.756, 3.445]       3.111111  0.444444\n",
      "(3.445, 4.134]       3.762500  0.000000\n",
      "(4.134, 4.823]       4.420000  0.000000\n",
      "(4.823, 5.512]       5.050000  1.000000\n",
      "(6.201, 6.89]        6.890000  0.000000 \n",
      "\n",
      "\n",
      " With word_freq_parts\n",
      "min 0.0 max 8.33 distance 8.33 step 0.833\n",
      "\n",
      "                word_freq_parts   is_spam\n",
      "                          mean      mean\n",
      "(0.0, 0.833]          0.217385  0.476923\n",
      "(0.833, 1.666]        1.178333  0.083333\n",
      "(2.499, 3.332]        2.850000  0.000000\n",
      "(3.332, 4.165]        3.720000  0.000000\n",
      "(5.831, 6.664]        6.450000  0.000000\n",
      "(6.664, 7.497]        7.400000  0.000000\n",
      "(7.497, 8.33]         8.330000  0.000000 \n",
      "\n",
      "\n",
      " With word_freq_pm\n",
      "min 0.0 max 11.11 distance 11.11 step 1.111\n",
      "\n",
      "                word_freq_pm   is_spam\n",
      "                       mean      mean\n",
      "(0.0, 1.111]       0.469507  0.211268\n",
      "(1.111, 2.222]     1.504143  0.028571\n",
      "(2.222, 3.333]     2.745333  0.000000\n",
      "(3.333, 4.444]     3.915000  0.000000\n",
      "(4.444, 5.555]     4.650000  0.000000\n",
      "(6.666, 7.777]     7.140000  0.000000\n",
      "(7.777, 8.888]     8.690000  0.000000\n",
      "(8.888, 9.999]     9.750000  0.000000\n",
      "(9.999, 11.11]    11.110000  0.000000 \n",
      "\n",
      "\n",
      " With word_freq_direct\n",
      "min 0.0 max 4.76 distance 4.76 step 0.476\n",
      "\n",
      "                word_freq_direct   is_spam\n",
      "                           mean      mean\n",
      "(0.0, 0.476]           0.203694  0.578358\n",
      "(0.476, 0.952]         0.650088  0.318584\n",
      "(0.952, 1.428]         1.161304  0.304348\n",
      "(1.428, 1.904]         1.630000  0.333333\n",
      "(1.904, 2.38]          2.142941  0.058824\n",
      "(2.38, 2.856]          2.653333  0.000000\n",
      "(2.856, 3.332]         3.075000  0.000000\n",
      "(3.332, 3.808]         3.570000  0.000000\n",
      "(3.808, 4.284]         4.091429  0.000000\n",
      "(4.284, 4.76]          4.612000  0.000000 \n",
      "\n",
      "\n",
      " With word_freq_cs\n",
      "min 0.0 max 7.14 distance 7.14 step 0.714\n",
      "\n",
      "                word_freq_cs   is_spam\n",
      "                       mean      mean\n",
      "(0.0, 0.714]       0.338382  0.014706\n",
      "(0.714, 1.428]     1.070625  0.000000\n",
      "(1.428, 2.142]     1.749000  0.000000\n",
      "(2.142, 2.856]     2.500833  0.000000\n",
      "(2.856, 3.57]      3.184000  0.000000\n",
      "(3.57, 4.284]      4.280000  0.000000\n",
      "(4.284, 4.998]     4.752500  0.000000\n",
      "(4.998, 5.712]     5.000000  0.000000\n",
      "(5.712, 6.426]     5.880000  0.000000\n",
      "(6.426, 7.14]      7.140000  0.000000 \n",
      "\n",
      "\n",
      " With word_freq_meeting\n",
      "min 0.0 max 14.28 distance 14.28 step 1.428\n",
      "\n",
      "                 word_freq_meeting   is_spam\n",
      "                             mean      mean\n",
      "(0.0, 1.428]             0.567664  0.093458\n",
      "(1.428, 2.856]           2.096667  0.000000\n",
      "(2.856, 4.284]           3.561562  0.000000\n",
      "(4.284, 5.712]           4.968125  0.000000\n",
      "(5.712, 7.14]            6.513333  0.000000\n",
      "(7.14, 8.568]            7.800000  0.000000\n",
      "(8.568, 9.996]           9.090000  0.000000\n",
      "(9.996, 11.424]         10.832500  0.000000\n",
      "(12.852, 14.28]         14.280000  0.000000 \n",
      "\n",
      "\n",
      " With word_freq_original\n",
      "min 0.0 max 3.57 distance 3.57 step 0.357\n",
      "\n",
      "                word_freq_original   is_spam\n",
      "                             mean      mean\n",
      "(0.0, 0.357]             0.168927  0.423729\n",
      "(0.357, 0.714]           0.527802  0.087912\n",
      "(0.714, 1.071]           0.874912  0.035088\n",
      "(1.071, 1.428]           1.263043  0.000000\n",
      "(1.428, 1.785]           1.605333  0.000000\n",
      "(1.785, 2.142]           1.876000  0.000000\n",
      "(2.142, 2.499]           2.220000  0.000000\n",
      "(2.499, 2.856]           2.630000  0.000000\n",
      "(2.856, 3.213]           3.030000  0.000000\n",
      "(3.213, 3.57]            3.477500  0.000000 \n",
      "\n",
      "\n",
      " With word_freq_project\n",
      "min 0.0 max 20.0 distance 20.0 step 2.0\n",
      "\n",
      "              word_freq_project   is_spam\n",
      "                          mean      mean\n",
      "(0.0, 2.0]            0.526129  0.168459\n",
      "(2.0, 4.0]            2.839677  0.000000\n",
      "(4.0, 6.0]            4.555000  0.000000\n",
      "(6.0, 8.0]            6.295000  0.000000\n",
      "(8.0, 10.0]           9.050000  0.000000\n",
      "(16.0, 18.0]         16.660000  0.000000\n",
      "(18.0, 20.0]         20.000000  0.000000 \n",
      "\n",
      "\n",
      " With word_freq_re\n",
      "min 0.0 max 21.42 distance 21.42 step 2.1420000000000003\n",
      "\n",
      "                  word_freq_re   is_spam\n",
      "                         mean      mean\n",
      "(0.0, 2.142]         0.641332  0.412468\n",
      "(2.142, 4.284]       2.924105  0.031579\n",
      "(4.284, 6.426]       5.194444  0.055556\n",
      "(6.426, 8.568]       7.573684  0.000000\n",
      "(8.568, 10.71]       9.805000  0.000000\n",
      "(10.71, 12.852]     11.110000  0.000000\n",
      "(12.852, 14.994]    14.280000  0.000000\n",
      "(14.994, 17.136]    16.660000  0.000000\n",
      "(19.278, 21.42]     20.710000  0.000000 \n",
      "\n",
      "\n",
      " With word_freq_edu\n",
      "min 0.0 max 22.05 distance 22.05 step 2.205\n",
      "\n",
      "                 word_freq_edu   is_spam\n",
      "                         mean      mean\n",
      "(0.0, 2.205]         0.744289  0.161765\n",
      "(2.205, 4.41]        2.978615  0.030769\n",
      "(4.41, 6.615]        5.314091  0.000000\n",
      "(6.615, 8.82]        7.410000  0.000000\n",
      "(8.82, 11.025]       9.465000  0.000000\n",
      "(13.23, 15.435]     14.360000  0.000000\n",
      "(15.435, 17.64]     16.700000  0.000000\n",
      "(19.845, 22.05]     22.050000  0.000000 \n",
      "\n",
      "\n",
      " With word_freq_table\n",
      "min 0.0 max 2.17 distance 2.17 step 0.217\n",
      "\n",
      "                word_freq_table   is_spam\n",
      "                          mean      mean\n",
      "(0.0, 0.217]          0.071714  0.428571\n",
      "(0.217, 0.434]        0.322222  0.333333\n",
      "(0.434, 0.651]        0.568000  0.200000\n",
      "(0.651, 0.868]        0.776667  0.000000\n",
      "(0.868, 1.085]        0.943333  0.000000\n",
      "(1.302, 1.519]        1.510000  0.000000\n",
      "(1.519, 1.736]        1.600000  0.000000\n",
      "(1.736, 1.953]        1.910000  0.000000\n",
      "(1.953, 2.17]         2.145000  0.000000 \n",
      "\n",
      "\n",
      " With word_freq_conference\n",
      "min 0.0 max 10.0 distance 10.0 step 1.0\n",
      "\n",
      "             word_freq_conference  is_spam\n",
      "                            mean     mean\n",
      "(0.0, 1.0]              0.338364  0.09697\n",
      "(1.0, 2.0]              1.417391  0.00000\n",
      "(2.0, 3.0]              2.468750  0.00000\n",
      "(3.0, 4.0]              3.453333  0.00000\n",
      "(4.0, 5.0]              4.880000  0.00000\n",
      "(8.0, 9.0]              8.330000  0.00000\n",
      "(9.0, 10.0]            10.000000  0.00000 \n",
      "\n",
      "\n",
      " With char_freq_;\n",
      "min 0.0 max 4.385 distance 4.385 step 0.4385\n",
      "\n",
      "                char_freq_;   is_spam\n",
      "                      mean      mean\n",
      "(0.0, 0.438]      0.109809  0.343923\n",
      "(0.438, 0.877]    0.631744  0.512821\n",
      "(0.877, 1.316]    1.065333  0.333333\n",
      "(1.316, 1.754]    1.375400  0.000000\n",
      "(1.754, 2.192]    2.053000  0.000000\n",
      "(2.631, 3.07]     3.024000  0.000000\n",
      "(3.07, 3.508]     3.177500  0.000000\n",
      "(3.508, 3.946]    3.810250  0.000000\n",
      "(3.946, 4.385]    4.175000  0.000000 \n",
      "\n",
      "\n",
      " With char_freq_(\n",
      "min 0.0 max 9.752 distance 9.752 step 0.9752000000000001\n",
      "\n",
      "                char_freq_(   is_spam\n",
      "                      mean      mean\n",
      "(0.0, 0.975]      0.209931  0.439445\n",
      "(0.975, 1.95]     1.268500  0.047619\n",
      "(1.95, 2.926]     2.138000  0.500000\n",
      "(2.926, 3.901]    2.941000  0.000000\n",
      "(3.901, 4.876]    4.271000  1.000000\n",
      "(4.876, 5.851]    5.277000  0.000000\n",
      "(8.777, 9.752]    9.752000  1.000000 \n",
      "\n",
      "\n",
      " With char_freq_[\n",
      "min 0.0 max 4.081 distance 4.081 step 0.4081\n",
      "\n",
      "                char_freq_[   is_spam\n",
      "                      mean      mean\n",
      "(0.0, 0.408]      0.102634  0.249505\n",
      "(0.408, 0.816]    0.582357  0.214286\n",
      "(0.816, 1.224]    1.081000  0.200000\n",
      "(1.224, 1.632]    1.449000  0.000000\n",
      "(1.632, 2.041]    1.634000  0.000000\n",
      "(2.449, 2.857]    2.777000  0.000000\n",
      "(3.673, 4.081]    4.081000  0.000000 \n",
      "\n",
      "\n",
      " With char_freq_!\n",
      "min 0.0 max 32.478 distance 32.478 step 3.2478000000000002\n",
      "\n",
      "                  char_freq_!   is_spam\n",
      "                        mean      mean\n",
      "(0.0, 3.248]         0.45061  0.668018\n",
      "(3.248, 6.496]       4.81540  0.833333\n",
      "(6.496, 9.743]       8.15820  0.400000\n",
      "(16.239, 19.487]    19.13100  0.000000\n",
      "(29.23, 32.478]     32.47800  0.000000 \n",
      "\n",
      "\n",
      " With char_freq_$\n",
      "min 0.0 max 6.003 distance 6.003 step 0.6003000000000001\n",
      "\n",
      "                char_freq_$   is_spam\n",
      "                      mean      mean\n",
      "(0.0, 0.6]        0.168440  0.782541\n",
      "(0.6, 1.201]      0.775024  0.869048\n",
      "(1.201, 1.801]    1.345870  1.000000\n",
      "(1.801, 2.401]    2.109667  0.666667\n",
      "(3.002, 3.602]    3.230000  1.000000\n",
      "(3.602, 4.202]    4.017000  1.000000\n",
      "(4.802, 5.403]    5.300000  1.000000\n",
      "(5.403, 6.003]    6.003000  1.000000 \n",
      "\n",
      "\n",
      " With char_freq_#\n",
      "min 0.0 max 19.829 distance 19.829 step 1.9829\n",
      "\n",
      "                  char_freq_#   is_spam\n",
      "                        mean      mean\n",
      "(0.0, 1.983]        0.172388  0.693351\n",
      "(1.983, 3.966]      2.617857  1.000000\n",
      "(3.966, 5.949]      4.008000  1.000000\n",
      "(5.949, 7.932]      7.066333  0.000000\n",
      "(11.897, 13.88]    13.129000  1.000000\n",
      "(17.846, 19.829]   19.829000  1.000000 \n",
      "\n",
      "\n",
      " With capital_run_length_average\n",
      "min 1.0 max 1102.5 distance 1101.5 step 110.15\n",
      "\n",
      "                  capital_run_length_average   is_spam\n",
      "                                       mean      mean\n",
      "(1.0, 111.15]                      3.828846  0.419934\n",
      "(111.15, 221.3]                  159.000000  1.000000\n",
      "(221.3, 331.45]                  270.142750  0.750000\n",
      "(331.45, 441.6]                  337.250000  1.000000\n",
      "(441.6, 551.75]                  443.499500  1.000000\n",
      "(551.75, 661.9]                  589.000000  1.000000\n",
      "(661.9, 772.05]                  665.500000  1.000000\n",
      "(992.35, 1102.5]                1062.000000  1.000000 \n",
      "\n",
      "\n",
      " With capital_run_length_longest\n",
      "min 1.0 max 9989.0 distance 9988.0 step 998.8\n",
      "\n",
      "                  capital_run_length_longest   is_spam\n",
      "                                       mean      mean\n",
      "(1.0, 999.8]                      48.375089  0.419523\n",
      "(999.8, 1998.6]                 1219.235294  0.941176\n",
      "(1998.6, 2997.4]                2123.000000  1.000000\n",
      "(8990.2, 9989.0]                9989.000000  1.000000 \n",
      "\n",
      "\n",
      " With capital_run_length_total\n",
      "min 1.0 max 15841.0 distance 15840.0 step 1584.0\n",
      "\n",
      "                    capital_run_length_total   is_spam\n",
      "                                       mean      mean\n",
      "(1.0, 1585.0]                    209.820972  0.384943\n",
      "(1585.0, 3169.0]                2240.468085  0.691489\n",
      "(3169.0, 4753.0]                3390.777778  0.888889\n",
      "(4753.0, 6337.0]                5648.500000  0.000000\n",
      "(7921.0, 9505.0]                9113.666667  1.000000\n",
      "(9505.0, 11089.0]              10062.000000  1.000000\n",
      "(14257.0, 15841.0]             15841.000000  1.000000 \n",
      "\n"
     ]
    }
   ],
   "source": [
    "from warnings import filterwarnings\n",
    "# for the presentation:\n",
    "filterwarnings('ignore')\n",
    "import numpy as np\n",
    "\n",
    "n = 10\n",
    "tab=[]\n",
    "loopliste = [cl for cl in df.columns.values if cl != 'is_spam']\n",
    "\n",
    "for k in loopliste: \n",
    "    print('\\n', 'With', k)\n",
    "    \n",
    "    adf = df[[k, 'is_spam']]\n",
    "    amax = np.max(adf[k])                       # Get max of all array values\n",
    "    amin = np.min(adf[k])                       # Get min of all array values\n",
    "    atot = amax-amin # this distance covers all of the values.\n",
    "    afintot = atot/n  # this is the size of the bins (we want n = 10 of them)\n",
    "    print('min', amin, 'max', amax, 'distance', atot, 'step', afintot)\n",
    "    \n",
    "    # creating the n=10 bins, starting at bmin, ending at bmax.\n",
    "    bins = []\n",
    "    for i in range(n+1):\n",
    "        bins.append(amin + (i*afintot)) \n",
    "    \n",
    "    # avec y étant la colonne avec les 0 et les 1 qu'on veut pouvoir prédire\n",
    "    \n",
    "    a = adf[k]\n",
    "    a = np.array(list(a))\n",
    "\n",
    "    a_bins = adf.groupby(pd.cut(a.flatten(), bins))\n",
    "    a_bins = a_bins.agg([np.mean])\n",
    "    a_bins = a_bins.dropna()\n",
    "    \n",
    "    \n",
    "    print('\\n', a_bins, '\\n')\n",
    "    \n",
    "    #Stocker ces bins et leurs valeurs dans un tab, indexé par colonne du DF 'df'\n",
    "    tab.append(a_bins)\n",
    "    "
   ]
  },
  {
   "attachments": {},
   "cell_type": "markdown",
   "metadata": {
    "datalore": {
     "hide_input_from_viewers": false,
     "hide_output_from_viewers": false,
     "node_id": "1cTWjo0IkeJnkdHishFIzz",
     "report_properties": {
      "y": 237
     },
     "type": "MD"
    }
   },
   "source": [
    "We, therefore, have a table called 'tab' that contains all of the variable buckets, with the average variables inside + the average of the classification features of these contained variables."
   ]
  },
  {
   "attachments": {},
   "cell_type": "markdown",
   "metadata": {
    "datalore": {
     "hide_input_from_viewers": false,
     "hide_output_from_viewers": false,
     "node_id": "V7iboOxewKl97tJzZ7beJU",
     "report_properties": {
      "y": 241
     },
     "type": "MD"
    }
   },
   "source": [
    "For example, I want to see this for Variable 5, column 4:"
   ]
  },
  {
   "cell_type": "code",
   "execution_count": 11,
   "metadata": {
    "datalore": {
     "hide_input_from_viewers": false,
     "hide_output_from_viewers": false,
     "node_id": "sJ3EjswNkGFFoTcpRHZaTd",
     "report_properties": {
      "y": 244
     },
     "type": "CODE"
    }
   },
   "outputs": [
    {
     "data": {
      "text/html": [
       "<div>\n",
       "<style scoped>\n",
       "    .dataframe tbody tr th:only-of-type {\n",
       "        vertical-align: middle;\n",
       "    }\n",
       "\n",
       "    .dataframe tbody tr th {\n",
       "        vertical-align: top;\n",
       "    }\n",
       "\n",
       "    .dataframe thead tr th {\n",
       "        text-align: left;\n",
       "    }\n",
       "</style>\n",
       "<table border=\"1\" class=\"dataframe\">\n",
       "  <thead>\n",
       "    <tr>\n",
       "      <th></th>\n",
       "      <th>word_freq_our</th>\n",
       "      <th>is_spam</th>\n",
       "    </tr>\n",
       "    <tr>\n",
       "      <th></th>\n",
       "      <th>mean</th>\n",
       "      <th>mean</th>\n",
       "    </tr>\n",
       "  </thead>\n",
       "  <tbody>\n",
       "    <tr>\n",
       "      <th>(0.0, 1.0]</th>\n",
       "      <td>0.443780</td>\n",
       "      <td>0.627559</td>\n",
       "    </tr>\n",
       "    <tr>\n",
       "      <th>(1.0, 2.0]</th>\n",
       "      <td>1.365112</td>\n",
       "      <td>0.748603</td>\n",
       "    </tr>\n",
       "    <tr>\n",
       "      <th>(2.0, 3.0]</th>\n",
       "      <td>2.385616</td>\n",
       "      <td>0.657534</td>\n",
       "    </tr>\n",
       "    <tr>\n",
       "      <th>(3.0, 4.0]</th>\n",
       "      <td>3.407083</td>\n",
       "      <td>0.541667</td>\n",
       "    </tr>\n",
       "    <tr>\n",
       "      <th>(4.0, 5.0]</th>\n",
       "      <td>4.539091</td>\n",
       "      <td>0.363636</td>\n",
       "    </tr>\n",
       "    <tr>\n",
       "      <th>(5.0, 6.0]</th>\n",
       "      <td>5.405000</td>\n",
       "      <td>0.000000</td>\n",
       "    </tr>\n",
       "    <tr>\n",
       "      <th>(6.0, 7.0]</th>\n",
       "      <td>6.250000</td>\n",
       "      <td>0.500000</td>\n",
       "    </tr>\n",
       "    <tr>\n",
       "      <th>(7.0, 8.0]</th>\n",
       "      <td>7.415000</td>\n",
       "      <td>0.500000</td>\n",
       "    </tr>\n",
       "    <tr>\n",
       "      <th>(8.0, 9.0]</th>\n",
       "      <td>8.330000</td>\n",
       "      <td>0.000000</td>\n",
       "    </tr>\n",
       "    <tr>\n",
       "      <th>(9.0, 10.0]</th>\n",
       "      <td>9.545000</td>\n",
       "      <td>0.000000</td>\n",
       "    </tr>\n",
       "  </tbody>\n",
       "</table>\n",
       "</div>"
      ],
      "text/plain": [
       "            word_freq_our   is_spam\n",
       "                     mean      mean\n",
       "(0.0, 1.0]       0.443780  0.627559\n",
       "(1.0, 2.0]       1.365112  0.748603\n",
       "(2.0, 3.0]       2.385616  0.657534\n",
       "(3.0, 4.0]       3.407083  0.541667\n",
       "(4.0, 5.0]       4.539091  0.363636\n",
       "(5.0, 6.0]       5.405000  0.000000\n",
       "(6.0, 7.0]       6.250000  0.500000\n",
       "(7.0, 8.0]       7.415000  0.500000\n",
       "(8.0, 9.0]       8.330000  0.000000\n",
       "(9.0, 10.0]      9.545000  0.000000"
      ]
     },
     "execution_count": 11,
     "metadata": {},
     "output_type": "execute_result"
    }
   ],
   "source": [
    "tab[4]"
   ]
  },
  {
   "attachments": {},
   "cell_type": "markdown",
   "metadata": {
    "datalore": {
     "hide_input_from_viewers": false,
     "hide_output_from_viewers": false,
     "node_id": "OCei0GyL8tHWmd8WNdRcUG",
     "report_properties": {
      "y": 256
     },
     "type": "MD"
    }
   },
   "source": [
    "#### Scatter Plotting with the buckets and the column averages"
   ]
  },
  {
   "attachments": {},
   "cell_type": "markdown",
   "metadata": {
    "datalore": {
     "hide_input_from_viewers": false,
     "hide_output_from_viewers": false,
     "node_id": "XvRqpCwO7k09wnJVzsE5iI",
     "report_properties": {
      "y": 259
     },
     "type": "MD"
    }
   },
   "source": [
    "What about it ? This will allow a global comprehension, as we will  do the same as previously, except this time we will have a more generalized vision of the data.\n",
    "This is crucial for data selection"
   ]
  },
  {
   "cell_type": "markdown",
   "metadata": {},
   "source": [
    "IMPORTANT: For some reason, the scatter plot fails to compile here, but works perfectly when compiled on datalore. To see this plot please click on the link in the readme."
   ]
  },
  {
   "cell_type": "code",
   "execution_count": 13,
   "metadata": {
    "datalore": {
     "hide_input_from_viewers": false,
     "hide_output_from_viewers": false,
     "node_id": "ehe1r5czw7g1UFr2pj8aJD",
     "report_properties": {
      "y": 263
     },
     "type": "CODE"
    }
   },
   "outputs": [
    {
     "ename": "InvalidIndexError",
     "evalue": "(slice(None, None, None), None)",
     "output_type": "error",
     "traceback": [
      "\u001b[0;31m---------------------------------------------------------------------------\u001b[0m",
      "\u001b[0;31mTypeError\u001b[0m                                 Traceback (most recent call last)",
      "File \u001b[0;32m~/Dev/Python/miniforge3/envs/esilv_1/lib/python3.10/site-packages/pandas/core/indexes/base.py:3621\u001b[0m, in \u001b[0;36mIndex.get_loc\u001b[0;34m(self, key, method, tolerance)\u001b[0m\n\u001b[1;32m   3620\u001b[0m \u001b[39mtry\u001b[39;00m:\n\u001b[0;32m-> 3621\u001b[0m     \u001b[39mreturn\u001b[39;00m \u001b[39mself\u001b[39;49m\u001b[39m.\u001b[39;49m_engine\u001b[39m.\u001b[39;49mget_loc(casted_key)\n\u001b[1;32m   3622\u001b[0m \u001b[39mexcept\u001b[39;00m \u001b[39mKeyError\u001b[39;00m \u001b[39mas\u001b[39;00m err:\n",
      "File \u001b[0;32m~/Dev/Python/miniforge3/envs/esilv_1/lib/python3.10/site-packages/pandas/_libs/index.pyx:136\u001b[0m, in \u001b[0;36mpandas._libs.index.IndexEngine.get_loc\u001b[0;34m()\u001b[0m\n",
      "File \u001b[0;32m~/Dev/Python/miniforge3/envs/esilv_1/lib/python3.10/site-packages/pandas/_libs/index.pyx:142\u001b[0m, in \u001b[0;36mpandas._libs.index.IndexEngine.get_loc\u001b[0;34m()\u001b[0m\n",
      "\u001b[0;31mTypeError\u001b[0m: '(slice(None, None, None), None)' is an invalid key",
      "\nDuring handling of the above exception, another exception occurred:\n",
      "\u001b[0;31mInvalidIndexError\u001b[0m                         Traceback (most recent call last)",
      "\u001b[1;32m/Users/remikalbe/Git/github.com/ESILV-S7-PY-TDN/spambase_DEPERTHES_GAUTHIER_KALBE.ipynb Cellule 37\u001b[0m in \u001b[0;36m<cell line: 1>\u001b[0;34m()\u001b[0m\n\u001b[1;32m      <a href='vscode-notebook-cell:/Users/remikalbe/Git/github.com/ESILV-S7-PY-TDN/spambase_DEPERTHES_GAUTHIER_KALBE.ipynb#X51sZmlsZQ%3D%3D?line=4'>5</a>\u001b[0m truc \u001b[39m=\u001b[39m tab[n]\n\u001b[1;32m      <a href='vscode-notebook-cell:/Users/remikalbe/Git/github.com/ESILV-S7-PY-TDN/spambase_DEPERTHES_GAUTHIER_KALBE.ipynb#X51sZmlsZQ%3D%3D?line=5'>6</a>\u001b[0m plt\u001b[39m.\u001b[39mscatter(truc[var],truc[cla], s\u001b[39m=\u001b[39m\u001b[39m500\u001b[39m, color\u001b[39m=\u001b[39m\u001b[39m\"\u001b[39m\u001b[39mblack\u001b[39m\u001b[39m\"\u001b[39m)\n\u001b[0;32m----> <a href='vscode-notebook-cell:/Users/remikalbe/Git/github.com/ESILV-S7-PY-TDN/spambase_DEPERTHES_GAUTHIER_KALBE.ipynb#X51sZmlsZQ%3D%3D?line=6'>7</a>\u001b[0m plt\u001b[39m.\u001b[39;49mplot(truc[var],truc[cla], color\u001b[39m=\u001b[39;49m\u001b[39m\"\u001b[39;49m\u001b[39mblack\u001b[39;49m\u001b[39m\"\u001b[39;49m)\n\u001b[1;32m      <a href='vscode-notebook-cell:/Users/remikalbe/Git/github.com/ESILV-S7-PY-TDN/spambase_DEPERTHES_GAUTHIER_KALBE.ipynb#X51sZmlsZQ%3D%3D?line=7'>8</a>\u001b[0m plt\u001b[39m.\u001b[39mtitle(\u001b[39m\"\u001b[39m\u001b[39mspam feature, in function of word:\u001b[39m\u001b[39m\"\u001b[39m)\n\u001b[1;32m      <a href='vscode-notebook-cell:/Users/remikalbe/Git/github.com/ESILV-S7-PY-TDN/spambase_DEPERTHES_GAUTHIER_KALBE.ipynb#X51sZmlsZQ%3D%3D?line=8'>9</a>\u001b[0m plt\u001b[39m.\u001b[39mxlabel(names[n])\n",
      "File \u001b[0;32m~/Dev/Python/miniforge3/envs/esilv_1/lib/python3.10/site-packages/matplotlib/pyplot.py:2757\u001b[0m, in \u001b[0;36mplot\u001b[0;34m(scalex, scaley, data, *args, **kwargs)\u001b[0m\n\u001b[1;32m   2755\u001b[0m \u001b[39m@_copy_docstring_and_deprecators\u001b[39m(Axes\u001b[39m.\u001b[39mplot)\n\u001b[1;32m   2756\u001b[0m \u001b[39mdef\u001b[39;00m \u001b[39mplot\u001b[39m(\u001b[39m*\u001b[39margs, scalex\u001b[39m=\u001b[39m\u001b[39mTrue\u001b[39;00m, scaley\u001b[39m=\u001b[39m\u001b[39mTrue\u001b[39;00m, data\u001b[39m=\u001b[39m\u001b[39mNone\u001b[39;00m, \u001b[39m*\u001b[39m\u001b[39m*\u001b[39mkwargs):\n\u001b[0;32m-> 2757\u001b[0m     \u001b[39mreturn\u001b[39;00m gca()\u001b[39m.\u001b[39;49mplot(\n\u001b[1;32m   2758\u001b[0m         \u001b[39m*\u001b[39;49margs, scalex\u001b[39m=\u001b[39;49mscalex, scaley\u001b[39m=\u001b[39;49mscaley,\n\u001b[1;32m   2759\u001b[0m         \u001b[39m*\u001b[39;49m\u001b[39m*\u001b[39;49m({\u001b[39m\"\u001b[39;49m\u001b[39mdata\u001b[39;49m\u001b[39m\"\u001b[39;49m: data} \u001b[39mif\u001b[39;49;00m data \u001b[39mis\u001b[39;49;00m \u001b[39mnot\u001b[39;49;00m \u001b[39mNone\u001b[39;49;00m \u001b[39melse\u001b[39;49;00m {}), \u001b[39m*\u001b[39;49m\u001b[39m*\u001b[39;49mkwargs)\n",
      "File \u001b[0;32m~/Dev/Python/miniforge3/envs/esilv_1/lib/python3.10/site-packages/matplotlib/axes/_axes.py:1632\u001b[0m, in \u001b[0;36mAxes.plot\u001b[0;34m(self, scalex, scaley, data, *args, **kwargs)\u001b[0m\n\u001b[1;32m   1390\u001b[0m \u001b[39m\"\"\"\u001b[39;00m\n\u001b[1;32m   1391\u001b[0m \u001b[39mPlot y versus x as lines and/or markers.\u001b[39;00m\n\u001b[1;32m   1392\u001b[0m \n\u001b[0;32m   (...)\u001b[0m\n\u001b[1;32m   1629\u001b[0m \u001b[39m(``'green'``) or hex strings (``'#008000'``).\u001b[39;00m\n\u001b[1;32m   1630\u001b[0m \u001b[39m\"\"\"\u001b[39;00m\n\u001b[1;32m   1631\u001b[0m kwargs \u001b[39m=\u001b[39m cbook\u001b[39m.\u001b[39mnormalize_kwargs(kwargs, mlines\u001b[39m.\u001b[39mLine2D)\n\u001b[0;32m-> 1632\u001b[0m lines \u001b[39m=\u001b[39m [\u001b[39m*\u001b[39m\u001b[39mself\u001b[39m\u001b[39m.\u001b[39m_get_lines(\u001b[39m*\u001b[39margs, data\u001b[39m=\u001b[39mdata, \u001b[39m*\u001b[39m\u001b[39m*\u001b[39mkwargs)]\n\u001b[1;32m   1633\u001b[0m \u001b[39mfor\u001b[39;00m line \u001b[39min\u001b[39;00m lines:\n\u001b[1;32m   1634\u001b[0m     \u001b[39mself\u001b[39m\u001b[39m.\u001b[39madd_line(line)\n",
      "File \u001b[0;32m~/Dev/Python/miniforge3/envs/esilv_1/lib/python3.10/site-packages/matplotlib/axes/_base.py:312\u001b[0m, in \u001b[0;36m_process_plot_var_args.__call__\u001b[0;34m(self, data, *args, **kwargs)\u001b[0m\n\u001b[1;32m    310\u001b[0m     this \u001b[39m+\u001b[39m\u001b[39m=\u001b[39m args[\u001b[39m0\u001b[39m],\n\u001b[1;32m    311\u001b[0m     args \u001b[39m=\u001b[39m args[\u001b[39m1\u001b[39m:]\n\u001b[0;32m--> 312\u001b[0m \u001b[39myield from\u001b[39;00m \u001b[39mself\u001b[39;49m\u001b[39m.\u001b[39;49m_plot_args(this, kwargs)\n",
      "File \u001b[0;32m~/Dev/Python/miniforge3/envs/esilv_1/lib/python3.10/site-packages/matplotlib/axes/_base.py:487\u001b[0m, in \u001b[0;36m_process_plot_var_args._plot_args\u001b[0;34m(self, tup, kwargs, return_kwargs)\u001b[0m\n\u001b[1;32m    484\u001b[0m         kw[prop_name] \u001b[39m=\u001b[39m val\n\u001b[1;32m    486\u001b[0m \u001b[39mif\u001b[39;00m \u001b[39mlen\u001b[39m(xy) \u001b[39m==\u001b[39m \u001b[39m2\u001b[39m:\n\u001b[0;32m--> 487\u001b[0m     x \u001b[39m=\u001b[39m _check_1d(xy[\u001b[39m0\u001b[39;49m])\n\u001b[1;32m    488\u001b[0m     y \u001b[39m=\u001b[39m _check_1d(xy[\u001b[39m1\u001b[39m])\n\u001b[1;32m    489\u001b[0m \u001b[39melse\u001b[39;00m:\n",
      "File \u001b[0;32m~/Dev/Python/miniforge3/envs/esilv_1/lib/python3.10/site-packages/matplotlib/cbook/__init__.py:1327\u001b[0m, in \u001b[0;36m_check_1d\u001b[0;34m(x)\u001b[0m\n\u001b[1;32m   1321\u001b[0m \u001b[39mwith\u001b[39;00m warnings\u001b[39m.\u001b[39mcatch_warnings(record\u001b[39m=\u001b[39m\u001b[39mTrue\u001b[39;00m) \u001b[39mas\u001b[39;00m w:\n\u001b[1;32m   1322\u001b[0m     warnings\u001b[39m.\u001b[39mfilterwarnings(\n\u001b[1;32m   1323\u001b[0m         \u001b[39m\"\u001b[39m\u001b[39malways\u001b[39m\u001b[39m\"\u001b[39m,\n\u001b[1;32m   1324\u001b[0m         category\u001b[39m=\u001b[39m\u001b[39mWarning\u001b[39;00m,\n\u001b[1;32m   1325\u001b[0m         message\u001b[39m=\u001b[39m\u001b[39m'\u001b[39m\u001b[39mSupport for multi-dimensional indexing\u001b[39m\u001b[39m'\u001b[39m)\n\u001b[0;32m-> 1327\u001b[0m     ndim \u001b[39m=\u001b[39m x[:, \u001b[39mNone\u001b[39;49;00m]\u001b[39m.\u001b[39mndim\n\u001b[1;32m   1328\u001b[0m     \u001b[39m# we have definitely hit a pandas index or series object\u001b[39;00m\n\u001b[1;32m   1329\u001b[0m     \u001b[39m# cast to a numpy array.\u001b[39;00m\n\u001b[1;32m   1330\u001b[0m     \u001b[39mif\u001b[39;00m \u001b[39mlen\u001b[39m(w) \u001b[39m>\u001b[39m \u001b[39m0\u001b[39m:\n",
      "File \u001b[0;32m~/Dev/Python/miniforge3/envs/esilv_1/lib/python3.10/site-packages/pandas/core/frame.py:3505\u001b[0m, in \u001b[0;36mDataFrame.__getitem__\u001b[0;34m(self, key)\u001b[0m\n\u001b[1;32m   3503\u001b[0m \u001b[39mif\u001b[39;00m \u001b[39mself\u001b[39m\u001b[39m.\u001b[39mcolumns\u001b[39m.\u001b[39mnlevels \u001b[39m>\u001b[39m \u001b[39m1\u001b[39m:\n\u001b[1;32m   3504\u001b[0m     \u001b[39mreturn\u001b[39;00m \u001b[39mself\u001b[39m\u001b[39m.\u001b[39m_getitem_multilevel(key)\n\u001b[0;32m-> 3505\u001b[0m indexer \u001b[39m=\u001b[39m \u001b[39mself\u001b[39;49m\u001b[39m.\u001b[39;49mcolumns\u001b[39m.\u001b[39;49mget_loc(key)\n\u001b[1;32m   3506\u001b[0m \u001b[39mif\u001b[39;00m is_integer(indexer):\n\u001b[1;32m   3507\u001b[0m     indexer \u001b[39m=\u001b[39m [indexer]\n",
      "File \u001b[0;32m~/Dev/Python/miniforge3/envs/esilv_1/lib/python3.10/site-packages/pandas/core/indexes/base.py:3628\u001b[0m, in \u001b[0;36mIndex.get_loc\u001b[0;34m(self, key, method, tolerance)\u001b[0m\n\u001b[1;32m   3623\u001b[0m         \u001b[39mraise\u001b[39;00m \u001b[39mKeyError\u001b[39;00m(key) \u001b[39mfrom\u001b[39;00m \u001b[39merr\u001b[39;00m\n\u001b[1;32m   3624\u001b[0m     \u001b[39mexcept\u001b[39;00m \u001b[39mTypeError\u001b[39;00m:\n\u001b[1;32m   3625\u001b[0m         \u001b[39m# If we have a listlike key, _check_indexing_error will raise\u001b[39;00m\n\u001b[1;32m   3626\u001b[0m         \u001b[39m#  InvalidIndexError. Otherwise we fall through and re-raise\u001b[39;00m\n\u001b[1;32m   3627\u001b[0m         \u001b[39m#  the TypeError.\u001b[39;00m\n\u001b[0;32m-> 3628\u001b[0m         \u001b[39mself\u001b[39;49m\u001b[39m.\u001b[39;49m_check_indexing_error(key)\n\u001b[1;32m   3629\u001b[0m         \u001b[39mraise\u001b[39;00m\n\u001b[1;32m   3631\u001b[0m \u001b[39m# GH#42269\u001b[39;00m\n",
      "File \u001b[0;32m~/Dev/Python/miniforge3/envs/esilv_1/lib/python3.10/site-packages/pandas/core/indexes/base.py:5637\u001b[0m, in \u001b[0;36mIndex._check_indexing_error\u001b[0;34m(self, key)\u001b[0m\n\u001b[1;32m   5633\u001b[0m \u001b[39mdef\u001b[39;00m \u001b[39m_check_indexing_error\u001b[39m(\u001b[39mself\u001b[39m, key):\n\u001b[1;32m   5634\u001b[0m     \u001b[39mif\u001b[39;00m \u001b[39mnot\u001b[39;00m is_scalar(key):\n\u001b[1;32m   5635\u001b[0m         \u001b[39m# if key is not a scalar, directly raise an error (the code below\u001b[39;00m\n\u001b[1;32m   5636\u001b[0m         \u001b[39m# would convert to numpy arrays and raise later any way) - GH29926\u001b[39;00m\n\u001b[0;32m-> 5637\u001b[0m         \u001b[39mraise\u001b[39;00m InvalidIndexError(key)\n",
      "\u001b[0;31mInvalidIndexError\u001b[0m: (slice(None, None, None), None)"
     ]
    },
    {
     "data": {
      "image/png": "[encoded data removed]",
      "text/plain": [
       "<Figure size 432x288 with 1 Axes>"
      ]
     },
     "metadata": {
      "needs_background": "light"
     },
     "output_type": "display_data"
    }
   ],
   "source": [
    "for n in range(len(list(df.columns.values))-1):\n",
    "    _names = list(tab[n].columns.values)\n",
    "    var = _names[0][0]\n",
    "    cla = _names[1][0]\n",
    "    truc = tab[n]\n",
    "    plt.scatter(truc[var],truc[cla], s=500, color=\"black\")\n",
    "    plt.plot(truc[var],truc[cla], color=\"black\")\n",
    "    plt.title(\"spam feature, in function of word:\")\n",
    "    plt.xlabel(names[n])\n",
    "    plt.ylabel(\"probability of e-mail being spam in this bucket\")\n",
    "    f = plt.figure()\n",
    "    f.set_figwidth(1)\n",
    "    f.set_figheight(1)\n",
    "    plt.show()"
   ]
  },
  {
   "attachments": {},
   "cell_type": "markdown",
   "metadata": {
    "datalore": {
     "hide_input_from_viewers": false,
     "hide_output_from_viewers": false,
     "node_id": "CETUO2h1soPmSsPw8lJXFq",
     "report_properties": {
      "y": 840
     },
     "type": "MD"
    }
   },
   "source": [
    "By looking at these graphs, we may conjecture on the important variables in this study."
   ]
  },
  {
   "attachments": {},
   "cell_type": "markdown",
   "metadata": {
    "datalore": {
     "hide_input_from_viewers": false,
     "hide_output_from_viewers": false,
     "node_id": "uX5EC1wF9mSuReG4ZNKtVJ",
     "report_properties": {
      "y": 843
     },
     "type": "MD"
    }
   },
   "source": [
    "#### Does the average of the explanatory values change, when grouped by spam/not spam ?"
   ]
  },
  {
   "cell_type": "code",
   "execution_count": null,
   "metadata": {
    "datalore": {
     "hide_input_from_viewers": false,
     "hide_output_from_viewers": false,
     "node_id": "ArCXPnQC1dGtQmDxdM7j9e",
     "report_properties": {
      "y": 846
     },
     "type": "CODE"
    }
   },
   "outputs": [],
   "source": [
    "# colormap creation\n",
    "import numpy as np\n",
    "from matplotlib import pyplot as plt\n",
    "import matplotlib.cm as cm\n",
    "\n",
    "N = 40 # number of lines\n",
    "x = np.array([0, 1])\n",
    "theta = np.linspace(0, np.pi / 2, N)\n",
    "\n",
    "discr = np.linspace(0, 1, N)\n",
    "# create N colors from the colormap\n",
    "colors = cm.hsv(discr)"
   ]
  },
  {
   "cell_type": "code",
   "execution_count": null,
   "metadata": {
    "datalore": {
     "hide_input_from_viewers": false,
     "hide_output_from_viewers": false,
     "node_id": "fxLJ8BsWEzvFJcrjufMO4C",
     "report_properties": {
      "y": 854
     },
     "type": "CODE"
    }
   },
   "outputs": [
    {
     "data": {
      "text/html": [
       "<div>\n",
       "<style scoped>\n",
       "    .dataframe tbody tr th:only-of-type {\n",
       "        vertical-align: middle;\n",
       "    }\n",
       "\n",
       "    .dataframe tbody tr th {\n",
       "        vertical-align: top;\n",
       "    }\n",
       "\n",
       "    .dataframe thead th {\n",
       "        text-align: right;\n",
       "    }\n",
       "</style>\n",
       "<table border=\"1\" class=\"dataframe\">\n",
       "  <thead>\n",
       "    <tr style=\"text-align: right;\">\n",
       "      <th>is_spam</th>\n",
       "      <th>0.0</th>\n",
       "      <th>1.0</th>\n",
       "    </tr>\n",
       "  </thead>\n",
       "  <tbody>\n",
       "    <tr>\n",
       "      <th>word_freq_make</th>\n",
       "      <td>0.07</td>\n",
       "      <td>0.15</td>\n",
       "    </tr>\n",
       "    <tr>\n",
       "      <th>word_freq_address</th>\n",
       "      <td>0.24</td>\n",
       "      <td>0.16</td>\n",
       "    </tr>\n",
       "    <tr>\n",
       "      <th>word_freq_all</th>\n",
       "      <td>0.20</td>\n",
       "      <td>0.40</td>\n",
       "    </tr>\n",
       "    <tr>\n",
       "      <th>word_freq_3d</th>\n",
       "      <td>0.00</td>\n",
       "      <td>0.16</td>\n",
       "    </tr>\n",
       "    <tr>\n",
       "      <th>word_freq_our</th>\n",
       "      <td>0.18</td>\n",
       "      <td>0.51</td>\n",
       "    </tr>\n",
       "    <tr>\n",
       "      <th>word_freq_over</th>\n",
       "      <td>0.04</td>\n",
       "      <td>0.17</td>\n",
       "    </tr>\n",
       "    <tr>\n",
       "      <th>word_freq_remove</th>\n",
       "      <td>0.01</td>\n",
       "      <td>0.28</td>\n",
       "    </tr>\n",
       "    <tr>\n",
       "      <th>word_freq_internet</th>\n",
       "      <td>0.04</td>\n",
       "      <td>0.21</td>\n",
       "    </tr>\n",
       "    <tr>\n",
       "      <th>word_freq_order</th>\n",
       "      <td>0.04</td>\n",
       "      <td>0.17</td>\n",
       "    </tr>\n",
       "    <tr>\n",
       "      <th>word_freq_mail</th>\n",
       "      <td>0.17</td>\n",
       "      <td>0.35</td>\n",
       "    </tr>\n",
       "    <tr>\n",
       "      <th>word_freq_receive</th>\n",
       "      <td>0.02</td>\n",
       "      <td>0.12</td>\n",
       "    </tr>\n",
       "    <tr>\n",
       "      <th>word_freq_will</th>\n",
       "      <td>0.54</td>\n",
       "      <td>0.55</td>\n",
       "    </tr>\n",
       "    <tr>\n",
       "      <th>word_freq_people</th>\n",
       "      <td>0.06</td>\n",
       "      <td>0.14</td>\n",
       "    </tr>\n",
       "    <tr>\n",
       "      <th>word_freq_report</th>\n",
       "      <td>0.04</td>\n",
       "      <td>0.08</td>\n",
       "    </tr>\n",
       "    <tr>\n",
       "      <th>word_freq_addresses</th>\n",
       "      <td>0.01</td>\n",
       "      <td>0.11</td>\n",
       "    </tr>\n",
       "    <tr>\n",
       "      <th>word_freq_free</th>\n",
       "      <td>0.07</td>\n",
       "      <td>0.52</td>\n",
       "    </tr>\n",
       "    <tr>\n",
       "      <th>word_freq_business</th>\n",
       "      <td>0.05</td>\n",
       "      <td>0.29</td>\n",
       "    </tr>\n",
       "    <tr>\n",
       "      <th>word_freq_email</th>\n",
       "      <td>0.10</td>\n",
       "      <td>0.32</td>\n",
       "    </tr>\n",
       "    <tr>\n",
       "      <th>word_freq_you</th>\n",
       "      <td>1.27</td>\n",
       "      <td>2.26</td>\n",
       "    </tr>\n",
       "    <tr>\n",
       "      <th>word_freq_credit</th>\n",
       "      <td>0.01</td>\n",
       "      <td>0.21</td>\n",
       "    </tr>\n",
       "    <tr>\n",
       "      <th>word_freq_your</th>\n",
       "      <td>0.44</td>\n",
       "      <td>1.38</td>\n",
       "    </tr>\n",
       "    <tr>\n",
       "      <th>word_freq_font</th>\n",
       "      <td>0.05</td>\n",
       "      <td>0.24</td>\n",
       "    </tr>\n",
       "    <tr>\n",
       "      <th>word_freq_000</th>\n",
       "      <td>0.01</td>\n",
       "      <td>0.25</td>\n",
       "    </tr>\n",
       "    <tr>\n",
       "      <th>word_freq_money</th>\n",
       "      <td>0.02</td>\n",
       "      <td>0.21</td>\n",
       "    </tr>\n",
       "    <tr>\n",
       "      <th>word_freq_hp</th>\n",
       "      <td>0.90</td>\n",
       "      <td>0.02</td>\n",
       "    </tr>\n",
       "    <tr>\n",
       "      <th>word_freq_hpl</th>\n",
       "      <td>0.43</td>\n",
       "      <td>0.01</td>\n",
       "    </tr>\n",
       "    <tr>\n",
       "      <th>word_freq_george</th>\n",
       "      <td>1.27</td>\n",
       "      <td>0.00</td>\n",
       "    </tr>\n",
       "    <tr>\n",
       "      <th>word_freq_650</th>\n",
       "      <td>0.19</td>\n",
       "      <td>0.02</td>\n",
       "    </tr>\n",
       "    <tr>\n",
       "      <th>word_freq_lab</th>\n",
       "      <td>0.16</td>\n",
       "      <td>0.00</td>\n",
       "    </tr>\n",
       "    <tr>\n",
       "      <th>word_freq_labs</th>\n",
       "      <td>0.17</td>\n",
       "      <td>0.01</td>\n",
       "    </tr>\n",
       "    <tr>\n",
       "      <th>word_freq_telnet</th>\n",
       "      <td>0.11</td>\n",
       "      <td>0.00</td>\n",
       "    </tr>\n",
       "    <tr>\n",
       "      <th>word_freq_857</th>\n",
       "      <td>0.08</td>\n",
       "      <td>0.00</td>\n",
       "    </tr>\n",
       "    <tr>\n",
       "      <th>word_freq_data</th>\n",
       "      <td>0.15</td>\n",
       "      <td>0.01</td>\n",
       "    </tr>\n",
       "    <tr>\n",
       "      <th>word_freq_415</th>\n",
       "      <td>0.08</td>\n",
       "      <td>0.00</td>\n",
       "    </tr>\n",
       "    <tr>\n",
       "      <th>word_freq_85</th>\n",
       "      <td>0.17</td>\n",
       "      <td>0.01</td>\n",
       "    </tr>\n",
       "    <tr>\n",
       "      <th>word_freq_technology</th>\n",
       "      <td>0.14</td>\n",
       "      <td>0.03</td>\n",
       "    </tr>\n",
       "    <tr>\n",
       "      <th>word_freq_1999</th>\n",
       "      <td>0.20</td>\n",
       "      <td>0.04</td>\n",
       "    </tr>\n",
       "    <tr>\n",
       "      <th>word_freq_parts</th>\n",
       "      <td>0.02</td>\n",
       "      <td>0.00</td>\n",
       "    </tr>\n",
       "    <tr>\n",
       "      <th>word_freq_pm</th>\n",
       "      <td>0.12</td>\n",
       "      <td>0.01</td>\n",
       "    </tr>\n",
       "    <tr>\n",
       "      <th>word_freq_direct</th>\n",
       "      <td>0.08</td>\n",
       "      <td>0.04</td>\n",
       "    </tr>\n",
       "    <tr>\n",
       "      <th>word_freq_cs</th>\n",
       "      <td>0.07</td>\n",
       "      <td>0.00</td>\n",
       "    </tr>\n",
       "    <tr>\n",
       "      <th>word_freq_meeting</th>\n",
       "      <td>0.22</td>\n",
       "      <td>0.00</td>\n",
       "    </tr>\n",
       "    <tr>\n",
       "      <th>word_freq_original</th>\n",
       "      <td>0.07</td>\n",
       "      <td>0.01</td>\n",
       "    </tr>\n",
       "    <tr>\n",
       "      <th>word_freq_project</th>\n",
       "      <td>0.13</td>\n",
       "      <td>0.01</td>\n",
       "    </tr>\n",
       "    <tr>\n",
       "      <th>word_freq_re</th>\n",
       "      <td>0.42</td>\n",
       "      <td>0.13</td>\n",
       "    </tr>\n",
       "    <tr>\n",
       "      <th>word_freq_edu</th>\n",
       "      <td>0.29</td>\n",
       "      <td>0.01</td>\n",
       "    </tr>\n",
       "    <tr>\n",
       "      <th>word_freq_table</th>\n",
       "      <td>0.01</td>\n",
       "      <td>0.00</td>\n",
       "    </tr>\n",
       "    <tr>\n",
       "      <th>word_freq_conference</th>\n",
       "      <td>0.05</td>\n",
       "      <td>0.00</td>\n",
       "    </tr>\n",
       "    <tr>\n",
       "      <th>char_freq_;</th>\n",
       "      <td>0.05</td>\n",
       "      <td>0.02</td>\n",
       "    </tr>\n",
       "    <tr>\n",
       "      <th>char_freq_(</th>\n",
       "      <td>0.16</td>\n",
       "      <td>0.11</td>\n",
       "    </tr>\n",
       "    <tr>\n",
       "      <th>char_freq_[</th>\n",
       "      <td>0.02</td>\n",
       "      <td>0.01</td>\n",
       "    </tr>\n",
       "    <tr>\n",
       "      <th>char_freq_!</th>\n",
       "      <td>0.11</td>\n",
       "      <td>0.51</td>\n",
       "    </tr>\n",
       "    <tr>\n",
       "      <th>char_freq_$</th>\n",
       "      <td>0.01</td>\n",
       "      <td>0.17</td>\n",
       "    </tr>\n",
       "    <tr>\n",
       "      <th>char_freq_#</th>\n",
       "      <td>0.02</td>\n",
       "      <td>0.08</td>\n",
       "    </tr>\n",
       "  </tbody>\n",
       "</table>\n",
       "</div>"
      ],
      "text/plain": [
       "is_spam                0.0   1.0\n",
       "word_freq_make        0.07  0.15\n",
       "word_freq_address     0.24  0.16\n",
       "word_freq_all         0.20  0.40\n",
       "word_freq_3d          0.00  0.16\n",
       "word_freq_our         0.18  0.51\n",
       "word_freq_over        0.04  0.17\n",
       "word_freq_remove      0.01  0.28\n",
       "word_freq_internet    0.04  0.21\n",
       "word_freq_order       0.04  0.17\n",
       "word_freq_mail        0.17  0.35\n",
       "word_freq_receive     0.02  0.12\n",
       "word_freq_will        0.54  0.55\n",
       "word_freq_people      0.06  0.14\n",
       "word_freq_report      0.04  0.08\n",
       "word_freq_addresses   0.01  0.11\n",
       "word_freq_free        0.07  0.52\n",
       "word_freq_business    0.05  0.29\n",
       "word_freq_email       0.10  0.32\n",
       "word_freq_you         1.27  2.26\n",
       "word_freq_credit      0.01  0.21\n",
       "word_freq_your        0.44  1.38\n",
       "word_freq_font        0.05  0.24\n",
       "word_freq_000         0.01  0.25\n",
       "word_freq_money       0.02  0.21\n",
       "word_freq_hp          0.90  0.02\n",
       "word_freq_hpl         0.43  0.01\n",
       "word_freq_george      1.27  0.00\n",
       "word_freq_650         0.19  0.02\n",
       "word_freq_lab         0.16  0.00\n",
       "word_freq_labs        0.17  0.01\n",
       "word_freq_telnet      0.11  0.00\n",
       "word_freq_857         0.08  0.00\n",
       "word_freq_data        0.15  0.01\n",
       "word_freq_415         0.08  0.00\n",
       "word_freq_85          0.17  0.01\n",
       "word_freq_technology  0.14  0.03\n",
       "word_freq_1999        0.20  0.04\n",
       "word_freq_parts       0.02  0.00\n",
       "word_freq_pm          0.12  0.01\n",
       "word_freq_direct      0.08  0.04\n",
       "word_freq_cs          0.07  0.00\n",
       "word_freq_meeting     0.22  0.00\n",
       "word_freq_original    0.07  0.01\n",
       "word_freq_project     0.13  0.01\n",
       "word_freq_re          0.42  0.13\n",
       "word_freq_edu         0.29  0.01\n",
       "word_freq_table       0.01  0.00\n",
       "word_freq_conference  0.05  0.00\n",
       "char_freq_;           0.05  0.02\n",
       "char_freq_(           0.16  0.11\n",
       "char_freq_[           0.02  0.01\n",
       "char_freq_!           0.11  0.51\n",
       "char_freq_$           0.01  0.17\n",
       "char_freq_#           0.02  0.08"
      ]
     },
     "execution_count": 16,
     "metadata": {},
     "output_type": "execute_result"
    }
   ],
   "source": [
    "df_mean = df.groupby([\"is_spam\"]).mean().drop([\"capital_run_length_average\", \"capital_run_length_longest\", \"capital_run_length_total\"], axis=1)\n",
    "a = df_mean.transpose()\n",
    "a = round(a,2)\n",
    "a"
   ]
  },
  {
   "cell_type": "code",
   "execution_count": null,
   "metadata": {
    "datalore": {
     "hide_input_from_viewers": false,
     "hide_output_from_viewers": false,
     "node_id": "vGYEofcoC2kYqCj7tGtRcf",
     "report_properties": {
      "y": 898
     },
     "type": "CODE"
    }
   },
   "outputs": [
    {
     "data": {
      "text/html": [
       "<div>\n",
       "<style scoped>\n",
       "    .dataframe tbody tr th:only-of-type {\n",
       "        vertical-align: middle;\n",
       "    }\n",
       "\n",
       "    .dataframe tbody tr th {\n",
       "        vertical-align: top;\n",
       "    }\n",
       "\n",
       "    .dataframe thead th {\n",
       "        text-align: right;\n",
       "    }\n",
       "</style>\n",
       "<table border=\"1\" class=\"dataframe\">\n",
       "  <thead>\n",
       "    <tr style=\"text-align: right;\">\n",
       "      <th>is_spam</th>\n",
       "      <th>0.0</th>\n",
       "      <th>1.0</th>\n",
       "    </tr>\n",
       "  </thead>\n",
       "  <tbody>\n",
       "    <tr>\n",
       "      <th>word_freq_you</th>\n",
       "      <td>1.27</td>\n",
       "      <td>2.26</td>\n",
       "    </tr>\n",
       "    <tr>\n",
       "      <th>word_freq_your</th>\n",
       "      <td>0.44</td>\n",
       "      <td>1.38</td>\n",
       "    </tr>\n",
       "    <tr>\n",
       "      <th>word_freq_free</th>\n",
       "      <td>0.07</td>\n",
       "      <td>0.52</td>\n",
       "    </tr>\n",
       "    <tr>\n",
       "      <th>word_freq_our</th>\n",
       "      <td>0.18</td>\n",
       "      <td>0.51</td>\n",
       "    </tr>\n",
       "    <tr>\n",
       "      <th>char_freq_!</th>\n",
       "      <td>0.11</td>\n",
       "      <td>0.51</td>\n",
       "    </tr>\n",
       "  </tbody>\n",
       "</table>\n",
       "</div>"
      ],
      "text/plain": [
       "is_spam          0.0   1.0\n",
       "word_freq_you   1.27  2.26\n",
       "word_freq_your  0.44  1.38\n",
       "word_freq_free  0.07  0.52\n",
       "word_freq_our   0.18  0.51\n",
       "char_freq_!     0.11  0.51"
      ]
     },
     "execution_count": 17,
     "metadata": {},
     "output_type": "execute_result"
    }
   ],
   "source": [
    "simp = a[(a[1.0]-a[0.0])>0.3]\n",
    "simp.sort_values(by=1, ascending=False)"
   ]
  },
  {
   "attachments": {},
   "cell_type": "markdown",
   "metadata": {
    "datalore": {
     "hide_input_from_viewers": false,
     "hide_output_from_viewers": false,
     "node_id": "TRgbrCmraGfdgApxyt35rl",
     "report_properties": {
      "y": 907
     },
     "type": "MD"
    }
   },
   "source": [
    "In the case where an email is considered spam, we tend to observe a greater occurrence of 'our', 'free', 'you, 'your', and '!'. As seen below:"
   ]
  },
  {
   "cell_type": "code",
   "execution_count": null,
   "metadata": {
    "datalore": {
     "hide_input_from_viewers": false,
     "hide_output_from_viewers": false,
     "node_id": "19ZlXZO5OHhKq1opfiEvXP",
     "report_properties": {
      "y": 910
     },
     "type": "CODE"
    }
   },
   "outputs": [
    {
     "data": {
      "image/png": "[encoded data removed]",
      "text/plain": [
       "<Figure size 432x288 with 1 Axes>"
      ]
     },
     "metadata": {
      "needs_background": "light"
     },
     "output_type": "display_data"
    },
    {
     "data": {
      "text/plain": [
       "<Figure size 600x600 with 0 Axes>"
      ]
     },
     "metadata": {},
     "output_type": "display_data"
    }
   ],
   "source": [
    "b = a[(a[1.0]-a[0.0])>0.1]\n",
    "b.plot.bar(legend=None)\n",
    "plt.figure(figsize=(2, 2), dpi=300)\n",
    "rcParams['figure.figsize'] = 50, 20"
   ]
  },
  {
   "attachments": {},
   "cell_type": "markdown",
   "metadata": {
    "datalore": {
     "hide_input_from_viewers": false,
     "hide_output_from_viewers": false,
     "node_id": "fkhJbPoua0Z772RobmGp5k",
     "report_properties": {
      "y": 913
     },
     "type": "MD"
    }
   },
   "source": [
    "#### Correlations heatmap"
   ]
  },
  {
   "cell_type": "code",
   "execution_count": null,
   "metadata": {
    "datalore": {
     "hide_input_from_viewers": false,
     "hide_output_from_viewers": false,
     "node_id": "icwH4VQG1gk3X3ZZKw4OnU",
     "report_properties": {
      "y": 916
     },
     "type": "CODE"
    }
   },
   "outputs": [
    {
     "data": {
      "image/png": "[encoded data removed]",
      "text/plain": [
       "<Figure size 792x648 with 2 Axes>"
      ]
     },
     "metadata": {
      "needs_background": "light"
     },
     "output_type": "display_data"
    }
   ],
   "source": [
    "corr = df.corr().abs()\n",
    "\n",
    "# Generate a mask for the upper triangle\n",
    "mask = np.triu(np.ones_like(corr, dtype=bool))\n",
    "\n",
    "# Set up the matplotlib figure\n",
    "f, ax = plt.subplots(figsize=(11, 9))\n",
    "\n",
    "# Generate a custom diverging colormap\n",
    "cmap = sns.diverging_palette(230, 20, as_cmap=True)\n",
    "\n",
    "# Draw the heatmap with the mask and correct aspect ratio\n",
    "sns.heatmap(corr, mask=mask, cmap=cmap, center=0,\n",
    "            square=True, linewidths=.5, cbar_kws={\"shrink\": .5})\n",
    "\n",
    "plt.title('Heatmap for var correlations', fontsize = 15) \n",
    "plt.xlabel('Val 1', fontsize = 15) \n",
    "plt.ylabel('Val 2', fontsize = 15) \n",
    "plt.show()"
   ]
  },
  {
   "attachments": {},
   "cell_type": "markdown",
   "metadata": {
    "datalore": {
     "hide_input_from_viewers": false,
     "hide_output_from_viewers": false,
     "node_id": "DoOgCZhxsE2UQ9fl7p7dAS",
     "report_properties": {
      "y": 919
     },
     "type": "MD"
    }
   },
   "source": [
    "This allows us to visualize the overfitting of the data by our current variables and therefore suggests that we reduce the number of variables. We will proceed to do so in the following part, in which our method of choice is data dimensionality reduction by Principal Component Analysis. This allows us to be more precise than we have previously been for visualization purposes."
   ]
  },
  {
   "attachments": {},
   "cell_type": "markdown",
   "metadata": {
    "datalore": {
     "hide_input_from_viewers": false,
     "hide_output_from_viewers": false,
     "node_id": "LPnchVpfiX8yquwflWYYqQ",
     "report_properties": {
      "y": 922
     },
     "type": "MD"
    }
   },
   "source": [
    "To keep score of the accuracy of the models we will be using we will be updating a DataFrame called 'accur', which will store accuracies of different models."
   ]
  },
  {
   "cell_type": "code",
   "execution_count": null,
   "metadata": {
    "datalore": {
     "hide_input_from_viewers": false,
     "hide_output_from_viewers": false,
     "node_id": "UmDkfbYApKD7cri39xktmg",
     "report_properties": {
      "y": 925
     },
     "type": "CODE"
    }
   },
   "outputs": [],
   "source": [
    "accur = pd.DataFrame()"
   ]
  },
  {
   "attachments": {},
   "cell_type": "markdown",
   "metadata": {
    "datalore": {
     "hide_input_from_viewers": false,
     "hide_output_from_viewers": false,
     "node_id": "RF9sieOdqJiaehaupCeh3R",
     "report_properties": {
      "y": 928
     },
     "type": "MD"
    }
   },
   "source": [
    "#### Principal Component Analysis for reducing dimensionality of data"
   ]
  },
  {
   "attachments": {},
   "cell_type": "markdown",
   "metadata": {
    "datalore": {
     "hide_input_from_viewers": false,
     "hide_output_from_viewers": false,
     "node_id": "Xve6aiotRyixsa097IP7cc",
     "report_properties": {
      "y": 931
     },
     "type": "MD"
    }
   },
   "source": [
    "Creation of : Observation data (predictor value) DataFrame X / Target data (response value) Series Y"
   ]
  },
  {
   "cell_type": "code",
   "execution_count": null,
   "metadata": {
    "datalore": {
     "hide_input_from_viewers": false,
     "hide_output_from_viewers": false,
     "node_id": "OZrEtuxYwqmUWDc0emgmta",
     "report_properties": {
      "y": 934
     },
     "type": "CODE"
    }
   },
   "outputs": [],
   "source": [
    "X = df.loc[:, df.columns != \"is_spam\"] #explanatory\n",
    "y = df[\"is_spam\"] #target"
   ]
  },
  {
   "cell_type": "code",
   "execution_count": null,
   "metadata": {
    "datalore": {
     "hide_input_from_viewers": false,
     "hide_output_from_viewers": false,
     "node_id": "e0khLhhsoDNlgjMHeY31VB",
     "report_properties": {
      "y": 937
     },
     "type": "CODE"
    }
   },
   "outputs": [
    {
     "data": {
      "text/plain": [
       "Text(0, 0.5, 'Second Principal Component')"
      ]
     },
     "execution_count": 22,
     "metadata": {},
     "output_type": "execute_result"
    },
    {
     "data": {
      "image/png": "[encoded data removed]",
      "text/plain": [
       "<Figure size 576x432 with 1 Axes>"
      ]
     },
     "metadata": {
      "needs_background": "light"
     },
     "output_type": "display_data"
    }
   ],
   "source": [
    "from sklearn.preprocessing import StandardScaler\n",
    "scaler = StandardScaler()\n",
    "scaler.fit(df)\n",
    "scaled_data = scaler.transform(df)\n",
    "from sklearn.decomposition import PCA\n",
    "pca = PCA(n_components=2)\n",
    "pca.fit(scaled_data)\n",
    "x_pca = pca.transform(scaled_data)\n",
    "plt.figure(figsize=(8,6))\n",
    "plt.scatter(x_pca[:,0],x_pca[:,1], c= df.is_spam, cmap='rainbow')\n",
    "plt.xlabel('First principal component')\n",
    "plt.ylabel('Second Principal Component')"
   ]
  },
  {
   "cell_type": "code",
   "execution_count": null,
   "metadata": {
    "datalore": {
     "hide_input_from_viewers": false,
     "hide_output_from_viewers": false,
     "node_id": "CB0XcjKM5yg7zptkF3iWWt",
     "report_properties": {
      "y": 940
     },
     "type": "CODE"
    }
   },
   "outputs": [
    {
     "data": {
      "text/plain": [
       "array([[-4.85287819e-02, -9.76225773e-03, -5.35436838e-02,\n",
       "        -7.68910565e-03, -4.38964599e-02, -5.32368111e-02,\n",
       "        -5.58099240e-02, -4.04387816e-02, -5.39743994e-02,\n",
       "        -2.57243564e-02, -5.86440890e-02, -2.29978520e-02,\n",
       "        -4.19981746e-02, -2.00677278e-02, -3.85856701e-02,\n",
       "        -4.99960037e-02, -5.40529747e-02, -2.69250034e-02,\n",
       "        -9.12340952e-02, -3.69594550e-02, -8.78197235e-02,\n",
       "        -1.64109061e-02, -6.43835216e-02, -4.67380334e-02,\n",
       "         2.12709386e-01,  2.08573268e-01,  4.41023270e-02,\n",
       "         2.73565588e-01,  2.15572256e-01,  2.97595207e-01,\n",
       "         3.04157966e-01,  3.38936303e-01,  9.75001535e-03,\n",
       "         3.38009277e-01,  2.63296508e-01,  3.09345422e-01,\n",
       "         5.17250593e-02, -8.84004182e-04,  4.04273735e-02,\n",
       "         3.09797036e-01,  1.23666234e-02,  2.82625107e-02,\n",
       "         6.79152149e-02,  1.46649443e-02,  1.36242509e-02,\n",
       "         2.64051608e-03,  4.16521391e-03,  6.50566305e-03,\n",
       "         1.29883428e-04,  1.37859545e-01,  2.03499593e-02,\n",
       "        -5.14970667e-02, -6.19554017e-02, -1.21215861e-03,\n",
       "        -2.08383922e-02, -3.81531145e-02, -5.22058779e-02,\n",
       "        -1.40012351e-01],\n",
       "       [ 1.40482139e-01, -1.88791761e-02,  1.45692015e-01,\n",
       "         1.55079083e-02,  1.21524545e-01,  1.53279473e-01,\n",
       "         1.50513463e-01,  1.24935976e-01,  2.03112568e-01,\n",
       "         1.33405167e-01,  1.93115529e-01,  5.54609620e-02,\n",
       "         1.08025216e-01,  5.67274385e-02,  1.87928902e-01,\n",
       "         1.08861846e-01,  1.84166255e-01,  1.55470882e-01,\n",
       "         1.65426608e-01,  1.24218913e-01,  2.50478733e-01,\n",
       "         5.30440676e-03,  2.26639619e-01,  1.37082215e-01,\n",
       "        -3.62701703e-02, -3.13210090e-02, -1.06797432e-01,\n",
       "         6.51575711e-02,  5.00059147e-02,  8.57599214e-02,\n",
       "         1.15365634e-01,  1.40531295e-01, -8.21224573e-02,\n",
       "         1.41260613e-01,  7.42358492e-02,  1.01767377e-01,\n",
       "        -1.18062025e-01, -1.85006128e-02, -7.67524727e-02,\n",
       "         1.62592755e-01, -8.00902951e-02, -7.19723278e-02,\n",
       "        -6.25870172e-02, -5.50633345e-02, -8.85356648e-02,\n",
       "        -1.05101975e-01, -1.22088878e-02, -5.28660488e-02,\n",
       "        -3.92200702e-02,  6.06811569e-02, -4.56945910e-02,\n",
       "         1.19115754e-01,  2.15908773e-01,  3.19610192e-02,\n",
       "         1.14028392e-01,  2.15106282e-01,  1.95663035e-01,\n",
       "         3.59900972e-01]])"
      ]
     },
     "execution_count": 23,
     "metadata": {},
     "output_type": "execute_result"
    }
   ],
   "source": [
    "pca.components_"
   ]
  },
  {
   "attachments": {},
   "cell_type": "markdown",
   "metadata": {
    "datalore": {
     "hide_input_from_viewers": false,
     "hide_output_from_viewers": false,
     "node_id": "RPXN8nUjEB8suFFKx9I2oG",
     "report_properties": {
      "y": 943
     },
     "type": "MD"
    }
   },
   "source": [
    "This heatmap and the color bar represent the correlation between the various feature and the principal component itself :"
   ]
  },
  {
   "cell_type": "code",
   "execution_count": null,
   "metadata": {
    "datalore": {
     "hide_input_from_viewers": false,
     "hide_output_from_viewers": false,
     "node_id": "4AEQVOpJXzzeuMKEzctvUg",
     "report_properties": {
      "y": 946
     },
     "type": "CODE"
    }
   },
   "outputs": [
    {
     "data": {
      "text/plain": [
       "<AxesSubplot:>"
      ]
     },
     "execution_count": 24,
     "metadata": {},
     "output_type": "execute_result"
    },
    {
     "data": {
      "image/png": "[encoded data removed]",
      "text/plain": [
       "<Figure size 864x432 with 2 Axes>"
      ]
     },
     "metadata": {
      "needs_background": "light"
     },
     "output_type": "display_data"
    }
   ],
   "source": [
    "map= pd.DataFrame(pca.components_,columns=df.columns)\n",
    "plt.figure(figsize=(12,6))\n",
    "sns.heatmap(map,cmap='twilight')"
   ]
  },
  {
   "cell_type": "code",
   "execution_count": null,
   "metadata": {
    "datalore": {
     "hide_input_from_viewers": false,
     "hide_output_from_viewers": false,
     "node_id": "538NYVonvdnkG5dpkmYcgp",
     "report_properties": {
      "y": 949
     },
     "type": "CODE"
    }
   },
   "outputs": [],
   "source": [
    "# PCA with 10 composants\n",
    "from sklearn.preprocessing import StandardScaler\n",
    "from sklearn.decomposition import PCA\n",
    "n_comp = len(df.columns)-1 \n",
    "pca = PCA(n_components=n_comp)\n",
    "# verify the colinearity of the variables\n",
    "principalComponents = pca.fit_transform(X)\n",
    "col = [str(i) for i in enumerate(range(1,n_comp+1))]\n",
    "principalDf = pd.DataFrame(principalComponents, columns=col)"
   ]
  },
  {
   "cell_type": "code",
   "execution_count": null,
   "metadata": {
    "datalore": {
     "hide_input_from_viewers": false,
     "hide_output_from_viewers": false,
     "node_id": "XnUHfOHFB0IALNvr5kA8pc",
     "report_properties": {
      "y": 952
     },
     "type": "CODE"
    }
   },
   "outputs": [
    {
     "data": {
      "text/html": [
       "<div>\n",
       "<style scoped>\n",
       "    .dataframe tbody tr th:only-of-type {\n",
       "        vertical-align: middle;\n",
       "    }\n",
       "\n",
       "    .dataframe tbody tr th {\n",
       "        vertical-align: top;\n",
       "    }\n",
       "\n",
       "    .dataframe thead th {\n",
       "        text-align: right;\n",
       "    }\n",
       "</style>\n",
       "<table border=\"1\" class=\"dataframe\">\n",
       "  <thead>\n",
       "    <tr style=\"text-align: right;\">\n",
       "      <th></th>\n",
       "      <th>(0, 1)</th>\n",
       "      <th>(1, 2)</th>\n",
       "      <th>(2, 3)</th>\n",
       "      <th>(3, 4)</th>\n",
       "      <th>(4, 5)</th>\n",
       "      <th>(5, 6)</th>\n",
       "      <th>(6, 7)</th>\n",
       "      <th>(7, 8)</th>\n",
       "      <th>(8, 9)</th>\n",
       "      <th>(9, 10)</th>\n",
       "      <th>...</th>\n",
       "      <th>(47, 48)</th>\n",
       "      <th>(48, 49)</th>\n",
       "      <th>(49, 50)</th>\n",
       "      <th>(50, 51)</th>\n",
       "      <th>(51, 52)</th>\n",
       "      <th>(52, 53)</th>\n",
       "      <th>(53, 54)</th>\n",
       "      <th>(54, 55)</th>\n",
       "      <th>(55, 56)</th>\n",
       "      <th>(56, 57)</th>\n",
       "    </tr>\n",
       "  </thead>\n",
       "  <tbody>\n",
       "    <tr>\n",
       "      <th>0</th>\n",
       "      <td>742.631276</td>\n",
       "      <td>-73.999324</td>\n",
       "      <td>-0.568408</td>\n",
       "      <td>-0.667933</td>\n",
       "      <td>-1.748143</td>\n",
       "      <td>0.981958</td>\n",
       "      <td>-0.063637</td>\n",
       "      <td>0.328864</td>\n",
       "      <td>-0.236496</td>\n",
       "      <td>-0.127434</td>\n",
       "      <td>...</td>\n",
       "      <td>0.036770</td>\n",
       "      <td>0.022245</td>\n",
       "      <td>-0.120295</td>\n",
       "      <td>0.008771</td>\n",
       "      <td>0.016891</td>\n",
       "      <td>0.069156</td>\n",
       "      <td>0.019182</td>\n",
       "      <td>-0.005360</td>\n",
       "      <td>-0.003838</td>\n",
       "      <td>-0.000671</td>\n",
       "    </tr>\n",
       "    <tr>\n",
       "      <th>1</th>\n",
       "      <td>2019.853253</td>\n",
       "      <td>102.079108</td>\n",
       "      <td>-23.777270</td>\n",
       "      <td>0.343555</td>\n",
       "      <td>0.060852</td>\n",
       "      <td>-0.383178</td>\n",
       "      <td>-0.218754</td>\n",
       "      <td>-0.206208</td>\n",
       "      <td>0.213752</td>\n",
       "      <td>-0.452741</td>\n",
       "      <td>...</td>\n",
       "      <td>0.278286</td>\n",
       "      <td>-0.173801</td>\n",
       "      <td>0.045458</td>\n",
       "      <td>0.435027</td>\n",
       "      <td>-0.320140</td>\n",
       "      <td>0.293301</td>\n",
       "      <td>0.130138</td>\n",
       "      <td>-0.019675</td>\n",
       "      <td>0.002866</td>\n",
       "      <td>-0.000226</td>\n",
       "    </tr>\n",
       "    <tr>\n",
       "      <th>2</th>\n",
       "      <td>-93.049164</td>\n",
       "      <td>3.010617</td>\n",
       "      <td>-1.044087</td>\n",
       "      <td>-0.961077</td>\n",
       "      <td>-1.245016</td>\n",
       "      <td>0.444150</td>\n",
       "      <td>-0.043683</td>\n",
       "      <td>-0.114810</td>\n",
       "      <td>0.654887</td>\n",
       "      <td>0.090693</td>\n",
       "      <td>...</td>\n",
       "      <td>-0.023981</td>\n",
       "      <td>-0.000341</td>\n",
       "      <td>-0.151798</td>\n",
       "      <td>-0.024499</td>\n",
       "      <td>0.079771</td>\n",
       "      <td>0.206912</td>\n",
       "      <td>-0.005952</td>\n",
       "      <td>-0.013590</td>\n",
       "      <td>0.000238</td>\n",
       "      <td>-0.000117</td>\n",
       "    </tr>\n",
       "    <tr>\n",
       "      <th>3</th>\n",
       "      <td>-93.049165</td>\n",
       "      <td>3.010615</td>\n",
       "      <td>-1.044085</td>\n",
       "      <td>-0.961039</td>\n",
       "      <td>-1.244935</td>\n",
       "      <td>0.444064</td>\n",
       "      <td>-0.043673</td>\n",
       "      <td>-0.114786</td>\n",
       "      <td>0.654846</td>\n",
       "      <td>0.090758</td>\n",
       "      <td>...</td>\n",
       "      <td>-0.023719</td>\n",
       "      <td>-0.000194</td>\n",
       "      <td>-0.150936</td>\n",
       "      <td>-0.025695</td>\n",
       "      <td>0.079323</td>\n",
       "      <td>0.206771</td>\n",
       "      <td>-0.005834</td>\n",
       "      <td>-0.013590</td>\n",
       "      <td>0.000234</td>\n",
       "      <td>-0.000119</td>\n",
       "    </tr>\n",
       "    <tr>\n",
       "      <th>4</th>\n",
       "      <td>-232.292146</td>\n",
       "      <td>0.838058</td>\n",
       "      <td>-0.049819</td>\n",
       "      <td>-0.642626</td>\n",
       "      <td>0.824581</td>\n",
       "      <td>-1.784932</td>\n",
       "      <td>-0.124241</td>\n",
       "      <td>-0.562246</td>\n",
       "      <td>-0.023155</td>\n",
       "      <td>-0.084790</td>\n",
       "      <td>...</td>\n",
       "      <td>-0.052210</td>\n",
       "      <td>-0.082150</td>\n",
       "      <td>-0.035521</td>\n",
       "      <td>0.040564</td>\n",
       "      <td>0.004172</td>\n",
       "      <td>-0.037285</td>\n",
       "      <td>0.013129</td>\n",
       "      <td>-0.012601</td>\n",
       "      <td>0.000273</td>\n",
       "      <td>-0.000105</td>\n",
       "    </tr>\n",
       "    <tr>\n",
       "      <th>...</th>\n",
       "      <td>...</td>\n",
       "      <td>...</td>\n",
       "      <td>...</td>\n",
       "      <td>...</td>\n",
       "      <td>...</td>\n",
       "      <td>...</td>\n",
       "      <td>...</td>\n",
       "      <td>...</td>\n",
       "      <td>...</td>\n",
       "      <td>...</td>\n",
       "      <td>...</td>\n",
       "      <td>...</td>\n",
       "      <td>...</td>\n",
       "      <td>...</td>\n",
       "      <td>...</td>\n",
       "      <td>...</td>\n",
       "      <td>...</td>\n",
       "      <td>...</td>\n",
       "      <td>...</td>\n",
       "      <td>...</td>\n",
       "      <td>...</td>\n",
       "    </tr>\n",
       "    <tr>\n",
       "      <th>4595</th>\n",
       "      <td>-200.732441</td>\n",
       "      <td>-16.685587</td>\n",
       "      <td>-0.654998</td>\n",
       "      <td>-0.737118</td>\n",
       "      <td>0.446715</td>\n",
       "      <td>-1.292969</td>\n",
       "      <td>-0.161242</td>\n",
       "      <td>-0.553953</td>\n",
       "      <td>0.261182</td>\n",
       "      <td>-0.249339</td>\n",
       "      <td>...</td>\n",
       "      <td>-0.029891</td>\n",
       "      <td>0.017172</td>\n",
       "      <td>-0.017996</td>\n",
       "      <td>0.037906</td>\n",
       "      <td>-0.006468</td>\n",
       "      <td>-0.031312</td>\n",
       "      <td>0.004717</td>\n",
       "      <td>-0.005466</td>\n",
       "      <td>-0.007771</td>\n",
       "      <td>-0.000950</td>\n",
       "    </tr>\n",
       "    <tr>\n",
       "      <th>4596</th>\n",
       "      <td>-273.564749</td>\n",
       "      <td>-3.545636</td>\n",
       "      <td>-0.731022</td>\n",
       "      <td>-1.478107</td>\n",
       "      <td>-3.370491</td>\n",
       "      <td>2.443176</td>\n",
       "      <td>0.067467</td>\n",
       "      <td>0.190164</td>\n",
       "      <td>0.767156</td>\n",
       "      <td>0.064463</td>\n",
       "      <td>...</td>\n",
       "      <td>0.015109</td>\n",
       "      <td>0.007821</td>\n",
       "      <td>0.037183</td>\n",
       "      <td>0.017782</td>\n",
       "      <td>-0.017558</td>\n",
       "      <td>-0.061137</td>\n",
       "      <td>0.016359</td>\n",
       "      <td>-0.001447</td>\n",
       "      <td>-0.008287</td>\n",
       "      <td>-0.000354</td>\n",
       "    </tr>\n",
       "    <tr>\n",
       "      <th>4597</th>\n",
       "      <td>-170.644634</td>\n",
       "      <td>-18.627663</td>\n",
       "      <td>-0.510206</td>\n",
       "      <td>-0.853021</td>\n",
       "      <td>-0.169366</td>\n",
       "      <td>-0.701953</td>\n",
       "      <td>-0.127588</td>\n",
       "      <td>-0.449194</td>\n",
       "      <td>0.337222</td>\n",
       "      <td>-0.222031</td>\n",
       "      <td>...</td>\n",
       "      <td>-0.006836</td>\n",
       "      <td>-0.048009</td>\n",
       "      <td>-0.283404</td>\n",
       "      <td>0.297962</td>\n",
       "      <td>0.173810</td>\n",
       "      <td>-0.039763</td>\n",
       "      <td>-0.001787</td>\n",
       "      <td>-0.002804</td>\n",
       "      <td>-0.011159</td>\n",
       "      <td>0.000024</td>\n",
       "    </tr>\n",
       "    <tr>\n",
       "      <th>4598</th>\n",
       "      <td>-210.270076</td>\n",
       "      <td>-13.082386</td>\n",
       "      <td>-0.882688</td>\n",
       "      <td>-0.860292</td>\n",
       "      <td>-0.409944</td>\n",
       "      <td>-0.452783</td>\n",
       "      <td>-0.078183</td>\n",
       "      <td>-0.313662</td>\n",
       "      <td>0.487098</td>\n",
       "      <td>-0.009959</td>\n",
       "      <td>...</td>\n",
       "      <td>0.015401</td>\n",
       "      <td>-0.019053</td>\n",
       "      <td>0.054341</td>\n",
       "      <td>0.020943</td>\n",
       "      <td>-0.085432</td>\n",
       "      <td>-0.126497</td>\n",
       "      <td>0.001849</td>\n",
       "      <td>-0.006034</td>\n",
       "      <td>-0.006214</td>\n",
       "      <td>-0.003862</td>\n",
       "    </tr>\n",
       "    <tr>\n",
       "      <th>4599</th>\n",
       "      <td>-247.755776</td>\n",
       "      <td>-6.849218</td>\n",
       "      <td>-0.985264</td>\n",
       "      <td>-1.226930</td>\n",
       "      <td>-2.205382</td>\n",
       "      <td>1.549780</td>\n",
       "      <td>-0.018730</td>\n",
       "      <td>0.028983</td>\n",
       "      <td>1.846005</td>\n",
       "      <td>-0.315459</td>\n",
       "      <td>...</td>\n",
       "      <td>0.050302</td>\n",
       "      <td>0.002563</td>\n",
       "      <td>-0.082802</td>\n",
       "      <td>-0.027190</td>\n",
       "      <td>-0.008655</td>\n",
       "      <td>-0.024225</td>\n",
       "      <td>0.008343</td>\n",
       "      <td>-0.002713</td>\n",
       "      <td>-0.005993</td>\n",
       "      <td>0.000200</td>\n",
       "    </tr>\n",
       "  </tbody>\n",
       "</table>\n",
       "<p>4600 rows × 57 columns</p>\n",
       "</div>"
      ],
      "text/plain": [
       "           (0, 1)      (1, 2)     (2, 3)    (3, 4)    (4, 5)    (5, 6)  \\\n",
       "0      742.631276  -73.999324  -0.568408 -0.667933 -1.748143  0.981958   \n",
       "1     2019.853253  102.079108 -23.777270  0.343555  0.060852 -0.383178   \n",
       "2      -93.049164    3.010617  -1.044087 -0.961077 -1.245016  0.444150   \n",
       "3      -93.049165    3.010615  -1.044085 -0.961039 -1.244935  0.444064   \n",
       "4     -232.292146    0.838058  -0.049819 -0.642626  0.824581 -1.784932   \n",
       "...           ...         ...        ...       ...       ...       ...   \n",
       "4595  -200.732441  -16.685587  -0.654998 -0.737118  0.446715 -1.292969   \n",
       "4596  -273.564749   -3.545636  -0.731022 -1.478107 -3.370491  2.443176   \n",
       "4597  -170.644634  -18.627663  -0.510206 -0.853021 -0.169366 -0.701953   \n",
       "4598  -210.270076  -13.082386  -0.882688 -0.860292 -0.409944 -0.452783   \n",
       "4599  -247.755776   -6.849218  -0.985264 -1.226930 -2.205382  1.549780   \n",
       "\n",
       "        (6, 7)    (7, 8)    (8, 9)   (9, 10)  ...  (47, 48)  (48, 49)  \\\n",
       "0    -0.063637  0.328864 -0.236496 -0.127434  ...  0.036770  0.022245   \n",
       "1    -0.218754 -0.206208  0.213752 -0.452741  ...  0.278286 -0.173801   \n",
       "2    -0.043683 -0.114810  0.654887  0.090693  ... -0.023981 -0.000341   \n",
       "3    -0.043673 -0.114786  0.654846  0.090758  ... -0.023719 -0.000194   \n",
       "4    -0.124241 -0.562246 -0.023155 -0.084790  ... -0.052210 -0.082150   \n",
       "...        ...       ...       ...       ...  ...       ...       ...   \n",
       "4595 -0.161242 -0.553953  0.261182 -0.249339  ... -0.029891  0.017172   \n",
       "4596  0.067467  0.190164  0.767156  0.064463  ...  0.015109  0.007821   \n",
       "4597 -0.127588 -0.449194  0.337222 -0.222031  ... -0.006836 -0.048009   \n",
       "4598 -0.078183 -0.313662  0.487098 -0.009959  ...  0.015401 -0.019053   \n",
       "4599 -0.018730  0.028983  1.846005 -0.315459  ...  0.050302  0.002563   \n",
       "\n",
       "      (49, 50)  (50, 51)  (51, 52)  (52, 53)  (53, 54)  (54, 55)  (55, 56)  \\\n",
       "0    -0.120295  0.008771  0.016891  0.069156  0.019182 -0.005360 -0.003838   \n",
       "1     0.045458  0.435027 -0.320140  0.293301  0.130138 -0.019675  0.002866   \n",
       "2    -0.151798 -0.024499  0.079771  0.206912 -0.005952 -0.013590  0.000238   \n",
       "3    -0.150936 -0.025695  0.079323  0.206771 -0.005834 -0.013590  0.000234   \n",
       "4    -0.035521  0.040564  0.004172 -0.037285  0.013129 -0.012601  0.000273   \n",
       "...        ...       ...       ...       ...       ...       ...       ...   \n",
       "4595 -0.017996  0.037906 -0.006468 -0.031312  0.004717 -0.005466 -0.007771   \n",
       "4596  0.037183  0.017782 -0.017558 -0.061137  0.016359 -0.001447 -0.008287   \n",
       "4597 -0.283404  0.297962  0.173810 -0.039763 -0.001787 -0.002804 -0.011159   \n",
       "4598  0.054341  0.020943 -0.085432 -0.126497  0.001849 -0.006034 -0.006214   \n",
       "4599 -0.082802 -0.027190 -0.008655 -0.024225  0.008343 -0.002713 -0.005993   \n",
       "\n",
       "      (56, 57)  \n",
       "0    -0.000671  \n",
       "1    -0.000226  \n",
       "2    -0.000117  \n",
       "3    -0.000119  \n",
       "4    -0.000105  \n",
       "...        ...  \n",
       "4595 -0.000950  \n",
       "4596 -0.000354  \n",
       "4597  0.000024  \n",
       "4598 -0.003862  \n",
       "4599  0.000200  \n",
       "\n",
       "[4600 rows x 57 columns]"
      ]
     },
     "execution_count": 26,
     "metadata": {},
     "output_type": "execute_result"
    }
   ],
   "source": [
    "principalDf"
   ]
  },
  {
   "attachments": {},
   "cell_type": "markdown",
   "metadata": {
    "datalore": {
     "hide_input_from_viewers": false,
     "hide_output_from_viewers": false,
     "node_id": "Jgldto2O5s9efC6XIy00Xy",
     "report_properties": {
      "y": 955
     },
     "type": "MD"
    }
   },
   "source": [
    "## Machine Learning models"
   ]
  },
  {
   "attachments": {},
   "cell_type": "markdown",
   "metadata": {
    "datalore": {
     "hide_input_from_viewers": false,
     "hide_output_from_viewers": false,
     "node_id": "ABw1tUIe7OLmMq7tG966ri",
     "report_properties": {
      "y": 958
     },
     "type": "MD"
    }
   },
   "source": [
    "#### Splitting then scaling data"
   ]
  },
  {
   "attachments": {},
   "cell_type": "markdown",
   "metadata": {
    "datalore": {
     "hide_input_from_viewers": false,
     "hide_output_from_viewers": false,
     "node_id": "GocvaTm9Muk24uuhWjEhoj",
     "report_properties": {
      "y": 961
     },
     "type": "MD"
    }
   },
   "source": [
    "Split data : Test/Train"
   ]
  },
  {
   "cell_type": "code",
   "execution_count": null,
   "metadata": {
    "datalore": {
     "hide_input_from_viewers": false,
     "hide_output_from_viewers": false,
     "node_id": "fQJf39WOUVrzZ1PLCe5ztz",
     "report_properties": {
      "y": 964
     },
     "type": "CODE"
    }
   },
   "outputs": [],
   "source": [
    "from sklearn.model_selection import train_test_split\n",
    "X_train, X_test, Y_train, Y_test = train_test_split(X, y, test_size=0.40, random_state=10)"
   ]
  },
  {
   "attachments": {},
   "cell_type": "markdown",
   "metadata": {
    "datalore": {
     "hide_input_from_viewers": false,
     "hide_output_from_viewers": false,
     "node_id": "vKrkyNetmTUovBeZ0yKDKE",
     "report_properties": {
      "y": 970
     },
     "type": "MD"
    }
   },
   "source": [
    "Most of this dataset is already scaled between 0 and 100 and uses the same \"unit\" as they all represent a frequency, but the following columns do not:\n",
    "- `capital_run_length_average`\n",
    "- `capital_run_length_longest`\n",
    "- `capital_run_length_total`\n",
    "\n",
    "We must scale them to make it easier for the models to compare the data. This will help increase the accuracy of our models."
   ]
  },
  {
   "cell_type": "code",
   "execution_count": null,
   "metadata": {
    "datalore": {
     "hide_input_from_viewers": false,
     "hide_output_from_viewers": false,
     "node_id": "zcFijbOrT4UEfbCON9tNDj",
     "report_properties": {
      "y": 973
     },
     "type": "CODE"
    }
   },
   "outputs": [
    {
     "data": {
      "text/plain": [
       "array([[-0.03836951, -0.09295085,  1.70403401, ..., -0.05790178,\n",
       "        -0.0973939 ,  0.80875619],\n",
       "       [-0.36838981, -0.16467806,  0.63586824, ..., -0.12590262,\n",
       "        -0.15466754, -0.11187639],\n",
       "       [-0.36838981, -0.16467806, -0.55098261, ..., -0.11077583,\n",
       "        -0.19431851, -0.35484406],\n",
       "       ...,\n",
       "       [-0.36838981,  0.75980604, -0.55098261, ..., -0.12865612,\n",
       "        -0.22075249, -0.4325276 ],\n",
       "       [ 2.30844149, -0.16467806,  0.1611279 , ..., -0.04308868,\n",
       "         0.00393636,  0.3244737 ],\n",
       "       [-0.36838981, -0.16467806, -0.55098261, ..., -0.03402655,\n",
       "         0.06121   , -0.27550768]])"
      ]
     },
     "execution_count": 30,
     "metadata": {},
     "output_type": "execute_result"
    }
   ],
   "source": [
    "scaler = StandardScaler()\n",
    "\n",
    "scaler.fit(X_train)\n",
    "X_train = scaler.transform(X_train)\n",
    "X_test = scaler.transform(X_test)\n",
    "\n",
    "X_train"
   ]
  },
  {
   "attachments": {},
   "cell_type": "markdown",
   "metadata": {
    "datalore": {
     "hide_input_from_viewers": false,
     "hide_output_from_viewers": false,
     "node_id": "9oUf8KUTxI0DA34Hjs1txf",
     "report_properties": {
      "y": 976
     },
     "type": "MD"
    }
   },
   "source": [
    "### Logistic Regression model : GridSearch"
   ]
  },
  {
   "attachments": {},
   "cell_type": "markdown",
   "metadata": {
    "datalore": {
     "hide_input_from_viewers": false,
     "hide_output_from_viewers": false,
     "node_id": "kQtk2YqowAM374u6BG8oOY",
     "report_properties": {
      "y": 979
     },
     "type": "MD"
    }
   },
   "source": [
    "In statistics, logistic regression or logit model is a binomial regression model. As with all binomial regression models, the aim is to explain a binary variable as well as possible by means of numerous real observations, using a mathematical model.\n",
    "\n",
    "GridSearchCV is a technique for determining the best parameter values from a given set of parameters in a grid. It is simply a cross-validation approach. The model as well as the parameters must be entered. Predictions are generated once the best parameter values have been extracted."
   ]
  },
  {
   "cell_type": "code",
   "execution_count": null,
   "metadata": {
    "datalore": {
     "hide_input_from_viewers": false,
     "hide_output_from_viewers": false,
     "node_id": "mK8d4hbBDYubL3nOomzOpb",
     "report_properties": {
      "y": 982
     },
     "type": "CODE"
    }
   },
   "outputs": [],
   "source": [
    "from sklearn.linear_model import LogisticRegression\n",
    "from sklearn.model_selection import GridSearchCV\n",
    "from sklearn.model_selection import validation_curve"
   ]
  },
  {
   "cell_type": "code",
   "execution_count": null,
   "metadata": {
    "datalore": {
     "hide_input_from_viewers": false,
     "hide_output_from_viewers": false,
     "node_id": "dAz0ITc31VzpTxAyBs7IRu",
     "report_properties": {
      "y": 985
     },
     "type": "CODE"
    }
   },
   "outputs": [],
   "source": [
    "def plot_accuracy_curve(param_range, train_score, test_score):\n",
    "  plt.plot(param_range, np.mean(train_score, axis=1), label=\"training accuracy\")\n",
    "  plt.plot(param_range, np.mean(test_score, axis=1), label=\"test accuracy\")\n",
    "  plt.xscale('log')\n",
    "  plt.legend()\n",
    "  plt.show()"
   ]
  },
  {
   "cell_type": "code",
   "execution_count": null,
   "metadata": {
    "datalore": {
     "hide_input_from_viewers": false,
     "hide_output_from_viewers": false,
     "node_id": "6jqw9GakrOH5gCeQBGj5fE",
     "report_properties": {
      "y": 988
     },
     "type": "CODE"
    }
   },
   "outputs": [
    {
     "data": {
      "text/plain": [
       "0.9255434782608696"
      ]
     },
     "execution_count": 33,
     "metadata": {},
     "output_type": "execute_result"
    }
   ],
   "source": [
    "grid_logreg = { \"C\":np.logspace(-5,5,11), \"penalty\": [\"l1\",\"l2\", \"elasticnet\"], \"dual\": [True, False] }\n",
    "model_logreg = LogisticRegression()\n",
    "model_logreg_cv = GridSearchCV(model_logreg, grid_logreg, cv=10) #Cross validation : cv = 10 times\n",
    "model_logreg_cv.fit(X_train, Y_train)\n",
    "model_logreg_cv_pred = model_logreg_cv.predict(X_test)\n",
    "\n",
    "model_logreg_cv.score(X_test, Y_test)"
   ]
  },
  {
   "attachments": {},
   "cell_type": "markdown",
   "metadata": {
    "datalore": {
     "hide_input_from_viewers": false,
     "hide_output_from_viewers": false,
     "node_id": "mJ83JJg6eGgYOhfLoZcONc",
     "report_properties": {
      "y": 991
     },
     "type": "MD"
    }
   },
   "source": [
    "One parameter for assessing classification models is accuracy, it is the percentage of predictions that our model correctly predicted. The following is the official definition of accuracy: The number of accurate predictions divided by the total number of predictions."
   ]
  },
  {
   "cell_type": "code",
   "execution_count": null,
   "metadata": {
    "datalore": {
     "hide_input_from_viewers": false,
     "hide_output_from_viewers": false,
     "node_id": "oVyNV129jUjqWXbHRai65n",
     "report_properties": {
      "y": 994
     },
     "type": "CODE"
    }
   },
   "outputs": [
    {
     "name": "stdout",
     "output_type": "stream",
     "text": [
      "Accuracy :  0.9255434782608696\n"
     ]
    }
   ],
   "source": [
    "from sklearn.metrics import accuracy_score\n",
    "accur['logistic regression with gridsearch'] = [accuracy_score(Y_test, model_logreg_cv_pred)]\n",
    "print (\"Accuracy : \", accuracy_score(Y_test, model_logreg_cv_pred))"
   ]
  },
  {
   "cell_type": "code",
   "execution_count": null,
   "metadata": {
    "datalore": {
     "hide_input_from_viewers": false,
     "hide_output_from_viewers": false,
     "node_id": "AvpWD3LPU7FUwqRkioCUWi",
     "report_properties": {
      "y": 997
     },
     "type": "CODE"
    }
   },
   "outputs": [
    {
     "data": {
      "text/plain": [
       "0.9255434782608696"
      ]
     },
     "execution_count": 35,
     "metadata": {},
     "output_type": "execute_result"
    }
   ],
   "source": [
    "accuracy_score(Y_test, model_logreg_cv_pred)"
   ]
  },
  {
   "attachments": {},
   "cell_type": "markdown",
   "metadata": {
    "datalore": {
     "hide_input_from_viewers": false,
     "hide_output_from_viewers": false,
     "node_id": "7N2S1MPq6sjOtGnSI5cgz6",
     "report_properties": {
      "y": 1000
     },
     "type": "MD"
    }
   },
   "source": [
    "#### Validation Curve"
   ]
  },
  {
   "attachments": {},
   "cell_type": "markdown",
   "metadata": {
    "datalore": {
     "hide_input_from_viewers": false,
     "hide_output_from_viewers": false,
     "node_id": "ULGQi9YwqqUJ9cQIR5VolM",
     "report_properties": {
      "y": 1003
     },
     "type": "MD"
    }
   },
   "source": [
    "Using a validation curve on the `C` parameter, we can notice that we get a better model when `C > ~10^-2` :"
   ]
  },
  {
   "cell_type": "code",
   "execution_count": null,
   "metadata": {
    "datalore": {
     "hide_input_from_viewers": false,
     "hide_output_from_viewers": false,
     "node_id": "nlfgcNKB6e33sqzleS5DY1",
     "report_properties": {
      "y": 1006
     },
     "type": "CODE"
    }
   },
   "outputs": [
    {
     "data": {
      "image/png": "[encoded data removed]",
      "text/plain": [
       "<Figure size 3600x1440 with 1 Axes>"
      ]
     },
     "metadata": {
      "needs_background": "light"
     },
     "output_type": "display_data"
    }
   ],
   "source": [
    "param_range = np.logspace(-5,5,11)\n",
    "train_score,test_score = validation_curve(LogisticRegression(penalty=model_logreg_cv.best_params_[\"penalty\"],dual=model_logreg_cv.best_params_[\"dual\"],), X, y, param_name=\"C\", param_range=param_range, cv=5)\n",
    "plot_accuracy_curve(param_range, train_score, test_score)"
   ]
  },
  {
   "attachments": {},
   "cell_type": "markdown",
   "metadata": {
    "datalore": {
     "hide_input_from_viewers": false,
     "hide_output_from_viewers": false,
     "node_id": "T0YosHQ6WrnSr2cZzhyES0",
     "report_properties": {
      "y": 1009
     },
     "type": "MD"
    }
   },
   "source": [
    "#### Confusion Matrix"
   ]
  },
  {
   "cell_type": "code",
   "execution_count": null,
   "metadata": {
    "datalore": {
     "hide_input_from_viewers": false,
     "hide_output_from_viewers": false,
     "node_id": "UYMOEyoTTVvPdpMt8azz95",
     "report_properties": {
      "y": 1012
     },
     "type": "CODE"
    }
   },
   "outputs": [
    {
     "data": {
      "image/png": "[encoded data removed]",
      "text/plain": [
       "<Figure size 360x360 with 2 Axes>"
      ]
     },
     "metadata": {
      "needs_background": "light"
     },
     "output_type": "display_data"
    }
   ],
   "source": [
    "from sklearn.metrics import classification_report, confusion_matrix\n",
    "\n",
    "model_logreg_grid_cm = confusion_matrix(Y_test, model_logreg_cv_pred)\n",
    "  \n",
    "f, ax = plt.subplots(figsize = (5,5))\n",
    "\n",
    "sns.heatmap(model_logreg_grid_cm, annot = True, linewidths = 0.5, linecolor = \"yellow\", fmt = \".0f\", ax = ax, cmap = \"YlOrBr\")\n",
    "plt.xlabel(\"y_pred\")\n",
    "plt.ylabel(\"y_true\")\n",
    "plt.show()"
   ]
  },
  {
   "attachments": {},
   "cell_type": "markdown",
   "metadata": {
    "datalore": {
     "hide_input_from_viewers": false,
     "hide_output_from_viewers": false,
     "node_id": "2W0loP28lpnmvsaZ1GlIOk",
     "report_properties": {
      "y": 1015
     },
     "type": "MD"
    }
   },
   "source": [
    "### Logistic Regression Model: Recursive feature elimination"
   ]
  },
  {
   "attachments": {},
   "cell_type": "markdown",
   "metadata": {
    "datalore": {
     "hide_input_from_viewers": false,
     "hide_output_from_viewers": false,
     "node_id": "6p7HIat8CF2NgLA8VUbFgY",
     "report_properties": {
      "y": 1018
     },
     "type": "MD"
    }
   },
   "source": [
    "RFE is a feature selection approach that fits a model and eliminates the weakest feature (or features) until the desired amount of features is attained. After playing a bit with the `n_features_to_select` param, we noticed that when we set it to 40, we get better results. This shows that only a small portion of the features are relevant to our model."
   ]
  },
  {
   "cell_type": "code",
   "execution_count": null,
   "metadata": {
    "datalore": {
     "hide_input_from_viewers": false,
     "hide_output_from_viewers": false,
     "node_id": "BZ4r3Ki0xXiY4kNgLQgyO5",
     "report_properties": {
      "y": 1021
     },
     "type": "CODE"
    }
   },
   "outputs": [],
   "source": [
    "from sklearn.feature_selection import RFE\n",
    "\n",
    "model_logreg = LogisticRegression()\n",
    "model_logreg_rfe = RFE(model_logreg, step=1, n_features_to_select=40)\n",
    "model_logreg_rfe = model_logreg_rfe.fit(X_train, Y_train)\n",
    "\n",
    "model_logreg_rfe_y_pred = model_logreg_rfe.predict(X_test)"
   ]
  },
  {
   "attachments": {},
   "cell_type": "markdown",
   "metadata": {
    "datalore": {
     "hide_input_from_viewers": false,
     "hide_output_from_viewers": false,
     "node_id": "WoAoBx8MGwNxoeZYsCs000",
     "report_properties": {
      "y": 1024
     },
     "type": "MD"
    }
   },
   "source": [
    "#### Confusion Matrix\n",
    "The number of accurate and inaccurate predictions is counted and separated by each class. \n",
    "It provides you with information on both the errors your classifier is making and, more crucially, the kinds of errors that are being produced.\n",
    "\n",
    "The drawback of relying solely on classification accuracy is mitigated by this breakdown."
   ]
  },
  {
   "cell_type": "code",
   "execution_count": null,
   "metadata": {
    "datalore": {
     "hide_input_from_viewers": false,
     "hide_output_from_viewers": false,
     "node_id": "2gpfByKmPYEI5ylsjkqISQ",
     "report_properties": {
      "y": 1027
     },
     "type": "CODE"
    }
   },
   "outputs": [
    {
     "data": {
      "image/png": "[encoded data removed]",
      "text/plain": [
       "<Figure size 360x360 with 2 Axes>"
      ]
     },
     "metadata": {
      "needs_background": "light"
     },
     "output_type": "display_data"
    }
   ],
   "source": [
    "model_logreg_rfe_cm = confusion_matrix(Y_test, model_logreg_rfe_y_pred)\n",
    "  \n",
    "f, ax = plt.subplots(figsize = (5,5))\n",
    "\n",
    "sns.heatmap(model_logreg_rfe_cm, annot = True, linewidths = 0.5, linecolor = \"yellow\", fmt = \".0f\", ax = ax, cmap = \"YlOrBr\")\n",
    "plt.xlabel(\"y_pred\")\n",
    "plt.ylabel(\"y_true\")\n",
    "plt.show()"
   ]
  },
  {
   "attachments": {},
   "cell_type": "markdown",
   "metadata": {
    "datalore": {
     "hide_input_from_viewers": false,
     "hide_output_from_viewers": false,
     "node_id": "3k5dieeCBgaWqHbW5Yj38G",
     "report_properties": {
      "y": 1030
     },
     "type": "MD"
    }
   },
   "source": [
    "This model doesn't perform as well as the last one, it classifies as spam way more emails that aren't and also classifies more emails as spam when they aren't."
   ]
  },
  {
   "cell_type": "code",
   "execution_count": null,
   "metadata": {
    "datalore": {
     "hide_input_from_viewers": false,
     "hide_output_from_viewers": false,
     "node_id": "ro7YizmmJwRHXx1iCXcCXx",
     "report_properties": {
      "y": 1033
     },
     "type": "CODE"
    }
   },
   "outputs": [
    {
     "name": "stdout",
     "output_type": "stream",
     "text": [
      "Accuracy :  0.9163043478260869\n"
     ]
    }
   ],
   "source": [
    "accur['Logistic Regression RFE'] =  [accuracy_score(Y_test, model_logreg_rfe_y_pred)]\n",
    "print (\"Accuracy : \", accuracy_score(Y_test, model_logreg_rfe_y_pred))"
   ]
  },
  {
   "attachments": {},
   "cell_type": "markdown",
   "metadata": {
    "datalore": {
     "hide_input_from_viewers": false,
     "hide_output_from_viewers": false,
     "node_id": "WFMPnfliTK4gIOXrDPFU7d",
     "report_properties": {
      "y": 1036
     },
     "type": "MD"
    }
   },
   "source": [
    "### K-Nearest Neighbor"
   ]
  },
  {
   "attachments": {},
   "cell_type": "markdown",
   "metadata": {
    "datalore": {
     "hide_input_from_viewers": false,
     "hide_output_from_viewers": false,
     "node_id": "4zuIReyAYJejGzokmMpzzu",
     "report_properties": {
      "y": 1039
     },
     "type": "MD"
    }
   },
   "source": [
    "The K-Nearest Neighbor or the KNN algorithm is a machine learning algorithm that works by assuming that similar things exist close to each other. Hence, the K-NN algorithm uses feature similarity between the new data points and the points in the training set (available cases) to predict the values of the new data points. In essence, the K-NN algorithm assigns a value to the latest data point based on how closely it resembles the points in the training set."
   ]
  },
  {
   "cell_type": "code",
   "execution_count": null,
   "metadata": {
    "datalore": {
     "hide_input_from_viewers": false,
     "hide_output_from_viewers": false,
     "node_id": "lRuVeRr50bV0ocOc4x2KQi",
     "report_properties": {
      "y": 1042
     },
     "type": "CODE"
    }
   },
   "outputs": [
    {
     "name": "stdout",
     "output_type": "stream",
     "text": [
      "mae: 0.1428442028985507\n",
      "mse: 0.07558876811594203\n",
      "rmse: 0.2749341159549721\n",
      "score: 0.6649502640849178\n"
     ]
    }
   ],
   "source": [
    "from sklearn import neighbors\n",
    "from sklearn.model_selection import cross_val_score\n",
    "\n",
    "model_knnreg = neighbors.KNeighborsRegressor(n_neighbors=6)\n",
    "model_knnreg.fit(X_train, Y_train)\n",
    "\n",
    "model_knnreg_y_pred = model_knnreg.predict(X_test)\n",
    "\n",
    "from sklearn.metrics import mean_absolute_error, mean_squared_error\n",
    "\n",
    "mae = mean_absolute_error(Y_test, model_knnreg_y_pred)\n",
    "mse = mean_squared_error(Y_test, model_knnreg_y_pred)\n",
    "rmse = mean_squared_error(Y_test, model_knnreg_y_pred, squared=False)\n",
    "score = cross_val_score(model_knnreg, X_train, Y_train).mean()\n",
    "\n",
    "\n",
    "print(f'mae: {mae}')\n",
    "print(f'mse: {mse}')\n",
    "print(f'rmse: {rmse}')\n",
    "print(f'score: {score}')"
   ]
  },
  {
   "attachments": {},
   "cell_type": "markdown",
   "metadata": {
    "datalore": {
     "hide_input_from_viewers": false,
     "hide_output_from_viewers": false,
     "node_id": "Osl4KugRrNl8Jfla0skxmb",
     "report_properties": {
      "y": 1045
     },
     "type": "MD"
    }
   },
   "source": [
    "#### Confusion Matrix"
   ]
  },
  {
   "cell_type": "code",
   "execution_count": null,
   "metadata": {
    "datalore": {
     "hide_input_from_viewers": false,
     "hide_output_from_viewers": false,
     "node_id": "toVOR2lVRZz4v7qReXLY0I",
     "report_properties": {
      "y": 1048
     },
     "type": "CODE"
    }
   },
   "outputs": [
    {
     "data": {
      "image/png": "[encoded data removed]",
      "text/plain": [
       "<Figure size 360x360 with 2 Axes>"
      ]
     },
     "metadata": {
      "needs_background": "light"
     },
     "output_type": "display_data"
    }
   ],
   "source": [
    "cm = confusion_matrix(Y_test.astype(int), model_knnreg_y_pred.astype(int))\n",
    "\n",
    "import seaborn as sns \n",
    "f, ax = plt.subplots(figsize = (5,5))\n",
    "\n",
    "sns.heatmap(cm,annot = True, linewidths= 0.5, linecolor=\"red\", fmt=\".0f\", ax=ax)\n",
    "plt.xlabel(\"y_pred\")\n",
    "plt.ylabel(\"y_true\")\n",
    "plt.show()"
   ]
  },
  {
   "attachments": {},
   "cell_type": "markdown",
   "metadata": {
    "datalore": {
     "hide_input_from_viewers": false,
     "hide_output_from_viewers": false,
     "node_id": "uF1qbNTZY7kDamBm94m8lJ",
     "report_properties": {
      "y": 1051
     },
     "type": "MD"
    }
   },
   "source": [
    "This model allows way more spam than the others but it also blocks way less legitimate emails, which could be better, as you don't want to miss an important email. We've also noticed that the more you increase `n_neighbors` the more it allows spam but it also reduced the number of emails considered as spam when they are not."
   ]
  },
  {
   "cell_type": "code",
   "execution_count": null,
   "metadata": {
    "datalore": {
     "hide_input_from_viewers": false,
     "hide_output_from_viewers": false,
     "node_id": "BcQL21xtlANfVvsOhLRgPP",
     "report_properties": {
      "y": 1054
     },
     "type": "CODE"
    }
   },
   "outputs": [
    {
     "name": "stdout",
     "output_type": "stream",
     "text": [
      "Accuracy :  0.8010869565217391\n"
     ]
    }
   ],
   "source": [
    "from sklearn.metrics import accuracy_score\n",
    "accur['KNN'] = [accuracy_score(Y_test.astype(int), model_knnreg_y_pred.astype(int))]\n",
    "print(\"Accuracy : \", accuracy_score(Y_test.astype(int), model_knnreg_y_pred.astype(int)))"
   ]
  },
  {
   "cell_type": "code",
   "execution_count": null,
   "metadata": {
    "datalore": {
     "hide_input_from_viewers": false,
     "hide_output_from_viewers": false,
     "node_id": "a1OLZ70n3UFvDGMivnexm4",
     "report_properties": {
      "y": 1057
     },
     "type": "CODE"
    }
   },
   "outputs": [
    {
     "data": {
      "text/plain": [
       "0.8010869565217391"
      ]
     },
     "execution_count": 44,
     "metadata": {},
     "output_type": "execute_result"
    }
   ],
   "source": [
    "# Accuracy = TP+TN / (TP+TN+FP+FN)\n",
    "\n",
    "(cm[1][1] + cm[0][0]) / (cm[1][1] + cm[0][0] + cm[0][1] + cm[1][0])"
   ]
  },
  {
   "attachments": {},
   "cell_type": "markdown",
   "metadata": {
    "datalore": {
     "hide_input_from_viewers": false,
     "hide_output_from_viewers": false,
     "node_id": "HlMiwJEUBZVvlXkYNSk2hG",
     "report_properties": {
      "y": 1060
     },
     "type": "MD"
    }
   },
   "source": [
    "We can notice here that the KNN is not a good fit for our dataset."
   ]
  },
  {
   "attachments": {},
   "cell_type": "markdown",
   "metadata": {
    "datalore": {
     "hide_input_from_viewers": false,
     "hide_output_from_viewers": false,
     "node_id": "X2OZ38amn3w98nLnyU5wbi",
     "report_properties": {
      "y": 1063
     },
     "type": "MD"
    }
   },
   "source": [
    "###  Decision Tree"
   ]
  },
  {
   "attachments": {},
   "cell_type": "markdown",
   "metadata": {
    "datalore": {
     "hide_input_from_viewers": false,
     "hide_output_from_viewers": false,
     "node_id": "J6dpd9YdYwFRlNpbvp2sqp",
     "report_properties": {
      "y": 1066
     },
     "type": "MD"
    }
   },
   "source": [
    "The goal is to create a model that predicts the value of a target variable by learning simple decision rules inferred from the data features. A tree can be seen as a piecewise constant approximation."
   ]
  },
  {
   "cell_type": "code",
   "execution_count": null,
   "metadata": {
    "datalore": {
     "hide_input_from_viewers": false,
     "hide_output_from_viewers": false,
     "node_id": "bxNJlgiZr9id8P6GAqGYVy",
     "report_properties": {
      "y": 1069
     },
     "type": "CODE"
    }
   },
   "outputs": [],
   "source": [
    "from sklearn.tree import DecisionTreeClassifier\n",
    "from sklearn import metrics "
   ]
  },
  {
   "attachments": {},
   "cell_type": "markdown",
   "metadata": {
    "datalore": {
     "hide_input_from_viewers": false,
     "hide_output_from_viewers": false,
     "node_id": "YMybKwEss23HtSJrGXsN7f",
     "report_properties": {
      "y": 1072
     },
     "type": "MD"
    }
   },
   "source": [
    "We can play with `max_depth` and `min_samples_split` to improve our model.\n",
    "- `max_depth` is the maximum depth of the tree\n",
    "- `min_samples_split` is the minimum number of samples required to be at a leaf node"
   ]
  },
  {
   "cell_type": "code",
   "execution_count": null,
   "metadata": {
    "datalore": {
     "hide_input_from_viewers": false,
     "hide_output_from_viewers": false,
     "node_id": "mUX8aXufSqtrSy9HQF09wn",
     "report_properties": {
      "y": 1075
     },
     "type": "CODE"
    }
   },
   "outputs": [],
   "source": [
    "clf = DecisionTreeClassifier(max_depth=10, min_samples_split=6)\n",
    "\n",
    "# Train Decision Tree Classifer\n",
    "clf = clf.fit(X_train,Y_train)\n",
    "\n",
    "#Predict the response for test dataset\n",
    "Y_pred = clf.predict(X_test)"
   ]
  },
  {
   "cell_type": "code",
   "execution_count": null,
   "metadata": {
    "datalore": {
     "hide_input_from_viewers": false,
     "hide_output_from_viewers": false,
     "node_id": "7ePzDL1wYKF0QktoG3pPDH",
     "report_properties": {
      "y": 1078
     },
     "type": "CODE"
    }
   },
   "outputs": [
    {
     "name": "stdout",
     "output_type": "stream",
     "text": [
      "Accuracy: 0.9152173913043479\n"
     ]
    }
   ],
   "source": [
    "accur['decision tree'] = [metrics.accuracy_score(Y_test, Y_pred)]\n",
    "print(\"Accuracy:\",  metrics.accuracy_score(Y_test, Y_pred))"
   ]
  },
  {
   "attachments": {},
   "cell_type": "markdown",
   "metadata": {
    "datalore": {
     "hide_input_from_viewers": false,
     "hide_output_from_viewers": false,
     "node_id": "ccSJlkEz8AJTNO65ELBwsM",
     "report_properties": {
      "y": 1081
     },
     "type": "MD"
    }
   },
   "source": [
    "#### Confusion Matrix"
   ]
  },
  {
   "cell_type": "code",
   "execution_count": null,
   "metadata": {
    "datalore": {
     "hide_input_from_viewers": false,
     "hide_output_from_viewers": false,
     "node_id": "GlULBLLwjyUTbaYSAjN4yp",
     "report_properties": {
      "y": 1084
     },
     "type": "CODE"
    }
   },
   "outputs": [
    {
     "data": {
      "image/png": "[encoded data removed]",
      "text/plain": [
       "<Figure size 360x360 with 2 Axes>"
      ]
     },
     "metadata": {
      "needs_background": "light"
     },
     "output_type": "display_data"
    }
   ],
   "source": [
    "cm = confusion_matrix(Y_test.astype(int), Y_pred.astype(int))\n",
    "\n",
    "import seaborn as sns \n",
    "f, ax = plt.subplots(figsize = (5,5))\n",
    "\n",
    "sns.heatmap(cm,annot = True, linewidths= 0.5, linecolor=\"Green\", fmt=\".0f\", ax=ax, cmap=\"Greens\")\n",
    "plt.xlabel(\"y_pred\")\n",
    "plt.ylabel(\"y_true\")\n",
    "plt.show()"
   ]
  },
  {
   "attachments": {},
   "cell_type": "markdown",
   "metadata": {
    "datalore": {
     "hide_input_from_viewers": false,
     "hide_output_from_viewers": false,
     "node_id": "0hgeHlGwuenykDKaJVj5zT",
     "report_properties": {
      "y": 1087
     },
     "type": "MD"
    }
   },
   "source": [
    "### Gradient boosting classification"
   ]
  },
  {
   "attachments": {},
   "cell_type": "markdown",
   "metadata": {
    "datalore": {
     "hide_input_from_viewers": false,
     "hide_output_from_viewers": false,
     "node_id": "3RVxHL8bYKKfUNOmuMen0i",
     "report_properties": {
      "y": 1090
     },
     "type": "MD"
    }
   },
   "source": [
    "Gradient boosting is a machine learning technique that produces a prediction model in the form of an ensemble of weak prediction models. "
   ]
  },
  {
   "cell_type": "code",
   "execution_count": null,
   "metadata": {
    "datalore": {
     "hide_input_from_viewers": false,
     "hide_output_from_viewers": false,
     "node_id": "3uiHS7sK5NpB03zi0Fn2ju",
     "report_properties": {
      "y": 1093
     },
     "type": "CODE"
    }
   },
   "outputs": [],
   "source": [
    "from sklearn.ensemble import GradientBoostingClassifier\n",
    "from sklearn.preprocessing import MinMaxScaler"
   ]
  },
  {
   "cell_type": "code",
   "execution_count": null,
   "metadata": {
    "datalore": {
     "hide_input_from_viewers": false,
     "hide_output_from_viewers": false,
     "node_id": "ug5DgcDN8eW20o21OwpdWA",
     "report_properties": {
      "y": 1096
     },
     "type": "CODE"
    }
   },
   "outputs": [],
   "source": [
    "scaler = MinMaxScaler()\n",
    "X_train = scaler.fit_transform(X_train)\n",
    "X_test = scaler.transform(X_test)"
   ]
  },
  {
   "cell_type": "code",
   "execution_count": null,
   "metadata": {
    "datalore": {
     "hide_input_from_viewers": false,
     "hide_output_from_viewers": false,
     "node_id": "b039FenRUICMk3nEZODfnt",
     "report_properties": {
      "y": 1099
     },
     "type": "CODE"
    }
   },
   "outputs": [
    {
     "name": "stdout",
     "output_type": "stream",
     "text": [
      "Learning rate:  0.05\n",
      "Accuracy score (training): 0.816\n",
      "Accuracy score (validation): 0.808\n",
      "\n",
      "\n",
      "Learning rate:  0.075\n",
      "Accuracy score (training): 0.845\n",
      "Accuracy score (validation): 0.846\n",
      "\n",
      "\n",
      "Learning rate:  0.1\n",
      "Accuracy score (training): 0.864\n",
      "Accuracy score (validation): 0.860\n",
      "\n",
      "\n",
      "Learning rate:  0.25\n",
      "Accuracy score (training): 0.906\n",
      "Accuracy score (validation): 0.898\n",
      "\n",
      "\n",
      "Learning rate:  0.5\n",
      "Accuracy score (training): 0.921\n",
      "Accuracy score (validation): 0.907\n",
      "\n",
      "\n",
      "Learning rate:  0.75\n",
      "Accuracy score (training): 0.929\n",
      "Accuracy score (validation): 0.920\n",
      "\n",
      "\n",
      "Learning rate:  1\n",
      "Accuracy score (training): 0.926\n",
      "Accuracy score (validation): 0.917\n",
      "\n",
      "\n"
     ]
    }
   ],
   "source": [
    "lr_list = [0.05, 0.075, 0.1, 0.25, 0.5, 0.75, 1]\n",
    "\n",
    "for learning_rate in lr_list:\n",
    "    gb_clf = GradientBoostingClassifier(n_estimators=20, learning_rate=learning_rate, max_features=2, max_depth=2, random_state=0)\n",
    "    gb_clf.fit(X_train, Y_train)\n",
    "\n",
    "    print(\"Learning rate: \", learning_rate)\n",
    "    print(\"Accuracy score (training): {0:.3f}\".format(gb_clf.score(X_train, Y_train)))\n",
    "    print(\"Accuracy score (validation): {0:.3f}\".format(gb_clf.score(X_test, Y_test)))\n",
    "    print(\"\\n\")"
   ]
  },
  {
   "cell_type": "code",
   "execution_count": null,
   "metadata": {
    "datalore": {
     "hide_input_from_viewers": false,
     "hide_output_from_viewers": false,
     "node_id": "ZvdgMxO3sm8GWB0IKjHp6r",
     "report_properties": {
      "y": 1102
     },
     "type": "CODE"
    }
   },
   "outputs": [],
   "source": [
    "accur['gradient boosting'] = 0.917"
   ]
  },
  {
   "cell_type": "code",
   "execution_count": null,
   "metadata": {
    "datalore": {
     "hide_input_from_viewers": false,
     "hide_output_from_viewers": false,
     "node_id": "g46EIvh3Appc01VECp5QRN",
     "report_properties": {
      "y": 1105
     },
     "type": "CODE"
    }
   },
   "outputs": [
    {
     "name": "stdout",
     "output_type": "stream",
     "text": [
      "Confusion Matrix:\n",
      "[[1035   54]\n",
      " [ 117  634]]\n",
      "\n",
      "\n",
      "Classification Report\n",
      "              precision    recall  f1-score   support\n",
      "\n",
      "         0.0       0.90      0.95      0.92      1089\n",
      "         1.0       0.92      0.84      0.88       751\n",
      "\n",
      "    accuracy                           0.91      1840\n",
      "   macro avg       0.91      0.90      0.90      1840\n",
      "weighted avg       0.91      0.91      0.91      1840\n",
      "\n"
     ]
    }
   ],
   "source": [
    "gb_clf2 = GradientBoostingClassifier(n_estimators=20, learning_rate=0.5, max_features=2, max_depth=2, random_state=0)\n",
    "gb_clf2.fit(X_train, Y_train)\n",
    "predictions = gb_clf2.predict(X_test)\n",
    "\n",
    "cm = confusion_matrix(Y_test, predictions)\n",
    "\n",
    "print(\"Confusion Matrix:\")\n",
    "print(confusion_matrix(Y_test, predictions))\n",
    "\n",
    "print(\"\\n\")\n",
    "\n",
    "print(\"Classification Report\")\n",
    "print(classification_report(Y_test, predictions))"
   ]
  },
  {
   "attachments": {},
   "cell_type": "markdown",
   "metadata": {
    "datalore": {
     "hide_input_from_viewers": false,
     "hide_output_from_viewers": false,
     "node_id": "duaIH5ho8KSeaduO58Y8Yw",
     "report_properties": {
      "y": 1108
     },
     "type": "MD"
    }
   },
   "source": [
    "#### Confusion Matrix"
   ]
  },
  {
   "cell_type": "code",
   "execution_count": null,
   "metadata": {
    "datalore": {
     "hide_input_from_viewers": false,
     "hide_output_from_viewers": false,
     "node_id": "5mfFiT4AX5Y0THoSTNsxDn",
     "report_properties": {
      "y": 1111
     },
     "type": "CODE"
    }
   },
   "outputs": [
    {
     "data": {
      "image/png": "[encoded data removed]",
      "text/plain": [
       "<Figure size 360x360 with 2 Axes>"
      ]
     },
     "metadata": {
      "needs_background": "light"
     },
     "output_type": "display_data"
    }
   ],
   "source": [
    "import seaborn as sns \n",
    "f, ax =plt.subplots(figsize = (5,5))\n",
    "\n",
    "sns.heatmap(cm,annot = True, linewidths= 0.5, linecolor=\"blue\", fmt=\".0f\", ax=ax, cmap=\"Blues\")\n",
    "plt.xlabel(\"y_pred\")\n",
    "plt.ylabel(\"y_true\")\n",
    "plt.show()"
   ]
  },
  {
   "attachments": {},
   "cell_type": "markdown",
   "metadata": {
    "datalore": {
     "hide_input_from_viewers": false,
     "hide_output_from_viewers": false,
     "node_id": "rSNx5tm8DTuPyGVN2NpKKg",
     "report_properties": {
      "y": 1114
     },
     "type": "MD"
    }
   },
   "source": [
    "### Random forest"
   ]
  },
  {
   "attachments": {},
   "cell_type": "markdown",
   "metadata": {
    "datalore": {
     "hide_input_from_viewers": false,
     "hide_output_from_viewers": false,
     "node_id": "EhBmcKAx8SiOHH167w6B3F",
     "report_properties": {
      "y": 1117
     },
     "type": "MD"
    }
   },
   "source": [
    "On various samples, it constructs decision trees and uses their average for classification and majority vote for regression.\n",
    "\n",
    "The Random Forest Algorithm's ability to handle data sets with both continuous variables, as in regression, and categorical variables, as in classification, is one of its most crucial qualities. In terms of categorization issues, it delivers superior outcomes."
   ]
  },
  {
   "cell_type": "code",
   "execution_count": null,
   "metadata": {
    "datalore": {
     "hide_input_from_viewers": false,
     "hide_output_from_viewers": false,
     "node_id": "7Q97WdAbhnHzXioqmdy2AI",
     "report_properties": {
      "y": 1120
     },
     "type": "CODE"
    }
   },
   "outputs": [],
   "source": [
    "from sklearn.ensemble import RandomForestClassifier\n",
    "\n",
    "clf = RandomForestClassifier(max_depth=70, random_state=0)\n",
    "clf.fit(X_train, Y_train)\n",
    "\n",
    "rf_Y_pred = clf.predict(X_test)"
   ]
  },
  {
   "cell_type": "code",
   "execution_count": null,
   "metadata": {
    "datalore": {
     "hide_input_from_viewers": false,
     "hide_output_from_viewers": false,
     "node_id": "jLSUwZimvj28fSSqA7OOzG",
     "report_properties": {
      "y": 1123
     },
     "type": "CODE"
    }
   },
   "outputs": [
    {
     "name": "stdout",
     "output_type": "stream",
     "text": [
      "Accuracy: 0.9521739130434783\n"
     ]
    }
   ],
   "source": [
    "accur['random forest'] = [metrics.accuracy_score(Y_test, rf_Y_pred)]\n",
    "print(\"Accuracy:\",  metrics.accuracy_score(Y_test, rf_Y_pred))"
   ]
  },
  {
   "attachments": {},
   "cell_type": "markdown",
   "metadata": {
    "datalore": {
     "hide_input_from_viewers": false,
     "hide_output_from_viewers": false,
     "node_id": "67wX3U6LkOmlVfiz6HOSZL",
     "report_properties": {
      "y": 1126
     },
     "type": "MD"
    }
   },
   "source": [
    "#### Confusion Matrix"
   ]
  },
  {
   "cell_type": "code",
   "execution_count": null,
   "metadata": {
    "datalore": {
     "hide_input_from_viewers": false,
     "hide_output_from_viewers": false,
     "node_id": "tqpGpx1ZMZME4MPBwJhsza",
     "report_properties": {
      "y": 1129
     },
     "type": "CODE"
    }
   },
   "outputs": [
    {
     "data": {
      "image/png": "[encoded data removed]",
      "text/plain": [
       "<Figure size 360x360 with 2 Axes>"
      ]
     },
     "metadata": {
      "needs_background": "light"
     },
     "output_type": "display_data"
    }
   ],
   "source": [
    "cm = confusion_matrix(Y_test.astype(int), rf_Y_pred.astype(int))\n",
    "\n",
    "import seaborn as sns \n",
    "f, ax =plt.subplots(figsize = (5,5))\n",
    "\n",
    "sns.heatmap(cm,annot = True, linewidths= 0.5, linecolor=\"Red\", fmt=\".0f\", ax=ax, cmap=\"RdPu\")\n",
    "plt.xlabel(\"y_pred\")\n",
    "plt.ylabel(\"y_true\")\n",
    "plt.show()"
   ]
  },
  {
   "attachments": {},
   "cell_type": "markdown",
   "metadata": {
    "datalore": {
     "hide_input_from_viewers": false,
     "hide_output_from_viewers": false,
     "node_id": "0xkTaFAMt6qY00t91aF4U2",
     "report_properties": {
      "y": 1132
     },
     "type": "MD"
    }
   },
   "source": [
    "### XGBoost"
   ]
  },
  {
   "attachments": {},
   "cell_type": "markdown",
   "metadata": {
    "datalore": {
     "hide_input_from_viewers": false,
     "hide_output_from_viewers": false,
     "node_id": "ghmNJZJYYpVoHZ7UDQ27Uc",
     "report_properties": {
      "y": 1135
     },
     "type": "MD"
    }
   },
   "source": [
    "XGBoost is an open-source software library that implements optimized distributed gradient boosting machine learning algorithms under the Gradient Boosting framework.\n"
   ]
  },
  {
   "cell_type": "code",
   "execution_count": null,
   "metadata": {
    "datalore": {
     "hide_input_from_viewers": false,
     "hide_output_from_viewers": false,
     "node_id": "gvVAgAycJKREn1BEsTCvhk",
     "report_properties": {
      "y": 1138
     },
     "type": "CODE"
    }
   },
   "outputs": [],
   "source": [
    "from xgboost import XGBClassifier"
   ]
  },
  {
   "cell_type": "code",
   "execution_count": null,
   "metadata": {
    "datalore": {
     "hide_input_from_viewers": false,
     "hide_output_from_viewers": false,
     "node_id": "NGfK09PQvMxFMT0Y8ffK3w",
     "report_properties": {
      "y": 1141
     },
     "type": "CODE"
    }
   },
   "outputs": [
    {
     "data": {
      "text/plain": [
       "XGBClassifier(base_score=0.5, booster='gbtree', callbacks=None,\n",
       "              colsample_bylevel=1, colsample_bynode=1, colsample_bytree=1,\n",
       "              early_stopping_rounds=None, enable_categorical=False,\n",
       "              eval_metric=None, feature_types=None, gamma=0, gpu_id=-1,\n",
       "              grow_policy='depthwise', importance_type=None,\n",
       "              interaction_constraints='', learning_rate=0.300000012,\n",
       "              max_bin=256, max_cat_threshold=64, max_cat_to_onehot=4,\n",
       "              max_delta_step=0, max_depth=5, max_leaves=0, min_child_weight=1,\n",
       "              missing=nan, monotone_constraints='()', n_estimators=100,\n",
       "              n_jobs=0, num_parallel_tree=1, predictor='auto', random_state=0, ...)"
      ]
     },
     "execution_count": 61,
     "metadata": {},
     "output_type": "execute_result"
    }
   ],
   "source": [
    "xgb_clf = XGBClassifier(max_depth=5)\n",
    "xgb_clf.fit(X_train, Y_train)"
   ]
  },
  {
   "cell_type": "code",
   "execution_count": null,
   "metadata": {
    "datalore": {
     "hide_input_from_viewers": false,
     "hide_output_from_viewers": false,
     "node_id": "xR7iPXuVODoyCUoya18KsA",
     "report_properties": {
      "y": 1144
     },
     "type": "CODE"
    }
   },
   "outputs": [],
   "source": [
    "prediction = xgb_clf.predict(X_test)\n",
    "predictions = [round(value) for value in prediction]\n",
    "cm = confusion_matrix(Y_test, prediction)"
   ]
  },
  {
   "cell_type": "code",
   "execution_count": null,
   "metadata": {
    "datalore": {
     "hide_input_from_viewers": false,
     "hide_output_from_viewers": false,
     "node_id": "ildDdngBIWCuAacZVuIf1L",
     "report_properties": {
      "y": 1147
     },
     "type": "CODE"
    }
   },
   "outputs": [
    {
     "name": "stdout",
     "output_type": "stream",
     "text": [
      "0.95\n"
     ]
    }
   ],
   "source": [
    "score = xgb_clf.score(X_test, Y_test)\n",
    "accur['XGBoost'] = score\n",
    "print(score)"
   ]
  },
  {
   "attachments": {},
   "cell_type": "markdown",
   "metadata": {
    "datalore": {
     "hide_input_from_viewers": false,
     "hide_output_from_viewers": false,
     "node_id": "g5PO8wroHvtutkhoSIqE54",
     "report_properties": {
      "y": 1150
     },
     "type": "MD"
    }
   },
   "source": [
    "Let's take a look at the features that influence the most our model."
   ]
  },
  {
   "cell_type": "code",
   "execution_count": null,
   "metadata": {
    "datalore": {
     "hide_input_from_viewers": false,
     "hide_output_from_viewers": false,
     "node_id": "wO8LLJkYy2P5akkptNMXnr",
     "report_properties": {
      "y": 1153
     },
     "type": "CODE"
    }
   },
   "outputs": [
    {
     "data": {
      "image/png": "[encoded data removed]",
      "text/plain": [
       "<Figure size 3600x1440 with 1 Axes>"
      ]
     },
     "metadata": {
      "needs_background": "light"
     },
     "output_type": "display_data"
    }
   ],
   "source": [
    "from xgboost import plot_importance\n",
    "import matplotlib as mpl\n",
    "mpl.rcParams['axes.titlesize'] = 25\n",
    "mpl.rcParams['axes.labelsize'] = 25\n",
    "mpl.rcParams['xtick.labelsize'] = 25\n",
    "mpl.rcParams['ytick.labelsize'] = 25\n",
    "plot_importance(xgb_clf, max_num_features=50)\n",
    "plt.show()"
   ]
  },
  {
   "cell_type": "code",
   "execution_count": null,
   "metadata": {
    "datalore": {
     "hide_input_from_viewers": false,
     "hide_output_from_viewers": false,
     "node_id": "Zh4K44mrrx2pF45apOt1pV",
     "report_properties": {
      "y": 1156
     },
     "type": "CODE"
    }
   },
   "outputs": [
    {
     "data": {
      "text/plain": [
       "array([0.00755331, 0.00625205, 0.00438394, 0.        , 0.02031251,\n",
       "       0.00614988, 0.1827717 , 0.01149035, 0.0045919 , 0.00591509,\n",
       "       0.00686726, 0.00418161, 0.00481797, 0.        , 0.0026414 ,\n",
       "       0.01877958, 0.01792732, 0.02069015, 0.00570909, 0.        ,\n",
       "       0.0231771 , 0.00274799, 0.01917452, 0.03390837, 0.05117388,\n",
       "       0.01115473, 0.0409793 , 0.02352058, 0.00529984, 0.00154563,\n",
       "       0.        , 0.        , 0.00347835, 0.        , 0.00561075,\n",
       "       0.01769987, 0.01670397, 0.        , 0.00751406, 0.        ,\n",
       "       0.        , 0.02169158, 0.00251362, 0.00584706, 0.01456681,\n",
       "       0.03231739, 0.        , 0.00730147, 0.01285248, 0.00792135,\n",
       "       0.00296688, 0.078038  , 0.17072113, 0.00305829, 0.02337275,\n",
       "       0.0119581 , 0.010149  ], dtype=float32)"
      ]
     },
     "execution_count": 65,
     "metadata": {},
     "output_type": "execute_result"
    }
   ],
   "source": [
    "# Visualize the importance of each feature\n",
    "xgb_clf.feature_importances_"
   ]
  },
  {
   "cell_type": "code",
   "execution_count": null,
   "metadata": {
    "datalore": {
     "hide_input_from_viewers": false,
     "hide_output_from_viewers": false,
     "node_id": "bbe4u6qGdu19uowQKmFDvc",
     "report_properties": {
      "y": 1159
     },
     "type": "CODE"
    }
   },
   "outputs": [
    {
     "data": {
      "text/plain": [
       "['word_freq_remove',\n",
       " 'char_freq_$',\n",
       " 'char_freq_!',\n",
       " 'word_freq_hp',\n",
       " 'word_freq_george',\n",
       " 'word_freq_money',\n",
       " 'word_freq_edu',\n",
       " 'word_freq_650',\n",
       " 'capital_run_length_average',\n",
       " 'word_freq_your',\n",
       " 'word_freq_meeting',\n",
       " 'word_freq_email',\n",
       " 'word_freq_our',\n",
       " 'word_freq_000',\n",
       " 'word_freq_free',\n",
       " 'word_freq_business',\n",
       " 'word_freq_technology',\n",
       " 'word_freq_1999',\n",
       " 'word_freq_re',\n",
       " 'char_freq_;',\n",
       " 'capital_run_length_longest',\n",
       " 'word_freq_internet',\n",
       " 'word_freq_hpl',\n",
       " 'capital_run_length_total',\n",
       " 'char_freq_(',\n",
       " 'word_freq_make',\n",
       " 'word_freq_pm',\n",
       " 'word_freq_conference',\n",
       " 'word_freq_receive',\n",
       " 'word_freq_address',\n",
       " 'word_freq_over',\n",
       " 'word_freq_mail',\n",
       " 'word_freq_project',\n",
       " 'word_freq_you',\n",
       " 'word_freq_85',\n",
       " 'word_freq_lab',\n",
       " 'word_freq_people',\n",
       " 'word_freq_order',\n",
       " 'word_freq_all',\n",
       " 'word_freq_will',\n",
       " 'word_freq_data',\n",
       " 'char_freq_#',\n",
       " 'char_freq_[',\n",
       " 'word_freq_font',\n",
       " 'word_freq_addresses',\n",
       " 'word_freq_original',\n",
       " 'word_freq_labs']"
      ]
     },
     "execution_count": 66,
     "metadata": {},
     "output_type": "execute_result"
    }
   ],
   "source": [
    "# impfea : IMPortant FEAture.\n",
    "# Which features are the most important ?\n",
    "\n",
    "\n",
    "yoo = list(xgb_clf.feature_importances_)\n",
    "yoo.sort(reverse=True)\n",
    "\n",
    "impfea = []\n",
    "for i in [i for i in yoo if i > 0]:\n",
    "    impfea.append(list(xgb_clf.feature_importances_).index(i))\n",
    "\n",
    "impfea = list(df.columns[impfea])\n",
    "impfea"
   ]
  },
  {
   "cell_type": "code",
   "execution_count": null,
   "metadata": {
    "datalore": {
     "hide_input_from_viewers": false,
     "hide_output_from_viewers": false,
     "node_id": "EqDcVPHlim0H6qfCYBfabD",
     "report_properties": {
      "y": 1162
     },
     "type": "CODE"
    }
   },
   "outputs": [
    {
     "data": {
      "text/plain": [
       "['word_freq_remove', 'char_freq_$', 'char_freq_!']"
      ]
     },
     "execution_count": 67,
     "metadata": {},
     "output_type": "execute_result"
    }
   ],
   "source": [
    "impfea[0:3]"
   ]
  },
  {
   "attachments": {},
   "cell_type": "markdown",
   "metadata": {
    "datalore": {
     "hide_input_from_viewers": false,
     "hide_output_from_viewers": false,
     "node_id": "9T0fm36Z1CkITgDVFDdZQw",
     "report_properties": {
      "y": 1165
     },
     "type": "MD"
    }
   },
   "source": [
    "This shows us the most important features in the dataset, we see here that these are the variables representing the frequency of '$', 'remove' and '!"
   ]
  },
  {
   "cell_type": "code",
   "execution_count": null,
   "metadata": {
    "datalore": {
     "hide_input_from_viewers": false,
     "hide_output_from_viewers": false,
     "node_id": "ztXCU9CkYcDJXymEQ6l7gP",
     "report_properties": {
      "y": 1168
     },
     "type": "CODE"
    }
   },
   "outputs": [
    {
     "data": {
      "text/plain": [
       "0.05"
      ]
     },
     "execution_count": 68,
     "metadata": {},
     "output_type": "execute_result"
    }
   ],
   "source": [
    "mse = mean_squared_error(prediction, Y_test)\n",
    "mse"
   ]
  },
  {
   "attachments": {},
   "cell_type": "markdown",
   "metadata": {
    "datalore": {
     "hide_input_from_viewers": false,
     "hide_output_from_viewers": false,
     "node_id": "dil8J4VsN820pv6Na3cqNe",
     "report_properties": {
      "y": 1171
     },
     "type": "MD"
    }
   },
   "source": [
    "#### Confusion Matrix"
   ]
  },
  {
   "cell_type": "code",
   "execution_count": null,
   "metadata": {
    "datalore": {
     "hide_input_from_viewers": false,
     "hide_output_from_viewers": false,
     "node_id": "7FNCwKluvpNaOFw1RK8ptx",
     "report_properties": {
      "y": 1174
     },
     "type": "CODE"
    }
   },
   "outputs": [
    {
     "data": {
      "image/png": "[encoded data removed]",
      "text/plain": [
       "<Figure size 360x360 with 2 Axes>"
      ]
     },
     "metadata": {
      "needs_background": "light"
     },
     "output_type": "display_data"
    }
   ],
   "source": [
    "import seaborn as sns \n",
    "f, ax = plt.subplots(figsize = (5,5))\n",
    "\n",
    "sns.heatmap(cm,annot = True, linewidths= 0.5, linecolor=\"violet\", fmt=\".0f\", ax=ax, cmap=\"BuPu\")\n",
    "plt.xlabel(\"y_pred\")\n",
    "plt.ylabel(\"y_true\")\n",
    "plt.show()"
   ]
  },
  {
   "attachments": {},
   "cell_type": "markdown",
   "metadata": {
    "datalore": {
     "hide_input_from_viewers": false,
     "hide_output_from_viewers": false,
     "node_id": "a3z2xUxAH85R6ObGn2YSzl",
     "report_properties": {
      "y": 1177
     },
     "type": "MD"
    }
   },
   "source": [
    "This is the best model, we have a very low false positive and false negative with an accuracy of ~95%."
   ]
  },
  {
   "attachments": {},
   "cell_type": "markdown",
   "metadata": {
    "datalore": {
     "hide_input_from_viewers": false,
     "hide_output_from_viewers": false,
     "node_id": "LKoTymaJzR6nPLQNyLpolv",
     "report_properties": {
      "y": 1180
     },
     "type": "MD"
    }
   },
   "source": [
    "We are now taking the columns that had a main impact on our xgboost model and use them in a boxplot to try to  understand the impact they had on our model"
   ]
  },
  {
   "cell_type": "code",
   "execution_count": null,
   "metadata": {
    "datalore": {
     "hide_input_from_viewers": false,
     "hide_output_from_viewers": false,
     "node_id": "ZizvdMVD1sG2bF5F1VdsIw",
     "report_properties": {
      "y": 1183
     },
     "type": "CODE"
    }
   },
   "outputs": [
    {
     "data": {
      "image/png": "[encoded data removed]",
      "text/plain": [
       "<Figure size 3600x1440 with 1 Axes>"
      ]
     },
     "metadata": {},
     "output_type": "display_data"
    }
   ],
   "source": [
    "import seaborn as sns\n",
    "sns.set_style('whitegrid')\n",
    "ax= sns.boxplot(x='is_spam',y=impfea[0],data=df)\n",
    "ax = sns.stripplot(x=\"is_spam\", y=impfea[0],data=df)"
   ]
  },
  {
   "cell_type": "code",
   "execution_count": null,
   "metadata": {
    "datalore": {
     "hide_input_from_viewers": false,
     "hide_output_from_viewers": false,
     "node_id": "CiiSAxzdu6vh3Qdjj3Mym9",
     "report_properties": {
      "y": 1186
     },
     "type": "CODE"
    }
   },
   "outputs": [
    {
     "data": {
      "image/png": "[encoded data removed]",
      "text/plain": [
       "<Figure size 3600x1440 with 1 Axes>"
      ]
     },
     "metadata": {},
     "output_type": "display_data"
    }
   ],
   "source": [
    "import seaborn as sns\n",
    "sns.set_style('whitegrid')\n",
    "ax= sns.boxplot(x='is_spam',y=impfea[1],data=df)\n",
    "ax = sns.stripplot(x=\"is_spam\", y=impfea[1],data=df)"
   ]
  },
  {
   "cell_type": "code",
   "execution_count": null,
   "metadata": {
    "datalore": {
     "hide_input_from_viewers": false,
     "hide_output_from_viewers": false,
     "node_id": "HbD7zrzQRFyF6tWbh6OSEj",
     "report_properties": {
      "y": 1189
     },
     "type": "CODE"
    }
   },
   "outputs": [
    {
     "data": {
      "image/png": "[encoded data removed]",
      "text/plain": [
       "<Figure size 3600x1440 with 1 Axes>"
      ]
     },
     "metadata": {},
     "output_type": "display_data"
    }
   ],
   "source": [
    "import seaborn as sns\n",
    "sns.set_style('whitegrid')\n",
    "ax= sns.boxplot(x='is_spam',y=impfea[2],data=df)\n",
    "ax = sns.stripplot(x=\"is_spam\", y=impfea[2],data=df)"
   ]
  },
  {
   "attachments": {},
   "cell_type": "markdown",
   "metadata": {
    "datalore": {
     "hide_input_from_viewers": false,
     "hide_output_from_viewers": false,
     "node_id": "tt2Lk1f6qcMVo4wlDsf6bn",
     "report_properties": {
      "y": 1192
     },
     "type": "MD"
    }
   },
   "source": [
    "The common point between the three boxplots is the fact that each variable has at least one or more values that is much higher than the other ones. "
   ]
  },
  {
   "attachments": {},
   "cell_type": "markdown",
   "metadata": {
    "datalore": {
     "hide_input_from_viewers": false,
     "hide_output_from_viewers": false,
     "node_id": "aZVgMYbgel438kahU5GNnj",
     "report_properties": {
      "y": 1195
     },
     "type": "MD"
    }
   },
   "source": [
    "# IN CONCLUSION"
   ]
  },
  {
   "attachments": {},
   "cell_type": "markdown",
   "metadata": {
    "datalore": {
     "hide_input_from_viewers": false,
     "hide_output_from_viewers": false,
     "node_id": "7adMqBnYSQQ6ceQyaXgh7c",
     "report_properties": {
      "y": 1198
     },
     "type": "MD"
    }
   },
   "source": [
    "## KEY FEATURES ?"
   ]
  },
  {
   "cell_type": "code",
   "execution_count": null,
   "metadata": {
    "datalore": {
     "hide_input_from_viewers": false,
     "hide_output_from_viewers": false,
     "node_id": "j8s1CTl16A9Xr1Da7UACPh",
     "report_properties": {
      "y": 1201
     },
     "type": "CODE"
    }
   },
   "outputs": [
    {
     "name": "stdout",
     "output_type": "stream",
     "text": [
      "3 most used characters in this spam :  ['word_freq_remove', 'char_freq_$', 'char_freq_!']\n"
     ]
    }
   ],
   "source": [
    "print( '3 most used characters in this spam : ', impfea[0:3])"
   ]
  },
  {
   "attachments": {},
   "cell_type": "markdown",
   "metadata": {
    "datalore": {
     "hide_input_from_viewers": false,
     "hide_output_from_viewers": false,
     "node_id": "4qI3MUAd9LmPZlQEdQwyis",
     "report_properties": {
      "y": 1204
     },
     "type": "MD"
    }
   },
   "source": [
    "Recurrent features, here being :\n",
    "\n",
    "\n",
    "‘Remove’ : This may be linked to various spams for virus scanning apps / virus removal scams\n",
    "\n",
    "\n",
    "‘$’ : This may be linked to the fraudulent activities perpetrated by hackers, spread by spam\n",
    "\n",
    "\n",
    "‘!’ : This may symbolize excitement, and diplay an use of urgency in marketing"
   ]
  },
  {
   "cell_type": "code",
   "execution_count": null,
   "metadata": {
    "datalore": {
     "hide_input_from_viewers": false,
     "hide_output_from_viewers": false,
     "node_id": "TxLfnbEhmxOCJtLaFRJGi0",
     "report_properties": {
      "y": 1207
     },
     "type": "CODE"
    }
   },
   "outputs": [
    {
     "data": {
      "text/plain": [
       "random forest                          0.952174\n",
       "XGBoost                                0.950000\n",
       "logistic regression with gridsearch    0.925543\n",
       "gradient boosting                      0.917000\n",
       "Logistic Regression RFE                0.916304\n",
       "decision tree                          0.915217\n",
       "KNN                                    0.801087\n",
       "dtype: float64"
      ]
     },
     "execution_count": 74,
     "metadata": {},
     "output_type": "execute_result"
    }
   ],
   "source": [
    "accur = accur.max()\n",
    "accur.sort_values(ascending  = False)"
   ]
  },
  {
   "attachments": {},
   "cell_type": "markdown",
   "metadata": {
    "datalore": {
     "hide_input_from_viewers": false,
     "hide_output_from_viewers": false,
     "node_id": "8tmB8SZlj2uz4WBeYqbwHz",
     "report_properties": {
      "y": 1210
     },
     "type": "MD"
    }
   },
   "source": [
    "We can see that the best model is the Random Forest model, however the difference stays within the error margin: We may chose to prefer XGBoost, as it is more adaptable. Also, the trees are made little by little with transparency, the calculation is faster and the precision is usually more accurate than Random Forest. The worst model for our data here seems to be KNN."
   ]
  },
  {
   "cell_type": "code",
   "execution_count": null,
   "metadata": {
    "datalore": {
     "hide_input_from_viewers": true,
     "hide_output_from_viewers": true,
     "node_id": "2xCGPdSSlkCFT2lBEbSjCU",
     "type": "CODE"
    }
   },
   "outputs": [],
   "source": []
  }
 ],
 "metadata": {
  "datalore": {
   "base_environment": "default",
   "computation_mode": "JUPYTER",
   "package_manager": "pip",
   "packages": [],
   "version": 1
  },
  "kernelspec": {
   "display_name": "Python 3.10.4 ('esilv_1')",
   "language": "python",
   "name": "python3"
  },
  "language_info": {
   "codemirror_mode": {
    "name": "ipython",
    "version": 3
   },
   "file_extension": ".py",
   "mimetype": "text/x-python",
   "name": "python",
   "nbconvert_exporter": "python",
   "pygments_lexer": "ipython3",
   "version": "3.10.4"
  },
  "vscode": {
   "interpreter": {
    "hash": "f8b0e9e645351909eb7b09dcecf813f088c2a3f566bb36c1fe8b1965ecd7e8b7"
   }
  }
 },
 "nbformat": 4,
 "nbformat_minor": 4
}
